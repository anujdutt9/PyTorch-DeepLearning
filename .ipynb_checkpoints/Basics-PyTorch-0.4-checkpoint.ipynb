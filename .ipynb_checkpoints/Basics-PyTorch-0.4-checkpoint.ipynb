{
 "cells": [
  {
   "cell_type": "markdown",
   "metadata": {},
   "source": [
    "## PyToch Deep Learning Basics"
   ]
  },
  {
   "cell_type": "code",
   "execution_count": 1,
   "metadata": {},
   "outputs": [],
   "source": [
    "import torch"
   ]
  },
  {
   "cell_type": "code",
   "execution_count": 2,
   "metadata": {},
   "outputs": [],
   "source": [
    "# Define a Tensor\n",
    "x = torch.Tensor(2,3)"
   ]
  },
  {
   "cell_type": "markdown",
   "metadata": {},
   "source": [
    "The above line creates a tensor of shape (2,3) => (rows,cols) filled with zero float values."
   ]
  },
  {
   "cell_type": "code",
   "execution_count": 3,
   "metadata": {},
   "outputs": [
    {
     "data": {
      "text/plain": [
       "tensor([[                             0., 158456325028528675187087900672.,\n",
       "                                      0.],\n",
       "        [158456325028528675187087900672.,                      223346720.,\n",
       "                              223692192.]])"
      ]
     },
     "execution_count": 3,
     "metadata": {},
     "output_type": "execute_result"
    }
   ],
   "source": [
    "x"
   ]
  },
  {
   "cell_type": "code",
   "execution_count": 4,
   "metadata": {},
   "outputs": [],
   "source": [
    "# Tensors filled with random values\n",
    "y = torch.rand(2,3)"
   ]
  },
  {
   "cell_type": "code",
   "execution_count": 5,
   "metadata": {},
   "outputs": [
    {
     "data": {
      "text/plain": [
       "tensor([[0.7468, 0.5394, 0.6498],\n",
       "        [0.3254, 0.7638, 0.5421]])"
      ]
     },
     "execution_count": 5,
     "metadata": {},
     "output_type": "execute_result"
    }
   ],
   "source": [
    "y"
   ]
  },
  {
   "cell_type": "code",
   "execution_count": 6,
   "metadata": {},
   "outputs": [],
   "source": [
    "# Multiplication and addition of tensors\n",
    "x1 = torch.ones(2,3)\n",
    "y1 = torch.ones(2,3) * 9"
   ]
  },
  {
   "cell_type": "code",
   "execution_count": 7,
   "metadata": {},
   "outputs": [
    {
     "data": {
      "text/plain": [
       "tensor([[10., 10., 10.],\n",
       "        [10., 10., 10.]])"
      ]
     },
     "execution_count": 7,
     "metadata": {},
     "output_type": "execute_result"
    }
   ],
   "source": [
    "x1 + y1"
   ]
  },
  {
   "cell_type": "code",
   "execution_count": 8,
   "metadata": {},
   "outputs": [
    {
     "data": {
      "text/plain": [
       "tensor([[1., 1., 1.],\n",
       "        [1., 1., 1.]])"
      ]
     },
     "execution_count": 8,
     "metadata": {},
     "output_type": "execute_result"
    }
   ],
   "source": [
    "x1"
   ]
  },
  {
   "cell_type": "code",
   "execution_count": 9,
   "metadata": {},
   "outputs": [
    {
     "data": {
      "text/plain": [
       "tensor([[9., 9., 9.],\n",
       "        [9., 9., 9.]])"
      ]
     },
     "execution_count": 9,
     "metadata": {},
     "output_type": "execute_result"
    }
   ],
   "source": [
    "y1"
   ]
  },
  {
   "cell_type": "code",
   "execution_count": 10,
   "metadata": {},
   "outputs": [],
   "source": [
    "# Numpy Slice Functionality is also available\n",
    "y1[:,1] = y1[:,1] + 1"
   ]
  },
  {
   "cell_type": "code",
   "execution_count": 11,
   "metadata": {},
   "outputs": [
    {
     "data": {
      "text/plain": [
       "tensor([[ 9., 10.,  9.],\n",
       "        [ 9., 10.,  9.]])"
      ]
     },
     "execution_count": 11,
     "metadata": {},
     "output_type": "execute_result"
    }
   ],
   "source": [
    "y1"
   ]
  },
  {
   "cell_type": "markdown",
   "metadata": {},
   "source": [
    "### Autograd in PyTorch"
   ]
  },
  {
   "cell_type": "code",
   "execution_count": 12,
   "metadata": {},
   "outputs": [],
   "source": [
    "# Import Dependencies\n",
    "from torch.autograd import Variable"
   ]
  },
  {
   "cell_type": "code",
   "execution_count": 13,
   "metadata": {},
   "outputs": [],
   "source": [
    "# Define a Variable from a Tensor\n",
    "x = Variable(torch.ones(2,2) * 3, requires_grad=True)"
   ]
  },
  {
   "cell_type": "code",
   "execution_count": 14,
   "metadata": {},
   "outputs": [
    {
     "data": {
      "text/plain": [
       "tensor([[3., 3.],\n",
       "        [3., 3.]], requires_grad=True)"
      ]
     },
     "execution_count": 14,
     "metadata": {},
     "output_type": "execute_result"
    }
   ],
   "source": [
    "x"
   ]
  },
  {
   "cell_type": "markdown",
   "metadata": {},
   "source": [
    "In the above code line, we define a Variable using PyTorch. We give it the tensor of (2,2) Ones and multiply by 3. Then we set the \"requires_grad\" flag to True. Setting this flag to true means that this Variable is trainable and when we do a backpropagation on this Variable, we'll see the gradients being updated and the change in weights."
   ]
  },
  {
   "cell_type": "code",
   "execution_count": 15,
   "metadata": {},
   "outputs": [],
   "source": [
    "# New Variable using Previous Variable\n",
    "z = 2 * (x * x) + 9 * x"
   ]
  },
  {
   "cell_type": "code",
   "execution_count": 16,
   "metadata": {},
   "outputs": [
    {
     "data": {
      "text/plain": [
       "tensor([[45., 45.],\n",
       "        [45., 45.]], grad_fn=<ThAddBackward>)"
      ]
     },
     "execution_count": 16,
     "metadata": {},
     "output_type": "execute_result"
    }
   ],
   "source": [
    "z"
   ]
  },
  {
   "cell_type": "markdown",
   "metadata": {},
   "source": [
    "z = 2 x^2 + 9x\n",
    "\n",
    "dz/dx = 4x + 9\n",
    "\n",
    "For, x = 3, \n",
    "\n",
    "Gradient:   dz/dx = 12 + 9 = 21"
   ]
  },
  {
   "cell_type": "code",
   "execution_count": 17,
   "metadata": {},
   "outputs": [],
   "source": [
    "# Compute the Gradients using Backpropagation\n",
    "# The backprop will be computed w.r.t some values, so we provide ones(2,2)\n",
    "# So, the calculation becomes: d/dx.\n",
    "z.backward(torch.ones(2,2))"
   ]
  },
  {
   "cell_type": "code",
   "execution_count": 18,
   "metadata": {},
   "outputs": [
    {
     "data": {
      "text/plain": [
       "tensor([[21., 21.],\n",
       "        [21., 21.]])"
      ]
     },
     "execution_count": 18,
     "metadata": {},
     "output_type": "execute_result"
    }
   ],
   "source": [
    "# Print the Gradients of x\n",
    "x.grad"
   ]
  },
  {
   "cell_type": "markdown",
   "metadata": {},
   "source": [
    "The computed gradient values match with the ones we derived above."
   ]
  },
  {
   "cell_type": "markdown",
   "metadata": {},
   "source": [
    "### Neural Network in PyTorch"
   ]
  },
  {
   "cell_type": "code",
   "execution_count": 19,
   "metadata": {},
   "outputs": [],
   "source": [
    "# Import Dependencies\n",
    "from torch import nn\n",
    "from torch.nn import functional"
   ]
  },
  {
   "cell_type": "code",
   "execution_count": 20,
   "metadata": {},
   "outputs": [],
   "source": [
    "# Define the Neural Network Class\n",
    "class neuralNetwork(nn.Module):\n",
    "    # Define the Skeleton of our Neural Network\n",
    "    # Initialize Layers every time\n",
    "    def __init__(self):\n",
    "        \n",
    "        # Overwrite the inherited Function with the Instance of base \"nn.Module\" Class\n",
    "        super(neuralNetwork, self).__init__()\n",
    "        \n",
    "        # Define the Layers of Neural Network\n",
    "        self.input_dim = 28*28\n",
    "        self.h1 = 200\n",
    "        self.h2 = 200\n",
    "        self.out = 10\n",
    "        \n",
    "        self.fc1 = nn.Linear(self.input_dim, self.h1)\n",
    "        self.fc2 = nn.Linear(self.h1, self.h2)\n",
    "        self.fc3 = nn.Linear(self.h2, self.out)\n",
    "        \n",
    "    # Overwrite the Dummy \"Forward\" method in the Base Class \"nn.Model\"\n",
    "    # Function to do the Forward Pass in the Neural Network\n",
    "    # x: Input Data\n",
    "    def forward(self,x):\n",
    "        # First Layer with ReLU Activation\n",
    "        x = functional.relu(self.fc1(x))\n",
    "        # Update x with second Layer Values\n",
    "        x = functional.relu(self.fc2(x))\n",
    "        # Output Layer with Softmax Activation for 10 Ouput Classes\n",
    "        x = self.fc3(x)\n",
    "        return functional.log_softmax(x)"
   ]
  },
  {
   "cell_type": "code",
   "execution_count": 21,
   "metadata": {},
   "outputs": [],
   "source": [
    "# Create an Instance of the Network\n",
    "model = neuralNetwork()"
   ]
  },
  {
   "cell_type": "code",
   "execution_count": 22,
   "metadata": {},
   "outputs": [
    {
     "data": {
      "text/plain": [
       "neuralNetwork(\n",
       "  (fc1): Linear(in_features=784, out_features=200, bias=True)\n",
       "  (fc2): Linear(in_features=200, out_features=200, bias=True)\n",
       "  (fc3): Linear(in_features=200, out_features=10, bias=True)\n",
       ")"
      ]
     },
     "execution_count": 22,
     "metadata": {},
     "output_type": "execute_result"
    }
   ],
   "source": [
    "# Print the Model Summary\n",
    "model"
   ]
  },
  {
   "cell_type": "code",
   "execution_count": 23,
   "metadata": {},
   "outputs": [],
   "source": [
    "# Train the Model\n",
    "from torch import optim"
   ]
  },
  {
   "cell_type": "code",
   "execution_count": 24,
   "metadata": {},
   "outputs": [],
   "source": [
    "# Learning Rate\n",
    "learning_rate = 0.01"
   ]
  },
  {
   "cell_type": "code",
   "execution_count": 25,
   "metadata": {},
   "outputs": [],
   "source": [
    "# Define Optimizer: Stochastic Gradient Descent\n",
    "# model.parameters(): Passes all the parameters of network to optimizer\n",
    "optimizer = optim.SGD(model.parameters(), lr=learning_rate, momentum=0.9)\n",
    "\n",
    "# Define Loss Function: Negative Log Likelihood\n",
    "loss = nn.NLLLoss()"
   ]
  },
  {
   "cell_type": "code",
   "execution_count": 26,
   "metadata": {},
   "outputs": [],
   "source": [
    "# Load Dataset\n",
    "from torchvision import datasets, transforms"
   ]
  },
  {
   "cell_type": "code",
   "execution_count": 27,
   "metadata": {},
   "outputs": [],
   "source": [
    "# Batch Size\n",
    "batch_size = 200\n",
    "\n",
    "# Epochs\n",
    "epochs = 10"
   ]
  },
  {
   "cell_type": "code",
   "execution_count": 28,
   "metadata": {},
   "outputs": [
    {
     "name": "stdout",
     "output_type": "stream",
     "text": [
      "Downloading http://yann.lecun.com/exdb/mnist/train-images-idx3-ubyte.gz\n",
      "Downloading http://yann.lecun.com/exdb/mnist/train-labels-idx1-ubyte.gz\n",
      "Downloading http://yann.lecun.com/exdb/mnist/t10k-images-idx3-ubyte.gz\n",
      "Downloading http://yann.lecun.com/exdb/mnist/t10k-labels-idx1-ubyte.gz\n",
      "Processing...\n",
      "Done!\n"
     ]
    }
   ],
   "source": [
    "# Load Training Dataset\n",
    "train_loader = torch.utils.data.DataLoader(datasets.MNIST('./dataset/', train=True, download=True,\n",
    "                                           transform=transforms.Compose([transforms.ToTensor(), transforms.Normalize((0.1307,), (0.3081,))])),\n",
    "                                           batch_size=batch_size, shuffle=True)\n",
    "    \n",
    "# Load Test Data\n",
    "test_loader = torch.utils.data.DataLoader(datasets.MNIST('./dataset/', train=False, \n",
    "                                                         transform=transforms.Compose([transforms.ToTensor(), transforms.Normalize((0.1307,), (0.3081,))])),\n",
    "                                          batch_size=batch_size, shuffle=True)"
   ]
  },
  {
   "cell_type": "code",
   "execution_count": 29,
   "metadata": {},
   "outputs": [
    {
     "name": "stderr",
     "output_type": "stream",
     "text": [
      "/Users/anujdutt/miniconda3/envs/deeplearning/lib/python3.6/site-packages/ipykernel_launcher.py:30: UserWarning: Implicit dimension choice for log_softmax has been deprecated. Change the call to include dim=X as an argument.\n",
      "/Users/anujdutt/miniconda3/envs/deeplearning/lib/python3.6/site-packages/ipykernel_launcher.py:25: UserWarning: invalid index of a 0-dim tensor. This will be an error in PyTorch 0.5. Use tensor.item() to convert a 0-dim tensor to a Python number\n"
     ]
    },
    {
     "name": "stdout",
     "output_type": "stream",
     "text": [
      "Train Epoch: 0 [0/60000 (0%)]\tLoss: 2.301098\n",
      "Train Epoch: 0 [2000/60000 (3%)]\tLoss: 2.192862\n",
      "Train Epoch: 0 [4000/60000 (7%)]\tLoss: 1.900262\n",
      "Train Epoch: 0 [6000/60000 (10%)]\tLoss: 1.337624\n",
      "Train Epoch: 0 [8000/60000 (13%)]\tLoss: 0.813726\n",
      "Train Epoch: 0 [10000/60000 (17%)]\tLoss: 0.661570\n",
      "Train Epoch: 0 [12000/60000 (20%)]\tLoss: 0.498665\n",
      "Train Epoch: 0 [14000/60000 (23%)]\tLoss: 0.394603\n",
      "Train Epoch: 0 [16000/60000 (27%)]\tLoss: 0.558531\n",
      "Train Epoch: 0 [18000/60000 (30%)]\tLoss: 0.433049\n",
      "Train Epoch: 0 [20000/60000 (33%)]\tLoss: 0.359768\n",
      "Train Epoch: 0 [22000/60000 (37%)]\tLoss: 0.329120\n",
      "Train Epoch: 0 [24000/60000 (40%)]\tLoss: 0.324234\n",
      "Train Epoch: 0 [26000/60000 (43%)]\tLoss: 0.293967\n",
      "Train Epoch: 0 [28000/60000 (47%)]\tLoss: 0.268840\n",
      "Train Epoch: 0 [30000/60000 (50%)]\tLoss: 0.312731\n",
      "Train Epoch: 0 [32000/60000 (53%)]\tLoss: 0.292616\n",
      "Train Epoch: 0 [34000/60000 (57%)]\tLoss: 0.431313\n",
      "Train Epoch: 0 [36000/60000 (60%)]\tLoss: 0.269733\n",
      "Train Epoch: 0 [38000/60000 (63%)]\tLoss: 0.363464\n",
      "Train Epoch: 0 [40000/60000 (67%)]\tLoss: 0.318117\n",
      "Train Epoch: 0 [42000/60000 (70%)]\tLoss: 0.228346\n",
      "Train Epoch: 0 [44000/60000 (73%)]\tLoss: 0.311960\n",
      "Train Epoch: 0 [46000/60000 (77%)]\tLoss: 0.248392\n",
      "Train Epoch: 0 [48000/60000 (80%)]\tLoss: 0.228334\n",
      "Train Epoch: 0 [50000/60000 (83%)]\tLoss: 0.259429\n",
      "Train Epoch: 0 [52000/60000 (87%)]\tLoss: 0.245404\n",
      "Train Epoch: 0 [54000/60000 (90%)]\tLoss: 0.157635\n",
      "Train Epoch: 0 [56000/60000 (93%)]\tLoss: 0.190614\n",
      "Train Epoch: 0 [58000/60000 (97%)]\tLoss: 0.245485\n",
      "Train Epoch: 1 [0/60000 (0%)]\tLoss: 0.357874\n",
      "Train Epoch: 1 [2000/60000 (3%)]\tLoss: 0.143324\n",
      "Train Epoch: 1 [4000/60000 (7%)]\tLoss: 0.196604\n",
      "Train Epoch: 1 [6000/60000 (10%)]\tLoss: 0.167587\n",
      "Train Epoch: 1 [8000/60000 (13%)]\tLoss: 0.260112\n",
      "Train Epoch: 1 [10000/60000 (17%)]\tLoss: 0.202395\n",
      "Train Epoch: 1 [12000/60000 (20%)]\tLoss: 0.177137\n",
      "Train Epoch: 1 [14000/60000 (23%)]\tLoss: 0.179696\n",
      "Train Epoch: 1 [16000/60000 (27%)]\tLoss: 0.200252\n",
      "Train Epoch: 1 [18000/60000 (30%)]\tLoss: 0.206122\n",
      "Train Epoch: 1 [20000/60000 (33%)]\tLoss: 0.214632\n",
      "Train Epoch: 1 [22000/60000 (37%)]\tLoss: 0.182868\n",
      "Train Epoch: 1 [24000/60000 (40%)]\tLoss: 0.265851\n",
      "Train Epoch: 1 [26000/60000 (43%)]\tLoss: 0.162878\n",
      "Train Epoch: 1 [28000/60000 (47%)]\tLoss: 0.208879\n",
      "Train Epoch: 1 [30000/60000 (50%)]\tLoss: 0.208121\n",
      "Train Epoch: 1 [32000/60000 (53%)]\tLoss: 0.124858\n",
      "Train Epoch: 1 [34000/60000 (57%)]\tLoss: 0.299887\n",
      "Train Epoch: 1 [36000/60000 (60%)]\tLoss: 0.221330\n",
      "Train Epoch: 1 [38000/60000 (63%)]\tLoss: 0.156497\n",
      "Train Epoch: 1 [40000/60000 (67%)]\tLoss: 0.174153\n",
      "Train Epoch: 1 [42000/60000 (70%)]\tLoss: 0.233346\n",
      "Train Epoch: 1 [44000/60000 (73%)]\tLoss: 0.233404\n",
      "Train Epoch: 1 [46000/60000 (77%)]\tLoss: 0.258849\n",
      "Train Epoch: 1 [48000/60000 (80%)]\tLoss: 0.154478\n",
      "Train Epoch: 1 [50000/60000 (83%)]\tLoss: 0.125345\n",
      "Train Epoch: 1 [52000/60000 (87%)]\tLoss: 0.119992\n",
      "Train Epoch: 1 [54000/60000 (90%)]\tLoss: 0.125564\n",
      "Train Epoch: 1 [56000/60000 (93%)]\tLoss: 0.180973\n",
      "Train Epoch: 1 [58000/60000 (97%)]\tLoss: 0.287554\n",
      "Train Epoch: 2 [0/60000 (0%)]\tLoss: 0.160619\n",
      "Train Epoch: 2 [2000/60000 (3%)]\tLoss: 0.149256\n",
      "Train Epoch: 2 [4000/60000 (7%)]\tLoss: 0.103421\n",
      "Train Epoch: 2 [6000/60000 (10%)]\tLoss: 0.236046\n",
      "Train Epoch: 2 [8000/60000 (13%)]\tLoss: 0.165241\n",
      "Train Epoch: 2 [10000/60000 (17%)]\tLoss: 0.130487\n",
      "Train Epoch: 2 [12000/60000 (20%)]\tLoss: 0.208486\n",
      "Train Epoch: 2 [14000/60000 (23%)]\tLoss: 0.159781\n",
      "Train Epoch: 2 [16000/60000 (27%)]\tLoss: 0.207039\n",
      "Train Epoch: 2 [18000/60000 (30%)]\tLoss: 0.085795\n",
      "Train Epoch: 2 [20000/60000 (33%)]\tLoss: 0.130893\n",
      "Train Epoch: 2 [22000/60000 (37%)]\tLoss: 0.105114\n",
      "Train Epoch: 2 [24000/60000 (40%)]\tLoss: 0.189418\n",
      "Train Epoch: 2 [26000/60000 (43%)]\tLoss: 0.128085\n",
      "Train Epoch: 2 [28000/60000 (47%)]\tLoss: 0.084700\n",
      "Train Epoch: 2 [30000/60000 (50%)]\tLoss: 0.170813\n",
      "Train Epoch: 2 [32000/60000 (53%)]\tLoss: 0.214993\n",
      "Train Epoch: 2 [34000/60000 (57%)]\tLoss: 0.082983\n",
      "Train Epoch: 2 [36000/60000 (60%)]\tLoss: 0.185005\n",
      "Train Epoch: 2 [38000/60000 (63%)]\tLoss: 0.129344\n",
      "Train Epoch: 2 [40000/60000 (67%)]\tLoss: 0.119160\n",
      "Train Epoch: 2 [42000/60000 (70%)]\tLoss: 0.077334\n",
      "Train Epoch: 2 [44000/60000 (73%)]\tLoss: 0.144649\n",
      "Train Epoch: 2 [46000/60000 (77%)]\tLoss: 0.097281\n",
      "Train Epoch: 2 [48000/60000 (80%)]\tLoss: 0.151257\n",
      "Train Epoch: 2 [50000/60000 (83%)]\tLoss: 0.188618\n",
      "Train Epoch: 2 [52000/60000 (87%)]\tLoss: 0.106583\n",
      "Train Epoch: 2 [54000/60000 (90%)]\tLoss: 0.117415\n",
      "Train Epoch: 2 [56000/60000 (93%)]\tLoss: 0.114792\n",
      "Train Epoch: 2 [58000/60000 (97%)]\tLoss: 0.204729\n",
      "Train Epoch: 3 [0/60000 (0%)]\tLoss: 0.130901\n",
      "Train Epoch: 3 [2000/60000 (3%)]\tLoss: 0.160561\n",
      "Train Epoch: 3 [4000/60000 (7%)]\tLoss: 0.108820\n",
      "Train Epoch: 3 [6000/60000 (10%)]\tLoss: 0.066638\n",
      "Train Epoch: 3 [8000/60000 (13%)]\tLoss: 0.123866\n",
      "Train Epoch: 3 [10000/60000 (17%)]\tLoss: 0.091344\n",
      "Train Epoch: 3 [12000/60000 (20%)]\tLoss: 0.147297\n",
      "Train Epoch: 3 [14000/60000 (23%)]\tLoss: 0.095806\n",
      "Train Epoch: 3 [16000/60000 (27%)]\tLoss: 0.084840\n",
      "Train Epoch: 3 [18000/60000 (30%)]\tLoss: 0.070443\n",
      "Train Epoch: 3 [20000/60000 (33%)]\tLoss: 0.097501\n",
      "Train Epoch: 3 [22000/60000 (37%)]\tLoss: 0.099571\n",
      "Train Epoch: 3 [24000/60000 (40%)]\tLoss: 0.104007\n",
      "Train Epoch: 3 [26000/60000 (43%)]\tLoss: 0.071686\n",
      "Train Epoch: 3 [28000/60000 (47%)]\tLoss: 0.110006\n",
      "Train Epoch: 3 [30000/60000 (50%)]\tLoss: 0.102762\n",
      "Train Epoch: 3 [32000/60000 (53%)]\tLoss: 0.136023\n",
      "Train Epoch: 3 [34000/60000 (57%)]\tLoss: 0.096854\n",
      "Train Epoch: 3 [36000/60000 (60%)]\tLoss: 0.186063\n",
      "Train Epoch: 3 [38000/60000 (63%)]\tLoss: 0.074694\n",
      "Train Epoch: 3 [40000/60000 (67%)]\tLoss: 0.083266\n",
      "Train Epoch: 3 [42000/60000 (70%)]\tLoss: 0.080715\n",
      "Train Epoch: 3 [44000/60000 (73%)]\tLoss: 0.111260\n",
      "Train Epoch: 3 [46000/60000 (77%)]\tLoss: 0.078975\n",
      "Train Epoch: 3 [48000/60000 (80%)]\tLoss: 0.071064\n",
      "Train Epoch: 3 [50000/60000 (83%)]\tLoss: 0.097658\n",
      "Train Epoch: 3 [52000/60000 (87%)]\tLoss: 0.059983\n",
      "Train Epoch: 3 [54000/60000 (90%)]\tLoss: 0.057222\n",
      "Train Epoch: 3 [56000/60000 (93%)]\tLoss: 0.086801\n",
      "Train Epoch: 3 [58000/60000 (97%)]\tLoss: 0.081326\n",
      "Train Epoch: 4 [0/60000 (0%)]\tLoss: 0.112018\n",
      "Train Epoch: 4 [2000/60000 (3%)]\tLoss: 0.116273\n",
      "Train Epoch: 4 [4000/60000 (7%)]\tLoss: 0.071245\n",
      "Train Epoch: 4 [6000/60000 (10%)]\tLoss: 0.061688\n",
      "Train Epoch: 4 [8000/60000 (13%)]\tLoss: 0.074214\n",
      "Train Epoch: 4 [10000/60000 (17%)]\tLoss: 0.075893\n",
      "Train Epoch: 4 [12000/60000 (20%)]\tLoss: 0.066782\n",
      "Train Epoch: 4 [14000/60000 (23%)]\tLoss: 0.058638\n",
      "Train Epoch: 4 [16000/60000 (27%)]\tLoss: 0.059437\n",
      "Train Epoch: 4 [18000/60000 (30%)]\tLoss: 0.079287\n",
      "Train Epoch: 4 [20000/60000 (33%)]\tLoss: 0.089543\n",
      "Train Epoch: 4 [22000/60000 (37%)]\tLoss: 0.069388\n",
      "Train Epoch: 4 [24000/60000 (40%)]\tLoss: 0.070300\n",
      "Train Epoch: 4 [26000/60000 (43%)]\tLoss: 0.114679\n",
      "Train Epoch: 4 [28000/60000 (47%)]\tLoss: 0.122506\n",
      "Train Epoch: 4 [30000/60000 (50%)]\tLoss: 0.104871\n",
      "Train Epoch: 4 [32000/60000 (53%)]\tLoss: 0.131883\n",
      "Train Epoch: 4 [34000/60000 (57%)]\tLoss: 0.100184\n",
      "Train Epoch: 4 [36000/60000 (60%)]\tLoss: 0.070311\n",
      "Train Epoch: 4 [38000/60000 (63%)]\tLoss: 0.119911\n",
      "Train Epoch: 4 [40000/60000 (67%)]\tLoss: 0.062659\n",
      "Train Epoch: 4 [42000/60000 (70%)]\tLoss: 0.067628\n",
      "Train Epoch: 4 [44000/60000 (73%)]\tLoss: 0.044951\n",
      "Train Epoch: 4 [46000/60000 (77%)]\tLoss: 0.118441\n",
      "Train Epoch: 4 [48000/60000 (80%)]\tLoss: 0.057697\n",
      "Train Epoch: 4 [50000/60000 (83%)]\tLoss: 0.073516\n",
      "Train Epoch: 4 [52000/60000 (87%)]\tLoss: 0.059812\n",
      "Train Epoch: 4 [54000/60000 (90%)]\tLoss: 0.094581\n",
      "Train Epoch: 4 [56000/60000 (93%)]\tLoss: 0.081367\n",
      "Train Epoch: 4 [58000/60000 (97%)]\tLoss: 0.037474\n",
      "Train Epoch: 5 [0/60000 (0%)]\tLoss: 0.085940\n",
      "Train Epoch: 5 [2000/60000 (3%)]\tLoss: 0.061961\n",
      "Train Epoch: 5 [4000/60000 (7%)]\tLoss: 0.040839\n",
      "Train Epoch: 5 [6000/60000 (10%)]\tLoss: 0.069249\n",
      "Train Epoch: 5 [8000/60000 (13%)]\tLoss: 0.132843\n",
      "Train Epoch: 5 [10000/60000 (17%)]\tLoss: 0.093283\n",
      "Train Epoch: 5 [12000/60000 (20%)]\tLoss: 0.016632\n",
      "Train Epoch: 5 [14000/60000 (23%)]\tLoss: 0.047569\n",
      "Train Epoch: 5 [16000/60000 (27%)]\tLoss: 0.053972\n",
      "Train Epoch: 5 [18000/60000 (30%)]\tLoss: 0.153341\n",
      "Train Epoch: 5 [20000/60000 (33%)]\tLoss: 0.096030\n",
      "Train Epoch: 5 [22000/60000 (37%)]\tLoss: 0.058228\n",
      "Train Epoch: 5 [24000/60000 (40%)]\tLoss: 0.063441\n",
      "Train Epoch: 5 [26000/60000 (43%)]\tLoss: 0.052525\n",
      "Train Epoch: 5 [28000/60000 (47%)]\tLoss: 0.035776\n",
      "Train Epoch: 5 [30000/60000 (50%)]\tLoss: 0.104973\n",
      "Train Epoch: 5 [32000/60000 (53%)]\tLoss: 0.056424\n"
     ]
    },
    {
     "name": "stdout",
     "output_type": "stream",
     "text": [
      "Train Epoch: 5 [34000/60000 (57%)]\tLoss: 0.039642\n",
      "Train Epoch: 5 [36000/60000 (60%)]\tLoss: 0.060773\n",
      "Train Epoch: 5 [38000/60000 (63%)]\tLoss: 0.052017\n",
      "Train Epoch: 5 [40000/60000 (67%)]\tLoss: 0.086259\n",
      "Train Epoch: 5 [42000/60000 (70%)]\tLoss: 0.046192\n",
      "Train Epoch: 5 [44000/60000 (73%)]\tLoss: 0.152275\n",
      "Train Epoch: 5 [46000/60000 (77%)]\tLoss: 0.070937\n",
      "Train Epoch: 5 [48000/60000 (80%)]\tLoss: 0.103859\n",
      "Train Epoch: 5 [50000/60000 (83%)]\tLoss: 0.089398\n",
      "Train Epoch: 5 [52000/60000 (87%)]\tLoss: 0.036821\n",
      "Train Epoch: 5 [54000/60000 (90%)]\tLoss: 0.097191\n",
      "Train Epoch: 5 [56000/60000 (93%)]\tLoss: 0.049618\n",
      "Train Epoch: 5 [58000/60000 (97%)]\tLoss: 0.041992\n",
      "Train Epoch: 6 [0/60000 (0%)]\tLoss: 0.082224\n",
      "Train Epoch: 6 [2000/60000 (3%)]\tLoss: 0.062341\n",
      "Train Epoch: 6 [4000/60000 (7%)]\tLoss: 0.044941\n",
      "Train Epoch: 6 [6000/60000 (10%)]\tLoss: 0.063665\n",
      "Train Epoch: 6 [8000/60000 (13%)]\tLoss: 0.102018\n",
      "Train Epoch: 6 [10000/60000 (17%)]\tLoss: 0.039021\n",
      "Train Epoch: 6 [12000/60000 (20%)]\tLoss: 0.052903\n",
      "Train Epoch: 6 [14000/60000 (23%)]\tLoss: 0.051496\n",
      "Train Epoch: 6 [16000/60000 (27%)]\tLoss: 0.039839\n",
      "Train Epoch: 6 [18000/60000 (30%)]\tLoss: 0.041781\n",
      "Train Epoch: 6 [20000/60000 (33%)]\tLoss: 0.077749\n",
      "Train Epoch: 6 [22000/60000 (37%)]\tLoss: 0.048906\n",
      "Train Epoch: 6 [24000/60000 (40%)]\tLoss: 0.030408\n",
      "Train Epoch: 6 [26000/60000 (43%)]\tLoss: 0.042770\n",
      "Train Epoch: 6 [28000/60000 (47%)]\tLoss: 0.085310\n",
      "Train Epoch: 6 [30000/60000 (50%)]\tLoss: 0.093821\n",
      "Train Epoch: 6 [32000/60000 (53%)]\tLoss: 0.031632\n",
      "Train Epoch: 6 [34000/60000 (57%)]\tLoss: 0.058114\n",
      "Train Epoch: 6 [36000/60000 (60%)]\tLoss: 0.049153\n",
      "Train Epoch: 6 [38000/60000 (63%)]\tLoss: 0.032805\n",
      "Train Epoch: 6 [40000/60000 (67%)]\tLoss: 0.040451\n",
      "Train Epoch: 6 [42000/60000 (70%)]\tLoss: 0.069491\n",
      "Train Epoch: 6 [44000/60000 (73%)]\tLoss: 0.049524\n",
      "Train Epoch: 6 [46000/60000 (77%)]\tLoss: 0.022827\n",
      "Train Epoch: 6 [48000/60000 (80%)]\tLoss: 0.085408\n",
      "Train Epoch: 6 [50000/60000 (83%)]\tLoss: 0.023631\n",
      "Train Epoch: 6 [52000/60000 (87%)]\tLoss: 0.015337\n",
      "Train Epoch: 6 [54000/60000 (90%)]\tLoss: 0.051133\n",
      "Train Epoch: 6 [56000/60000 (93%)]\tLoss: 0.071951\n",
      "Train Epoch: 6 [58000/60000 (97%)]\tLoss: 0.037177\n",
      "Train Epoch: 7 [0/60000 (0%)]\tLoss: 0.064278\n",
      "Train Epoch: 7 [2000/60000 (3%)]\tLoss: 0.032023\n",
      "Train Epoch: 7 [4000/60000 (7%)]\tLoss: 0.017673\n",
      "Train Epoch: 7 [6000/60000 (10%)]\tLoss: 0.052732\n",
      "Train Epoch: 7 [8000/60000 (13%)]\tLoss: 0.084001\n",
      "Train Epoch: 7 [10000/60000 (17%)]\tLoss: 0.012094\n",
      "Train Epoch: 7 [12000/60000 (20%)]\tLoss: 0.064416\n",
      "Train Epoch: 7 [14000/60000 (23%)]\tLoss: 0.025078\n",
      "Train Epoch: 7 [16000/60000 (27%)]\tLoss: 0.064093\n",
      "Train Epoch: 7 [18000/60000 (30%)]\tLoss: 0.021811\n",
      "Train Epoch: 7 [20000/60000 (33%)]\tLoss: 0.029507\n",
      "Train Epoch: 7 [22000/60000 (37%)]\tLoss: 0.054936\n",
      "Train Epoch: 7 [24000/60000 (40%)]\tLoss: 0.026655\n",
      "Train Epoch: 7 [26000/60000 (43%)]\tLoss: 0.032867\n",
      "Train Epoch: 7 [28000/60000 (47%)]\tLoss: 0.014799\n",
      "Train Epoch: 7 [30000/60000 (50%)]\tLoss: 0.053013\n",
      "Train Epoch: 7 [32000/60000 (53%)]\tLoss: 0.068303\n",
      "Train Epoch: 7 [34000/60000 (57%)]\tLoss: 0.132299\n",
      "Train Epoch: 7 [36000/60000 (60%)]\tLoss: 0.023341\n",
      "Train Epoch: 7 [38000/60000 (63%)]\tLoss: 0.013920\n",
      "Train Epoch: 7 [40000/60000 (67%)]\tLoss: 0.023679\n",
      "Train Epoch: 7 [42000/60000 (70%)]\tLoss: 0.111553\n",
      "Train Epoch: 7 [44000/60000 (73%)]\tLoss: 0.033962\n",
      "Train Epoch: 7 [46000/60000 (77%)]\tLoss: 0.067322\n",
      "Train Epoch: 7 [48000/60000 (80%)]\tLoss: 0.067441\n",
      "Train Epoch: 7 [50000/60000 (83%)]\tLoss: 0.039076\n",
      "Train Epoch: 7 [52000/60000 (87%)]\tLoss: 0.072091\n",
      "Train Epoch: 7 [54000/60000 (90%)]\tLoss: 0.058913\n",
      "Train Epoch: 7 [56000/60000 (93%)]\tLoss: 0.038529\n",
      "Train Epoch: 7 [58000/60000 (97%)]\tLoss: 0.077064\n",
      "Train Epoch: 8 [0/60000 (0%)]\tLoss: 0.036259\n",
      "Train Epoch: 8 [2000/60000 (3%)]\tLoss: 0.055120\n",
      "Train Epoch: 8 [4000/60000 (7%)]\tLoss: 0.024098\n",
      "Train Epoch: 8 [6000/60000 (10%)]\tLoss: 0.096793\n",
      "Train Epoch: 8 [8000/60000 (13%)]\tLoss: 0.015367\n",
      "Train Epoch: 8 [10000/60000 (17%)]\tLoss: 0.028948\n",
      "Train Epoch: 8 [12000/60000 (20%)]\tLoss: 0.060754\n",
      "Train Epoch: 8 [14000/60000 (23%)]\tLoss: 0.033762\n",
      "Train Epoch: 8 [16000/60000 (27%)]\tLoss: 0.086032\n",
      "Train Epoch: 8 [18000/60000 (30%)]\tLoss: 0.029906\n",
      "Train Epoch: 8 [20000/60000 (33%)]\tLoss: 0.054912\n",
      "Train Epoch: 8 [22000/60000 (37%)]\tLoss: 0.022618\n",
      "Train Epoch: 8 [24000/60000 (40%)]\tLoss: 0.050022\n",
      "Train Epoch: 8 [26000/60000 (43%)]\tLoss: 0.034394\n",
      "Train Epoch: 8 [28000/60000 (47%)]\tLoss: 0.053088\n",
      "Train Epoch: 8 [30000/60000 (50%)]\tLoss: 0.034467\n",
      "Train Epoch: 8 [32000/60000 (53%)]\tLoss: 0.020958\n",
      "Train Epoch: 8 [34000/60000 (57%)]\tLoss: 0.034553\n",
      "Train Epoch: 8 [36000/60000 (60%)]\tLoss: 0.020409\n",
      "Train Epoch: 8 [38000/60000 (63%)]\tLoss: 0.051203\n",
      "Train Epoch: 8 [40000/60000 (67%)]\tLoss: 0.034556\n",
      "Train Epoch: 8 [42000/60000 (70%)]\tLoss: 0.039419\n",
      "Train Epoch: 8 [44000/60000 (73%)]\tLoss: 0.020426\n",
      "Train Epoch: 8 [46000/60000 (77%)]\tLoss: 0.021347\n",
      "Train Epoch: 8 [48000/60000 (80%)]\tLoss: 0.066231\n",
      "Train Epoch: 8 [50000/60000 (83%)]\tLoss: 0.032378\n",
      "Train Epoch: 8 [52000/60000 (87%)]\tLoss: 0.075361\n",
      "Train Epoch: 8 [54000/60000 (90%)]\tLoss: 0.051849\n",
      "Train Epoch: 8 [56000/60000 (93%)]\tLoss: 0.105046\n",
      "Train Epoch: 8 [58000/60000 (97%)]\tLoss: 0.025456\n",
      "Train Epoch: 9 [0/60000 (0%)]\tLoss: 0.013863\n",
      "Train Epoch: 9 [2000/60000 (3%)]\tLoss: 0.031505\n",
      "Train Epoch: 9 [4000/60000 (7%)]\tLoss: 0.027728\n",
      "Train Epoch: 9 [6000/60000 (10%)]\tLoss: 0.033653\n",
      "Train Epoch: 9 [8000/60000 (13%)]\tLoss: 0.019204\n",
      "Train Epoch: 9 [10000/60000 (17%)]\tLoss: 0.053345\n",
      "Train Epoch: 9 [12000/60000 (20%)]\tLoss: 0.043784\n",
      "Train Epoch: 9 [14000/60000 (23%)]\tLoss: 0.021341\n",
      "Train Epoch: 9 [16000/60000 (27%)]\tLoss: 0.011754\n",
      "Train Epoch: 9 [18000/60000 (30%)]\tLoss: 0.057893\n",
      "Train Epoch: 9 [20000/60000 (33%)]\tLoss: 0.020216\n",
      "Train Epoch: 9 [22000/60000 (37%)]\tLoss: 0.043032\n",
      "Train Epoch: 9 [24000/60000 (40%)]\tLoss: 0.026651\n",
      "Train Epoch: 9 [26000/60000 (43%)]\tLoss: 0.030984\n",
      "Train Epoch: 9 [28000/60000 (47%)]\tLoss: 0.031817\n",
      "Train Epoch: 9 [30000/60000 (50%)]\tLoss: 0.041267\n",
      "Train Epoch: 9 [32000/60000 (53%)]\tLoss: 0.016888\n",
      "Train Epoch: 9 [34000/60000 (57%)]\tLoss: 0.032956\n",
      "Train Epoch: 9 [36000/60000 (60%)]\tLoss: 0.036030\n",
      "Train Epoch: 9 [38000/60000 (63%)]\tLoss: 0.049273\n",
      "Train Epoch: 9 [40000/60000 (67%)]\tLoss: 0.016311\n",
      "Train Epoch: 9 [42000/60000 (70%)]\tLoss: 0.061475\n",
      "Train Epoch: 9 [44000/60000 (73%)]\tLoss: 0.054245\n",
      "Train Epoch: 9 [46000/60000 (77%)]\tLoss: 0.037822\n",
      "Train Epoch: 9 [48000/60000 (80%)]\tLoss: 0.023380\n",
      "Train Epoch: 9 [50000/60000 (83%)]\tLoss: 0.044101\n",
      "Train Epoch: 9 [52000/60000 (87%)]\tLoss: 0.021059\n",
      "Train Epoch: 9 [54000/60000 (90%)]\tLoss: 0.013410\n",
      "Train Epoch: 9 [56000/60000 (93%)]\tLoss: 0.055282\n",
      "Train Epoch: 9 [58000/60000 (97%)]\tLoss: 0.028837\n"
     ]
    }
   ],
   "source": [
    "# Train the Model\n",
    "for epoch in range(epochs):\n",
    "    for batch_idx, (data, target) in enumerate(train_loader):\n",
    "        # Convert MNIST Images [data] and Labels [target] into PyTorch Variables\n",
    "        data, target = Variable(data), Variable(target)\n",
    "        # Flatten out / Reshape the data from (batch_size, 1, 28, 28) to (batch_size, 28*28)\n",
    "        data = data.view(-1,28*28)\n",
    "        # Initialize all Gradients with Zeros before running so that it is ready for the next backpropagation pass\n",
    "        optimizer.zero_grad()\n",
    "        # Get the Softmax Output from the Neural Network Class Forward() function\n",
    "        # data: batch of input data\n",
    "        output = model(data)\n",
    "        # Calculate the Loss at Output [Negative Log Likelihood Loss]\n",
    "        # Output: Output of the Model, Target: Original Label\n",
    "        loss_val = loss(output, target)\n",
    "        # Backpropagate the Loss throughout the Neural Network\n",
    "        loss_val.backward()\n",
    "        # Execute Gradient Descent Step based on the Gradients Calculated above\n",
    "        optimizer.step()\n",
    "        \n",
    "        # Print Training Results after Every 10 Iterations\n",
    "        if batch_idx % 10 == 0:\n",
    "                print('Train Epoch: {} [{}/{} ({:.0f}%)]\\tLoss: {:.6f}'.format(\n",
    "                    epoch, batch_idx * len(data), len(train_loader.dataset),\n",
    "                           100. * batch_idx / len(train_loader), loss_val.data[0]))"
   ]
  },
  {
   "cell_type": "markdown",
   "metadata": {},
   "source": [
    "In the lines above, we run through the code using a nested for loop. On one hand the outer for loop takes all the images and goes through the training process for each epoch, the inner for loop loads the data and runs through the entire training set in batch_sizes that we have defined above."
   ]
  },
  {
   "cell_type": "code",
   "execution_count": 30,
   "metadata": {},
   "outputs": [],
   "source": [
    "# Test the Trained Model\n",
    "test_loss = 0\n",
    "correct_predictions = 0"
   ]
  },
  {
   "cell_type": "code",
   "execution_count": 31,
   "metadata": {},
   "outputs": [
    {
     "name": "stderr",
     "output_type": "stream",
     "text": [
      "/Users/anujdutt/miniconda3/envs/deeplearning/lib/python3.6/site-packages/ipykernel_launcher.py:3: UserWarning: volatile was removed and now has no effect. Use `with torch.no_grad():` instead.\n",
      "  This is separate from the ipykernel package so we can avoid doing imports until\n",
      "/Users/anujdutt/miniconda3/envs/deeplearning/lib/python3.6/site-packages/ipykernel_launcher.py:30: UserWarning: Implicit dimension choice for log_softmax has been deprecated. Change the call to include dim=X as an argument.\n",
      "/Users/anujdutt/miniconda3/envs/deeplearning/lib/python3.6/site-packages/ipykernel_launcher.py:7: UserWarning: invalid index of a 0-dim tensor. This will be an error in PyTorch 0.5. Use tensor.item() to convert a 0-dim tensor to a Python number\n",
      "  import sys\n"
     ]
    }
   ],
   "source": [
    "# Loop through the Test Data and Get the Trained Model Accuracy\n",
    "for data, target in test_loader:\n",
    "    data, target = Variable(data, volatile=True), Variable(target)\n",
    "    data = data.view(-1,28*28)\n",
    "    output = model(data)\n",
    "    # Batch Loss\n",
    "    test_loss += loss(output, target).data[0]\n",
    "    # Index of Max Log Probability\n",
    "    # .max(): returns index of max value in a certain dimension of tensor\n",
    "    # That index represents the digit label [0,1,2,3,4,5,6,7,8,9]\n",
    "    # .max(1): returns max value in 2nd dimension\n",
    "    # .max(0): returns both max value and it's index value\n",
    "    pred = output.data.max(1)[1]\n",
    "    # Get Number of Correct Predictions\n",
    "    correct_predictions += pred.eq(target.data).sum()"
   ]
  },
  {
   "cell_type": "code",
   "execution_count": 32,
   "metadata": {},
   "outputs": [
    {
     "name": "stdout",
     "output_type": "stream",
     "text": [
      "\n",
      "Test set: Average loss: 0.0003, Accuracy: 9784/10000 (97%)\n",
      "\n"
     ]
    }
   ],
   "source": [
    "# Average Loss\n",
    "test_loss /= len(test_loader.dataset)\n",
    "\n",
    "print('\\nTest set: Average loss: {:.4f}, Accuracy: {}/{} ({:.0f}%)\\n'.format(\n",
    "        test_loss, correct_predictions, len(test_loader.dataset),\n",
    "        100. * correct_predictions / len(test_loader.dataset)))"
   ]
  },
  {
   "cell_type": "markdown",
   "metadata": {},
   "source": [
    "So, we see that this simple model gets us to an accuracy of 98% for the MNIST dataset."
   ]
  }
 ],
 "metadata": {
  "kernelspec": {
   "display_name": "Python 3",
   "language": "python",
   "name": "python3"
  },
  "language_info": {
   "codemirror_mode": {
    "name": "ipython",
    "version": 3
   },
   "file_extension": ".py",
   "mimetype": "text/x-python",
   "name": "python",
   "nbconvert_exporter": "python",
   "pygments_lexer": "ipython3",
   "version": "3.6.6"
  }
 },
 "nbformat": 4,
 "nbformat_minor": 2
}
