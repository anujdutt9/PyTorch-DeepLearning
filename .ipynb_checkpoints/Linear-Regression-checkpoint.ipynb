{
 "cells": [
  {
   "cell_type": "markdown",
   "metadata": {},
   "source": [
    "Let us assume that the equation we are trying to model is:\n",
    "\n",
    "    y = 2x + 1\n",
    "\n",
    "i.e.\n",
    "\n",
    "    alpha = 2\n",
    "    beta = 1\n",
    "    \n",
    "then, \n",
    "\n",
    "    y = alpha * x + beta"
   ]
  },
  {
   "cell_type": "code",
   "execution_count": 1,
   "metadata": {},
   "outputs": [],
   "source": [
    "# Import Dependencies\n",
    "import numpy as np\n",
    "import matplotlib.pyplot as plt\n",
    "%matplotlib inline"
   ]
  },
  {
   "cell_type": "code",
   "execution_count": 2,
   "metadata": {},
   "outputs": [
    {
     "data": {
      "text/plain": [
       "[0, 1, 2, 3, 4, 5, 6, 7, 8, 9, 10]"
      ]
     },
     "execution_count": 2,
     "metadata": {},
     "output_type": "execute_result"
    }
   ],
   "source": [
    "# Build a Toy Dataset\n",
    "x = [i for i in range(11)]\n",
    "x"
   ]
  },
  {
   "cell_type": "code",
   "execution_count": 3,
   "metadata": {},
   "outputs": [
    {
     "data": {
      "text/plain": [
       "array([ 0.,  1.,  2.,  3.,  4.,  5.,  6.,  7.,  8.,  9., 10.],\n",
       "      dtype=float32)"
      ]
     },
     "execution_count": 3,
     "metadata": {},
     "output_type": "execute_result"
    }
   ],
   "source": [
    "# Conver to numpy array\n",
    "x_train = np.array(x, dtype=np.float32)\n",
    "x_train"
   ]
  },
  {
   "cell_type": "code",
   "execution_count": 4,
   "metadata": {},
   "outputs": [
    {
     "data": {
      "text/plain": [
       "(11,)"
      ]
     },
     "execution_count": 4,
     "metadata": {},
     "output_type": "execute_result"
    }
   ],
   "source": [
    "x_train.shape"
   ]
  },
  {
   "cell_type": "code",
   "execution_count": 5,
   "metadata": {},
   "outputs": [
    {
     "data": {
      "text/plain": [
       "(11, 1)"
      ]
     },
     "execution_count": 5,
     "metadata": {},
     "output_type": "execute_result"
    }
   ],
   "source": [
    "# Reshape array to be a 2D array\n",
    "x_train = x_train.reshape(-1,1)\n",
    "x_train.shape"
   ]
  },
  {
   "cell_type": "code",
   "execution_count": 6,
   "metadata": {},
   "outputs": [
    {
     "data": {
      "text/plain": [
       "[1, 3, 5, 7, 9, 11, 13, 15, 17, 19, 21]"
      ]
     },
     "execution_count": 6,
     "metadata": {},
     "output_type": "execute_result"
    }
   ],
   "source": [
    "# y values\n",
    "y = [2*i + 1 for i in x]\n",
    "y"
   ]
  },
  {
   "cell_type": "code",
   "execution_count": 7,
   "metadata": {},
   "outputs": [
    {
     "data": {
      "text/plain": [
       "array([[ 1.],\n",
       "       [ 3.],\n",
       "       [ 5.],\n",
       "       [ 7.],\n",
       "       [ 9.],\n",
       "       [11.],\n",
       "       [13.],\n",
       "       [15.],\n",
       "       [17.],\n",
       "       [19.],\n",
       "       [21.]], dtype=float32)"
      ]
     },
     "execution_count": 7,
     "metadata": {},
     "output_type": "execute_result"
    }
   ],
   "source": [
    "# Convert to numpy and reshape\n",
    "y_train = np.array(y, dtype=np.float32).reshape(-1,1)\n",
    "y_train"
   ]
  },
  {
   "cell_type": "code",
   "execution_count": 8,
   "metadata": {},
   "outputs": [
    {
     "data": {
      "text/plain": [
       "(11, 1)"
      ]
     },
     "execution_count": 8,
     "metadata": {},
     "output_type": "execute_result"
    }
   ],
   "source": [
    "y_train.shape"
   ]
  },
  {
   "cell_type": "markdown",
   "metadata": {},
   "source": [
    "### Create Linear Regression Model"
   ]
  },
  {
   "cell_type": "code",
   "execution_count": 9,
   "metadata": {},
   "outputs": [],
   "source": [
    "# Import Dependencies\n",
    "import torch\n",
    "import torch.nn as nn\n",
    "from torch.autograd import Variable"
   ]
  },
  {
   "cell_type": "code",
   "execution_count": 10,
   "metadata": {},
   "outputs": [],
   "source": [
    "# Linear Regression Class\n",
    "class LinearRegressionModel(nn.Module):\n",
    "    \n",
    "    def __init__(self, input_dim, output_dim):\n",
    "        # define super to inherit from nn.Module\n",
    "        super(LinearRegressionModel, self).__init__()\n",
    "        # define linear function where input_dim: \"x\" and output_dim: \"y\"\n",
    "        self.linear = nn.Linear(input_dim, output_dim)\n",
    "    \n",
    "    # Forward Pass\n",
    "    # Input: values in \"x\"\n",
    "    # Return: estimated value of \"y\" i.e. \"y_hat\"\n",
    "    def forward(self,x):\n",
    "        out = self.linear(x)\n",
    "        return out"
   ]
  },
  {
   "cell_type": "code",
   "execution_count": 11,
   "metadata": {},
   "outputs": [],
   "source": [
    "# Instantiate the Model\n",
    "model = LinearRegressionModel(input_dim=1, output_dim=1)"
   ]
  },
  {
   "cell_type": "code",
   "execution_count": 12,
   "metadata": {},
   "outputs": [],
   "source": [
    "# Define the Loss Criteria\n",
    "# Mean Squared Error loss\n",
    "loss_criterion = nn.MSELoss()"
   ]
  },
  {
   "cell_type": "code",
   "execution_count": 13,
   "metadata": {},
   "outputs": [],
   "source": [
    "# Learning Rate\n",
    "lr = 0.01\n",
    "\n",
    "# Optimizer\n",
    "optimizer = torch.optim.SGD(model.parameters(), lr=lr)\n",
    "\n",
    "# Epochs\n",
    "epochs = 200"
   ]
  },
  {
   "cell_type": "code",
   "execution_count": 14,
   "metadata": {},
   "outputs": [
    {
     "name": "stdout",
     "output_type": "stream",
     "text": [
      "Epoch: 0\t Loss: 281.3323059082031\n",
      "Epoch: 1\t Loss: 22.96106719970703\n",
      "Epoch: 2\t Loss: 1.8863778114318848\n",
      "Epoch: 3\t Loss: 0.16723263263702393\n",
      "Epoch: 4\t Loss: 0.026858065277338028\n",
      "Epoch: 5\t Loss: 0.015260419808328152\n",
      "Epoch: 6\t Loss: 0.014168509282171726\n",
      "Epoch: 7\t Loss: 0.013935116119682789\n",
      "Epoch: 8\t Loss: 0.013773325830698013\n",
      "Epoch: 9\t Loss: 0.013619082048535347\n",
      "Epoch: 10\t Loss: 0.013466930948197842\n",
      "Epoch: 11\t Loss: 0.013316559605300426\n",
      "Epoch: 12\t Loss: 0.013167844153940678\n",
      "Epoch: 13\t Loss: 0.013020824640989304\n",
      "Epoch: 14\t Loss: 0.012875440530478954\n",
      "Epoch: 15\t Loss: 0.01273166760802269\n",
      "Epoch: 16\t Loss: 0.012589444406330585\n",
      "Epoch: 17\t Loss: 0.012448934838175774\n",
      "Epoch: 18\t Loss: 0.012309843674302101\n",
      "Epoch: 19\t Loss: 0.012172467075288296\n",
      "Epoch: 20\t Loss: 0.012036453001201153\n",
      "Epoch: 21\t Loss: 0.011902091093361378\n",
      "Epoch: 22\t Loss: 0.011769160628318787\n",
      "Epoch: 23\t Loss: 0.01163776870816946\n",
      "Epoch: 24\t Loss: 0.011507785879075527\n",
      "Epoch: 25\t Loss: 0.01137926522642374\n",
      "Epoch: 26\t Loss: 0.011252205818891525\n",
      "Epoch: 27\t Loss: 0.011126597411930561\n",
      "Epoch: 28\t Loss: 0.01100232359021902\n",
      "Epoch: 29\t Loss: 0.010879462584853172\n",
      "Epoch: 30\t Loss: 0.010758009739220142\n",
      "Epoch: 31\t Loss: 0.010637838393449783\n",
      "Epoch: 32\t Loss: 0.010519081726670265\n",
      "Epoch: 33\t Loss: 0.010401621460914612\n",
      "Epoch: 34\t Loss: 0.010285414755344391\n",
      "Epoch: 35\t Loss: 0.010170572437345982\n",
      "Epoch: 36\t Loss: 0.010057020001113415\n",
      "Epoch: 37\t Loss: 0.009944678284227848\n",
      "Epoch: 38\t Loss: 0.009833631105720997\n",
      "Epoch: 39\t Loss: 0.009723789058625698\n",
      "Epoch: 40\t Loss: 0.009615234099328518\n",
      "Epoch: 41\t Loss: 0.009507830254733562\n",
      "Epoch: 42\t Loss: 0.009401693940162659\n",
      "Epoch: 43\t Loss: 0.009296666830778122\n",
      "Epoch: 44\t Loss: 0.009192882105708122\n",
      "Epoch: 45\t Loss: 0.009090198203921318\n",
      "Epoch: 46\t Loss: 0.008988744579255581\n",
      "Epoch: 47\t Loss: 0.008888401091098785\n",
      "Epoch: 48\t Loss: 0.008789067156612873\n",
      "Epoch: 49\t Loss: 0.008690938353538513\n",
      "Epoch: 50\t Loss: 0.008593922480940819\n",
      "Epoch: 51\t Loss: 0.008497925475239754\n",
      "Epoch: 52\t Loss: 0.008403012529015541\n",
      "Epoch: 53\t Loss: 0.00830924790352583\n",
      "Epoch: 54\t Loss: 0.008216401562094688\n",
      "Epoch: 55\t Loss: 0.008124682120978832\n",
      "Epoch: 56\t Loss: 0.008033967576920986\n",
      "Epoch: 57\t Loss: 0.007944227196276188\n",
      "Epoch: 58\t Loss: 0.007855554111301899\n",
      "Epoch: 59\t Loss: 0.007767760194838047\n",
      "Epoch: 60\t Loss: 0.007681019604206085\n",
      "Epoch: 61\t Loss: 0.007595290429890156\n",
      "Epoch: 62\t Loss: 0.007510434370487928\n",
      "Epoch: 63\t Loss: 0.00742660416290164\n",
      "Epoch: 64\t Loss: 0.00734363729134202\n",
      "Epoch: 65\t Loss: 0.007261676713824272\n",
      "Epoch: 66\t Loss: 0.007180563174188137\n",
      "Epoch: 67\t Loss: 0.007100380957126617\n",
      "Epoch: 68\t Loss: 0.007021117955446243\n",
      "Epoch: 69\t Loss: 0.006942685227841139\n",
      "Epoch: 70\t Loss: 0.006865187082439661\n",
      "Epoch: 71\t Loss: 0.006788517814129591\n",
      "Epoch: 72\t Loss: 0.006712701637297869\n",
      "Epoch: 73\t Loss: 0.006637745536863804\n",
      "Epoch: 74\t Loss: 0.006563609931617975\n",
      "Epoch: 75\t Loss: 0.0064903018064796925\n",
      "Epoch: 76\t Loss: 0.006417856551706791\n",
      "Epoch: 77\t Loss: 0.006346205715090036\n",
      "Epoch: 78\t Loss: 0.006275312043726444\n",
      "Epoch: 79\t Loss: 0.006205243058502674\n",
      "Epoch: 80\t Loss: 0.006135969422757626\n",
      "Epoch: 81\t Loss: 0.006067440379410982\n",
      "Epoch: 82\t Loss: 0.005999685265123844\n",
      "Epoch: 83\t Loss: 0.005932693835347891\n",
      "Epoch: 84\t Loss: 0.005866432096809149\n",
      "Epoch: 85\t Loss: 0.005800952669233084\n",
      "Epoch: 86\t Loss: 0.005736138671636581\n",
      "Epoch: 87\t Loss: 0.005672100465744734\n",
      "Epoch: 88\t Loss: 0.005608749575912952\n",
      "Epoch: 89\t Loss: 0.005546143278479576\n",
      "Epoch: 90\t Loss: 0.005484210327267647\n",
      "Epoch: 91\t Loss: 0.005422941874712706\n",
      "Epoch: 92\t Loss: 0.0053624254651367664\n",
      "Epoch: 93\t Loss: 0.005302537232637405\n",
      "Epoch: 94\t Loss: 0.005243311636149883\n",
      "Epoch: 95\t Loss: 0.005184743087738752\n",
      "Epoch: 96\t Loss: 0.005126854870468378\n",
      "Epoch: 97\t Loss: 0.005069597624242306\n",
      "Epoch: 98\t Loss: 0.005012981127947569\n",
      "Epoch: 99\t Loss: 0.004957012366503477\n",
      "Epoch: 100\t Loss: 0.00490163080394268\n",
      "Epoch: 101\t Loss: 0.00484692445024848\n",
      "Epoch: 102\t Loss: 0.00479279737919569\n",
      "Epoch: 103\t Loss: 0.004739255644381046\n",
      "Epoch: 104\t Loss: 0.00468633696436882\n",
      "Epoch: 105\t Loss: 0.004634018521755934\n",
      "Epoch: 106\t Loss: 0.004582276102155447\n",
      "Epoch: 107\t Loss: 0.0045311045832931995\n",
      "Epoch: 108\t Loss: 0.004480469040572643\n",
      "Epoch: 109\t Loss: 0.004430457949638367\n",
      "Epoch: 110\t Loss: 0.004381006583571434\n",
      "Epoch: 111\t Loss: 0.0043320609256625175\n",
      "Epoch: 112\t Loss: 0.004283660091459751\n",
      "Epoch: 113\t Loss: 0.004235860425978899\n",
      "Epoch: 114\t Loss: 0.004188548307865858\n",
      "Epoch: 115\t Loss: 0.004141803830862045\n",
      "Epoch: 116\t Loss: 0.0040955450385808945\n",
      "Epoch: 117\t Loss: 0.00404980918392539\n",
      "Epoch: 118\t Loss: 0.0040045809000730515\n",
      "Epoch: 119\t Loss: 0.003959882538765669\n",
      "Epoch: 120\t Loss: 0.003915628883987665\n",
      "Epoch: 121\t Loss: 0.003871925175189972\n",
      "Epoch: 122\t Loss: 0.0038286615163087845\n",
      "Epoch: 123\t Loss: 0.0037859079893678427\n",
      "Epoch: 124\t Loss: 0.0037436545826494694\n",
      "Epoch: 125\t Loss: 0.0037018510047346354\n",
      "Epoch: 126\t Loss: 0.0036605033092200756\n",
      "Epoch: 127\t Loss: 0.003619612194597721\n",
      "Epoch: 128\t Loss: 0.0035792188718914986\n",
      "Epoch: 129\t Loss: 0.0035392208956182003\n",
      "Epoch: 130\t Loss: 0.0034997223410755396\n",
      "Epoch: 131\t Loss: 0.0034606377594172955\n",
      "Epoch: 132\t Loss: 0.003421977162361145\n",
      "Epoch: 133\t Loss: 0.0033837708178907633\n",
      "Epoch: 134\t Loss: 0.003346012905240059\n",
      "Epoch: 135\t Loss: 0.0033086035400629044\n",
      "Epoch: 136\t Loss: 0.003271682420745492\n",
      "Epoch: 137\t Loss: 0.0032351443078368902\n",
      "Epoch: 138\t Loss: 0.0031990318093448877\n",
      "Epoch: 139\t Loss: 0.003163297427818179\n",
      "Epoch: 140\t Loss: 0.003127964911982417\n",
      "Epoch: 141\t Loss: 0.003093031467869878\n",
      "Epoch: 142\t Loss: 0.0030585122294723988\n",
      "Epoch: 143\t Loss: 0.0030243373475968838\n",
      "Epoch: 144\t Loss: 0.0029905696865171194\n",
      "Epoch: 145\t Loss: 0.0029571952763944864\n",
      "Epoch: 146\t Loss: 0.002924151485785842\n",
      "Epoch: 147\t Loss: 0.002891507698222995\n",
      "Epoch: 148\t Loss: 0.0028591984882950783\n",
      "Epoch: 149\t Loss: 0.002827282762154937\n",
      "Epoch: 150\t Loss: 0.002795716281980276\n",
      "Epoch: 151\t Loss: 0.002764468314126134\n",
      "Epoch: 152\t Loss: 0.002733619650825858\n",
      "Epoch: 153\t Loss: 0.0027030783239752054\n",
      "Epoch: 154\t Loss: 0.002672905335202813\n",
      "Epoch: 155\t Loss: 0.002643068553879857\n",
      "Epoch: 156\t Loss: 0.0026135502848774195\n",
      "Epoch: 157\t Loss: 0.0025843584444373846\n",
      "Epoch: 158\t Loss: 0.0025555016472935677\n",
      "Epoch: 159\t Loss: 0.002526986412703991\n",
      "Epoch: 160\t Loss: 0.0024987601209431887\n",
      "Epoch: 161\t Loss: 0.002470857696607709\n",
      "Epoch: 162\t Loss: 0.0024432579521089792\n",
      "Epoch: 163\t Loss: 0.002415975322946906\n",
      "Epoch: 164\t Loss: 0.002388983266428113\n",
      "Epoch: 165\t Loss: 0.002362326253205538\n",
      "Epoch: 166\t Loss: 0.0023359511978924274\n",
      "Epoch: 167\t Loss: 0.0023098450619727373\n",
      "Epoch: 168\t Loss: 0.0022840516176074743\n",
      "Epoch: 169\t Loss: 0.0022585552651435137\n",
      "Epoch: 170\t Loss: 0.0022333236411213875\n",
      "Epoch: 171\t Loss: 0.0022083937656134367\n",
      "Epoch: 172\t Loss: 0.0021837286185473204\n",
      "Epoch: 173\t Loss: 0.0021593470592051744\n",
      "Epoch: 174\t Loss: 0.002135222079232335\n",
      "Epoch: 175\t Loss: 0.0021114058326929808\n",
      "Epoch: 176\t Loss: 0.0020878089126199484\n",
      "Epoch: 177\t Loss: 0.002064506057649851\n",
      "Epoch: 178\t Loss: 0.0020414392929524183\n",
      "Epoch: 179\t Loss: 0.0020186405163258314\n",
      "Epoch: 180\t Loss: 0.001996109262108803\n",
      "Epoch: 181\t Loss: 0.001973832491785288\n",
      "Epoch: 182\t Loss: 0.00195179576985538\n",
      "Epoch: 183\t Loss: 0.001929990598000586\n",
      "Epoch: 184\t Loss: 0.00190841406583786\n",
      "Epoch: 185\t Loss: 0.0018871102947741747\n",
      "Epoch: 186\t Loss: 0.001866042148321867\n",
      "Epoch: 187\t Loss: 0.0018452026415616274\n",
      "Epoch: 188\t Loss: 0.0018245942192152143\n",
      "Epoch: 189\t Loss: 0.0018042162992060184\n",
      "Epoch: 190\t Loss: 0.001784097170457244\n",
      "Epoch: 191\t Loss: 0.0017641710583120584\n",
      "Epoch: 192\t Loss: 0.001744442037306726\n",
      "Epoch: 193\t Loss: 0.001724983099848032\n",
      "Epoch: 194\t Loss: 0.0017057122895494103\n",
      "Epoch: 195\t Loss: 0.0016866785008460283\n",
      "Epoch: 196\t Loss: 0.001667829230427742\n",
      "Epoch: 197\t Loss: 0.0016492020804435015\n",
      "Epoch: 198\t Loss: 0.0016307856421917677\n",
      "Epoch: 199\t Loss: 0.001612587133422494\n"
     ]
    },
    {
     "name": "stderr",
     "output_type": "stream",
     "text": [
      "/Users/anujdutt/miniconda3/envs/deeplearning/lib/python3.6/site-packages/ipykernel_launcher.py:24: UserWarning: invalid index of a 0-dim tensor. This will be an error in PyTorch 0.5. Use tensor.item() to convert a 0-dim tensor to a Python number\n"
     ]
    }
   ],
   "source": [
    "# Train the Model\n",
    "for epoch in range(epochs):\n",
    "    \n",
    "    # Define Training Inputs and Labels\n",
    "    # Variable has \"requires_grad = True\" by default\n",
    "    inputs = Variable(torch.from_numpy(x_train))\n",
    "    labels = Variable(torch.from_numpy(y_train))\n",
    "    \n",
    "    # Clear gradients w.r.t parameters every epoch to avoid gradient accumulation\n",
    "    optimizer.zero_grad()\n",
    "    \n",
    "    # Execute forward pass to get predicted values\n",
    "    y_hat = model.forward(x=inputs)\n",
    "    \n",
    "    # Calculate the loss for forward pass\n",
    "    loss = loss_criterion(y_hat,labels)\n",
    "    \n",
    "    # Backpropagate the gradients\n",
    "    loss.backward()\n",
    "    \n",
    "    # Update the Parameters\n",
    "    optimizer.step()\n",
    "    \n",
    "    print(\"Epoch: {0}\\t Loss: {1}\".format(epoch,loss.data[0]))"
   ]
  },
  {
   "cell_type": "code",
   "execution_count": 15,
   "metadata": {},
   "outputs": [
    {
     "data": {
      "text/plain": [
       "array([[ 0.92529994],\n",
       "       [ 2.9360573 ],\n",
       "       [ 4.946815  ],\n",
       "       [ 6.9575725 ],\n",
       "       [ 8.968329  ],\n",
       "       [10.979087  ],\n",
       "       [12.989844  ],\n",
       "       [15.000602  ],\n",
       "       [17.01136   ],\n",
       "       [19.022118  ],\n",
       "       [21.032875  ]], dtype=float32)"
      ]
     },
     "execution_count": 15,
     "metadata": {},
     "output_type": "execute_result"
    }
   ],
   "source": [
    "# Get predictions from our trained model\n",
    "predictions = model(Variable(torch.from_numpy(x_train))).data.numpy()\n",
    "predictions"
   ]
  },
  {
   "cell_type": "code",
   "execution_count": 16,
   "metadata": {},
   "outputs": [
    {
     "data": {
      "text/plain": [
       "array([[ 1.],\n",
       "       [ 3.],\n",
       "       [ 5.],\n",
       "       [ 7.],\n",
       "       [ 9.],\n",
       "       [11.],\n",
       "       [13.],\n",
       "       [15.],\n",
       "       [17.],\n",
       "       [19.],\n",
       "       [21.]], dtype=float32)"
      ]
     },
     "execution_count": 16,
     "metadata": {},
     "output_type": "execute_result"
    }
   ],
   "source": [
    "# Actual Labels\n",
    "y_train"
   ]
  },
  {
   "cell_type": "markdown",
   "metadata": {},
   "source": [
    "### Plot Predictions"
   ]
  },
  {
   "cell_type": "code",
   "execution_count": 19,
   "metadata": {},
   "outputs": [
    {
     "data": {
      "text/plain": [
       "<matplotlib.legend.Legend at 0x11eec53c8>"
      ]
     },
     "execution_count": 19,
     "metadata": {},
     "output_type": "execute_result"
    },
    {
     "data": {
      "image/png": "[encoded data removed]",
      "text/plain": [
       "<Figure size 1440x720 with 1 Axes>"
      ]
     },
     "metadata": {
      "needs_background": "light"
     },
     "output_type": "display_data"
    }
   ],
   "source": [
    "# Plot actual data vs predictions\n",
    "plt.figure(figsize=(20,10))\n",
    "plt.clf()\n",
    "\n",
    "# Plot true data\n",
    "plt.plot(x_train, y_train, 'go', label='true data', alpha=0.5)\n",
    "\n",
    "# Plot predicted data\n",
    "plt.plot(x_train,predictions, '--', label='predictions', alpha=0.5)\n",
    "\n",
    "plt.legend()"
   ]
  },
  {
   "cell_type": "markdown",
   "metadata": {},
   "source": [
    "### Save Trained Model"
   ]
  },
  {
   "cell_type": "code",
   "execution_count": 20,
   "metadata": {},
   "outputs": [],
   "source": [
    "save_model = False\n",
    "\n",
    "if save_model is True:\n",
    "    # Save model parameters \"alpha\" and \"beta\"\n",
    "    torch.save(model.state_dict(), './saved_models/linear_regression.pkl')"
   ]
  },
  {
   "cell_type": "markdown",
   "metadata": {},
   "source": [
    "### Load Trained Model"
   ]
  },
  {
   "cell_type": "code",
   "execution_count": 21,
   "metadata": {},
   "outputs": [],
   "source": [
    "load_model = False\n",
    "\n",
    "if load_model is True:\n",
    "    model.load_state_dict(torch.load('./saved_models/linear_regression.pkl'))"
   ]
  }
 ],
 "metadata": {
  "kernelspec": {
   "display_name": "Python 3",
   "language": "python",
   "name": "python3"
  },
  "language_info": {
   "codemirror_mode": {
    "name": "ipython",
    "version": 3
   },
   "file_extension": ".py",
   "mimetype": "text/x-python",
   "name": "python",
   "nbconvert_exporter": "python",
   "pygments_lexer": "ipython3",
   "version": "3.6.6"
  }
 },
 "nbformat": 4,
 "nbformat_minor": 2
}
