{
 "cells": [
  {
   "cell_type": "markdown",
   "metadata": {},
   "source": [
    "Let us assume that the equation we are trying to model is:\n",
    "\n",
    "    y = 2x + 1\n",
    "\n",
    "i.e.\n",
    "\n",
    "    alpha = 2\n",
    "    beta = 1\n",
    "    \n",
    "then, \n",
    "\n",
    "    y = alpha * x + beta"
   ]
  },
  {
   "cell_type": "code",
   "execution_count": 1,
   "metadata": {},
   "outputs": [],
   "source": [
    "# Import Dependencies\n",
    "import numpy as np\n",
    "import matplotlib.pyplot as plt\n",
    "%matplotlib inline"
   ]
  },
  {
   "cell_type": "code",
   "execution_count": 2,
   "metadata": {},
   "outputs": [
    {
     "data": {
      "text/plain": [
       "[0, 1, 2, 3, 4, 5, 6, 7, 8, 9, 10]"
      ]
     },
     "execution_count": 2,
     "metadata": {},
     "output_type": "execute_result"
    }
   ],
   "source": [
    "# Build a Toy Dataset\n",
    "x = [i for i in range(11)]\n",
    "x"
   ]
  },
  {
   "cell_type": "code",
   "execution_count": 3,
   "metadata": {},
   "outputs": [
    {
     "data": {
      "text/plain": [
       "array([ 0.,  1.,  2.,  3.,  4.,  5.,  6.,  7.,  8.,  9., 10.],\n",
       "      dtype=float32)"
      ]
     },
     "execution_count": 3,
     "metadata": {},
     "output_type": "execute_result"
    }
   ],
   "source": [
    "# Conver to numpy array\n",
    "x_train = np.array(x, dtype=np.float32)\n",
    "x_train"
   ]
  },
  {
   "cell_type": "code",
   "execution_count": 4,
   "metadata": {},
   "outputs": [
    {
     "data": {
      "text/plain": [
       "(11,)"
      ]
     },
     "execution_count": 4,
     "metadata": {},
     "output_type": "execute_result"
    }
   ],
   "source": [
    "x_train.shape"
   ]
  },
  {
   "cell_type": "code",
   "execution_count": 5,
   "metadata": {},
   "outputs": [
    {
     "data": {
      "text/plain": [
       "(11, 1)"
      ]
     },
     "execution_count": 5,
     "metadata": {},
     "output_type": "execute_result"
    }
   ],
   "source": [
    "# Reshape array to be a 2D array\n",
    "x_train = x_train.reshape(-1,1)\n",
    "x_train.shape"
   ]
  },
  {
   "cell_type": "code",
   "execution_count": 6,
   "metadata": {},
   "outputs": [
    {
     "data": {
      "text/plain": [
       "[1, 3, 5, 7, 9, 11, 13, 15, 17, 19, 21]"
      ]
     },
     "execution_count": 6,
     "metadata": {},
     "output_type": "execute_result"
    }
   ],
   "source": [
    "# y values\n",
    "y = [2*i + 1 for i in x]\n",
    "y"
   ]
  },
  {
   "cell_type": "code",
   "execution_count": 7,
   "metadata": {},
   "outputs": [
    {
     "data": {
      "text/plain": [
       "array([[ 1.],\n",
       "       [ 3.],\n",
       "       [ 5.],\n",
       "       [ 7.],\n",
       "       [ 9.],\n",
       "       [11.],\n",
       "       [13.],\n",
       "       [15.],\n",
       "       [17.],\n",
       "       [19.],\n",
       "       [21.]], dtype=float32)"
      ]
     },
     "execution_count": 7,
     "metadata": {},
     "output_type": "execute_result"
    }
   ],
   "source": [
    "# Convert to numpy and reshape\n",
    "y_train = np.array(y, dtype=np.float32).reshape(-1,1)\n",
    "y_train"
   ]
  },
  {
   "cell_type": "code",
   "execution_count": 8,
   "metadata": {},
   "outputs": [
    {
     "data": {
      "text/plain": [
       "(11, 1)"
      ]
     },
     "execution_count": 8,
     "metadata": {},
     "output_type": "execute_result"
    }
   ],
   "source": [
    "y_train.shape"
   ]
  },
  {
   "cell_type": "markdown",
   "metadata": {},
   "source": [
    "### Create Linear Regression Model"
   ]
  },
  {
   "cell_type": "code",
   "execution_count": 9,
   "metadata": {},
   "outputs": [],
   "source": [
    "# Import Dependencies\n",
    "import torch\n",
    "import torch.nn as nn\n",
    "from torch.autograd import Variable"
   ]
  },
  {
   "cell_type": "code",
   "execution_count": 10,
   "metadata": {},
   "outputs": [],
   "source": [
    "# Linear Regression Class\n",
    "class LinearRegressionModel(nn.Module):\n",
    "    \n",
    "    def __init__(self, input_dim, output_dim):\n",
    "        # define super to inherit from nn.Module\n",
    "        super(LinearRegressionModel, self).__init__()\n",
    "        # define linear function where input_dim: \"x\" and output_dim: \"y\"\n",
    "        self.linear = nn.Linear(input_dim, output_dim)\n",
    "    \n",
    "    # Forward Pass\n",
    "    # Input: values in \"x\"\n",
    "    # Return: estimated value of \"y\" i.e. \"y_hat\"\n",
    "    def forward(self,x):\n",
    "        out = self.linear(x)\n",
    "        return out"
   ]
  },
  {
   "cell_type": "code",
   "execution_count": 11,
   "metadata": {},
   "outputs": [],
   "source": [
    "# Instantiate the Model\n",
    "model = LinearRegressionModel(input_dim=1, output_dim=1)"
   ]
  },
  {
   "cell_type": "markdown",
   "metadata": {},
   "source": [
    "### Move Model to GPU"
   ]
  },
  {
   "cell_type": "code",
   "execution_count": 12,
   "metadata": {},
   "outputs": [],
   "source": [
    "# If GPU is available, move model to GPU\n",
    "if torch.cuda.is_available():\n",
    "    model.cuda()"
   ]
  },
  {
   "cell_type": "code",
   "execution_count": 13,
   "metadata": {},
   "outputs": [],
   "source": [
    "# Define the Loss Criteria\n",
    "# Mean Squared Error loss\n",
    "loss_criterion = nn.MSELoss()"
   ]
  },
  {
   "cell_type": "code",
   "execution_count": 14,
   "metadata": {},
   "outputs": [],
   "source": [
    "# Learning Rate\n",
    "lr = 0.01\n",
    "\n",
    "# Optimizer\n",
    "optimizer = torch.optim.SGD(model.parameters(), lr=lr)\n",
    "\n",
    "# Epochs\n",
    "epochs = 200"
   ]
  },
  {
   "cell_type": "code",
   "execution_count": 15,
   "metadata": {},
   "outputs": [
    {
     "name": "stdout",
     "output_type": "stream",
     "text": [
      "Epoch: 0\t Loss: 266.0721740722656\n",
      "Epoch: 1\t Loss: 21.703784942626953\n",
      "Epoch: 2\t Loss: 1.7714208364486694\n",
      "Epoch: 3\t Loss: 0.14558716118335724\n",
      "Epoch: 4\t Loss: 0.012961048632860184\n",
      "Epoch: 5\t Loss: 0.002131050918251276\n",
      "Epoch: 6\t Loss: 0.0012356790248304605\n",
      "Epoch: 7\t Loss: 0.0011507775634527206\n",
      "Epoch: 8\t Loss: 0.001132118166424334\n",
      "Epoch: 9\t Loss: 0.0011190217919647694\n",
      "Epoch: 10\t Loss: 0.0011064837453886867\n",
      "Epoch: 11\t Loss: 0.0010941254440695047\n",
      "Epoch: 12\t Loss: 0.0010818967130035162\n",
      "Epoch: 13\t Loss: 0.0010698182741180062\n",
      "Epoch: 14\t Loss: 0.001057869871146977\n",
      "Epoch: 15\t Loss: 0.0010460552293807268\n",
      "Epoch: 16\t Loss: 0.0010343813337385654\n",
      "Epoch: 17\t Loss: 0.0010228237370029092\n",
      "Epoch: 18\t Loss: 0.0010114081669598818\n",
      "Epoch: 19\t Loss: 0.0010001155314967036\n",
      "Epoch: 20\t Loss: 0.0009889393113553524\n",
      "Epoch: 21\t Loss: 0.0009779025567695498\n",
      "Epoch: 22\t Loss: 0.0009669885621406138\n",
      "Epoch: 23\t Loss: 0.0009561760816723108\n",
      "Epoch: 24\t Loss: 0.0009454989922232926\n",
      "Epoch: 25\t Loss: 0.0009349423926323652\n",
      "Epoch: 26\t Loss: 0.0009244975517503917\n",
      "Epoch: 27\t Loss: 0.000914170581381768\n",
      "Epoch: 28\t Loss: 0.0009039650321938097\n",
      "Epoch: 29\t Loss: 0.0008938706596381962\n",
      "Epoch: 30\t Loss: 0.000883875007275492\n",
      "Epoch: 31\t Loss: 0.0008740245830267668\n",
      "Epoch: 32\t Loss: 0.0008642636821605265\n",
      "Epoch: 33\t Loss: 0.0008546023163944483\n",
      "Epoch: 34\t Loss: 0.0008450676687061787\n",
      "Epoch: 35\t Loss: 0.000835640705190599\n",
      "Epoch: 36\t Loss: 0.0008262904011644423\n",
      "Epoch: 37\t Loss: 0.0008170607034116983\n",
      "Epoch: 38\t Loss: 0.0008079421822912991\n",
      "Epoch: 39\t Loss: 0.0007989245932549238\n",
      "Epoch: 40\t Loss: 0.000789993442595005\n",
      "Epoch: 41\t Loss: 0.0007811777759343386\n",
      "Epoch: 42\t Loss: 0.0007724512252025306\n",
      "Epoch: 43\t Loss: 0.0007638281676918268\n",
      "Epoch: 44\t Loss: 0.0007553052855655551\n",
      "Epoch: 45\t Loss: 0.0007468750700354576\n",
      "Epoch: 46\t Loss: 0.0007385287317447364\n",
      "Epoch: 47\t Loss: 0.0007302743615582585\n",
      "Epoch: 48\t Loss: 0.000722117954865098\n",
      "Epoch: 49\t Loss: 0.0007140632369555533\n",
      "Epoch: 50\t Loss: 0.0007060910575091839\n",
      "Epoch: 51\t Loss: 0.000698209332767874\n",
      "Epoch: 52\t Loss: 0.00069040508242324\n",
      "Epoch: 53\t Loss: 0.0006826923927292228\n",
      "Epoch: 54\t Loss: 0.0006750604370608926\n",
      "Epoch: 55\t Loss: 0.0006675307522527874\n",
      "Epoch: 56\t Loss: 0.0006600801134482026\n",
      "Epoch: 57\t Loss: 0.0006527029327116907\n",
      "Epoch: 58\t Loss: 0.0006454020040109754\n",
      "Epoch: 59\t Loss: 0.0006382123101502657\n",
      "Epoch: 60\t Loss: 0.00063108786707744\n",
      "Epoch: 61\t Loss: 0.0006240374641492963\n",
      "Epoch: 62\t Loss: 0.0006170648266561329\n",
      "Epoch: 63\t Loss: 0.0006101706530898809\n",
      "Epoch: 64\t Loss: 0.0006033622194081545\n",
      "Epoch: 65\t Loss: 0.0005966251483187079\n",
      "Epoch: 66\t Loss: 0.000589961011428386\n",
      "Epoch: 67\t Loss: 0.0005833713803440332\n",
      "Epoch: 68\t Loss: 0.0005768581759184599\n",
      "Epoch: 69\t Loss: 0.0005704209324903786\n",
      "Epoch: 70\t Loss: 0.0005640527815558016\n",
      "Epoch: 71\t Loss: 0.0005577439442276955\n",
      "Epoch: 72\t Loss: 0.0005515151424333453\n",
      "Epoch: 73\t Loss: 0.0005453662015497684\n",
      "Epoch: 74\t Loss: 0.0005392719758674502\n",
      "Epoch: 75\t Loss: 0.0005332588916644454\n",
      "Epoch: 76\t Loss: 0.000527300639078021\n",
      "Epoch: 77\t Loss: 0.0005214129923842847\n",
      "Epoch: 78\t Loss: 0.0005155936232767999\n",
      "Epoch: 79\t Loss: 0.0005098339170217514\n",
      "Epoch: 80\t Loss: 0.0005041386466473341\n",
      "Epoch: 81\t Loss: 0.0004985095001757145\n",
      "Epoch: 82\t Loss: 0.0004929409478791058\n",
      "Epoch: 83\t Loss: 0.0004874378500971943\n",
      "Epoch: 84\t Loss: 0.000481988798128441\n",
      "Epoch: 85\t Loss: 0.00047660607378929853\n",
      "Epoch: 86\t Loss: 0.0004712893860414624\n",
      "Epoch: 87\t Loss: 0.00046601708163507283\n",
      "Epoch: 88\t Loss: 0.00046082085464149714\n",
      "Epoch: 89\t Loss: 0.00045567305642180145\n",
      "Epoch: 90\t Loss: 0.00045058230170980096\n",
      "Epoch: 91\t Loss: 0.0004455571179278195\n",
      "Epoch: 92\t Loss: 0.00044058242929168046\n",
      "Epoch: 93\t Loss: 0.0004356561985332519\n",
      "Epoch: 94\t Loss: 0.0004307952185627073\n",
      "Epoch: 95\t Loss: 0.00042598359868861735\n",
      "Epoch: 96\t Loss: 0.0004212306812405586\n",
      "Epoch: 97\t Loss: 0.0004165207501500845\n",
      "Epoch: 98\t Loss: 0.00041187903843820095\n",
      "Epoch: 99\t Loss: 0.0004072767624165863\n",
      "Epoch: 100\t Loss: 0.00040272693149745464\n",
      "Epoch: 101\t Loss: 0.00039822704275138676\n",
      "Epoch: 102\t Loss: 0.0003937933361157775\n",
      "Epoch: 103\t Loss: 0.0003893903340213001\n",
      "Epoch: 104\t Loss: 0.0003850358771160245\n",
      "Epoch: 105\t Loss: 0.00038073741598054767\n",
      "Epoch: 106\t Loss: 0.00037648584111593664\n",
      "Epoch: 107\t Loss: 0.00037228039582259953\n",
      "Epoch: 108\t Loss: 0.0003681194211822003\n",
      "Epoch: 109\t Loss: 0.0003640201175585389\n",
      "Epoch: 110\t Loss: 0.0003599428164307028\n",
      "Epoch: 111\t Loss: 0.0003559352771844715\n",
      "Epoch: 112\t Loss: 0.0003519563178997487\n",
      "Epoch: 113\t Loss: 0.00034802319714799523\n",
      "Epoch: 114\t Loss: 0.0003441412700340152\n",
      "Epoch: 115\t Loss: 0.0003402983129490167\n",
      "Epoch: 116\t Loss: 0.00033649837132543325\n",
      "Epoch: 117\t Loss: 0.00033274313318543136\n",
      "Epoch: 118\t Loss: 0.00032901918166317046\n",
      "Epoch: 119\t Loss: 0.0003253402537666261\n",
      "Epoch: 120\t Loss: 0.0003217104822397232\n",
      "Epoch: 121\t Loss: 0.00031811880762688816\n",
      "Epoch: 122\t Loss: 0.0003145708760712296\n",
      "Epoch: 123\t Loss: 0.0003110526013188064\n",
      "Epoch: 124\t Loss: 0.0003075835411436856\n",
      "Epoch: 125\t Loss: 0.00030414937646128237\n",
      "Epoch: 126\t Loss: 0.00030074937967583537\n",
      "Epoch: 127\t Loss: 0.0002973963273689151\n",
      "Epoch: 128\t Loss: 0.00029407357214950025\n",
      "Epoch: 129\t Loss: 0.00029077910585328937\n",
      "Epoch: 130\t Loss: 0.0002875466598197818\n",
      "Epoch: 131\t Loss: 0.00028432870749384165\n",
      "Epoch: 132\t Loss: 0.00028115202439948916\n",
      "Epoch: 133\t Loss: 0.0002780160866677761\n",
      "Epoch: 134\t Loss: 0.0002749039267655462\n",
      "Epoch: 135\t Loss: 0.0002718361793085933\n",
      "Epoch: 136\t Loss: 0.00026880207587964833\n",
      "Epoch: 137\t Loss: 0.0002658013254404068\n",
      "Epoch: 138\t Loss: 0.0002628379443194717\n",
      "Epoch: 139\t Loss: 0.0002598999999463558\n",
      "Epoch: 140\t Loss: 0.0002569979114923626\n",
      "Epoch: 141\t Loss: 0.0002541294088587165\n",
      "Epoch: 142\t Loss: 0.00025129131972789764\n",
      "Epoch: 143\t Loss: 0.00024848675820976496\n",
      "Epoch: 144\t Loss: 0.0002457097580190748\n",
      "Epoch: 145\t Loss: 0.00024296190531458706\n",
      "Epoch: 146\t Loss: 0.0002402520622126758\n",
      "Epoch: 147\t Loss: 0.00023757133749313653\n",
      "Epoch: 148\t Loss: 0.00023491981846746057\n",
      "Epoch: 149\t Loss: 0.0002322956861462444\n",
      "Epoch: 150\t Loss: 0.0002297034370712936\n",
      "Epoch: 151\t Loss: 0.00022713697399012744\n",
      "Epoch: 152\t Loss: 0.00022459863976109773\n",
      "Epoch: 153\t Loss: 0.00022209346934687346\n",
      "Epoch: 154\t Loss: 0.00021961468155495822\n",
      "Epoch: 155\t Loss: 0.00021716198534704745\n",
      "Epoch: 156\t Loss: 0.00021473471133504063\n",
      "Epoch: 157\t Loss: 0.00021232885774224997\n",
      "Epoch: 158\t Loss: 0.0002099598350469023\n",
      "Epoch: 159\t Loss: 0.0002076207019854337\n",
      "Epoch: 160\t Loss: 0.00020530415349639952\n",
      "Epoch: 161\t Loss: 0.00020300927280914038\n",
      "Epoch: 162\t Loss: 0.00020074023632332683\n",
      "Epoch: 163\t Loss: 0.0001984999398700893\n",
      "Epoch: 164\t Loss: 0.00019628112204372883\n",
      "Epoch: 165\t Loss: 0.0001940923393703997\n",
      "Epoch: 166\t Loss: 0.00019192686886526644\n",
      "Epoch: 167\t Loss: 0.00018978420121129602\n",
      "Epoch: 168\t Loss: 0.00018765774439089\n",
      "Epoch: 169\t Loss: 0.00018557190196588635\n",
      "Epoch: 170\t Loss: 0.00018348735466133803\n",
      "Epoch: 171\t Loss: 0.0001814463612390682\n",
      "Epoch: 172\t Loss: 0.00017942534759640694\n",
      "Epoch: 173\t Loss: 0.0001774119446054101\n",
      "Epoch: 174\t Loss: 0.00017543289868626744\n",
      "Epoch: 175\t Loss: 0.00017347604443784803\n",
      "Epoch: 176\t Loss: 0.00017154536908492446\n",
      "Epoch: 177\t Loss: 0.00016962016525212675\n",
      "Epoch: 178\t Loss: 0.00016773198149167\n",
      "Epoch: 179\t Loss: 0.00016585497360210866\n",
      "Epoch: 180\t Loss: 0.00016400303866248578\n",
      "Epoch: 181\t Loss: 0.00016217427037190646\n",
      "Epoch: 182\t Loss: 0.0001603618002263829\n",
      "Epoch: 183\t Loss: 0.00015857211838010699\n",
      "Epoch: 184\t Loss: 0.0001568014413351193\n",
      "Epoch: 185\t Loss: 0.00015504936163779348\n",
      "Epoch: 186\t Loss: 0.0001533206959720701\n",
      "Epoch: 187\t Loss: 0.00015160845941863954\n",
      "Epoch: 188\t Loss: 0.00014991268108133227\n",
      "Epoch: 189\t Loss: 0.00014824006939306855\n",
      "Epoch: 190\t Loss: 0.00014658784493803978\n",
      "Epoch: 191\t Loss: 0.00014494522474706173\n",
      "Epoch: 192\t Loss: 0.0001433240540791303\n",
      "Epoch: 193\t Loss: 0.00014172775263432413\n",
      "Epoch: 194\t Loss: 0.00014014352927915752\n",
      "Epoch: 195\t Loss: 0.00013857729209121317\n",
      "Epoch: 196\t Loss: 0.0001370325917378068\n",
      "Epoch: 197\t Loss: 0.0001354964915663004\n",
      "Epoch: 198\t Loss: 0.00013398478040471673\n",
      "Epoch: 199\t Loss: 0.0001324942713836208\n"
     ]
    },
    {
     "name": "stderr",
     "output_type": "stream",
     "text": [
      "/Users/anujdutt/miniconda3/envs/deeplearning/lib/python3.6/site-packages/ipykernel_launcher.py:29: UserWarning: invalid index of a 0-dim tensor. This will be an error in PyTorch 0.5. Use tensor.item() to convert a 0-dim tensor to a Python number\n"
     ]
    }
   ],
   "source": [
    "# Train the Model\n",
    "for epoch in range(epochs):\n",
    "    \n",
    "    # Define Training Inputs and Labels\n",
    "    # Variable has \"requires_grad = True\" by default\n",
    "    # If GPU is available, push tensor to GPU else on CPU\n",
    "    if torch.cuda.is_available():\n",
    "        inputs = Variable(torch.from_numpy(x_train).cuda())\n",
    "        labels = Variable(torch.from_numpy(y_train).cuda())\n",
    "    else:\n",
    "        inputs = Variable(torch.from_numpy(x_train))\n",
    "        labels = Variable(torch.from_numpy(y_train))\n",
    "    \n",
    "    # Clear gradients w.r.t parameters every epoch to avoid gradient accumulation\n",
    "    optimizer.zero_grad()\n",
    "    \n",
    "    # Execute forward pass to get predicted values\n",
    "    y_hat = model.forward(x=inputs)\n",
    "    \n",
    "    # Calculate the loss for forward pass\n",
    "    loss = loss_criterion(y_hat,labels)\n",
    "    \n",
    "    # Backpropagate the gradients\n",
    "    loss.backward()\n",
    "    \n",
    "    # Update the Parameters\n",
    "    optimizer.step()\n",
    "    \n",
    "    print(\"Epoch: {0}\\t Loss: {1}\".format(epoch,loss.data[0]))"
   ]
  },
  {
   "cell_type": "code",
   "execution_count": 16,
   "metadata": {},
   "outputs": [
    {
     "data": {
      "text/plain": [
       "array([[ 1.0214119],\n",
       "       [ 3.0183284],\n",
       "       [ 5.015245 ],\n",
       "       [ 7.0121613],\n",
       "       [ 9.009078 ],\n",
       "       [11.005995 ],\n",
       "       [13.002911 ],\n",
       "       [14.999827 ],\n",
       "       [16.996744 ],\n",
       "       [18.99366  ],\n",
       "       [20.990578 ]], dtype=float32)"
      ]
     },
     "execution_count": 16,
     "metadata": {},
     "output_type": "execute_result"
    }
   ],
   "source": [
    "# Get predictions from our trained model\n",
    "predictions = model(Variable(torch.from_numpy(x_train))).data.numpy()\n",
    "predictions"
   ]
  },
  {
   "cell_type": "code",
   "execution_count": 17,
   "metadata": {},
   "outputs": [
    {
     "data": {
      "text/plain": [
       "array([[ 1.],\n",
       "       [ 3.],\n",
       "       [ 5.],\n",
       "       [ 7.],\n",
       "       [ 9.],\n",
       "       [11.],\n",
       "       [13.],\n",
       "       [15.],\n",
       "       [17.],\n",
       "       [19.],\n",
       "       [21.]], dtype=float32)"
      ]
     },
     "execution_count": 17,
     "metadata": {},
     "output_type": "execute_result"
    }
   ],
   "source": [
    "# Actual Labels\n",
    "y_train"
   ]
  },
  {
   "cell_type": "markdown",
   "metadata": {},
   "source": [
    "### Plot Predictions"
   ]
  },
  {
   "cell_type": "code",
   "execution_count": 18,
   "metadata": {},
   "outputs": [
    {
     "data": {
      "text/plain": [
       "<matplotlib.legend.Legend at 0x119899128>"
      ]
     },
     "execution_count": 18,
     "metadata": {},
     "output_type": "execute_result"
    },
    {
     "data": {
      "image/png": "[encoded data removed]",
      "text/plain": [
       "<Figure size 1440x720 with 1 Axes>"
      ]
     },
     "metadata": {
      "needs_background": "light"
     },
     "output_type": "display_data"
    }
   ],
   "source": [
    "# Plot actual data vs predictions\n",
    "plt.figure(figsize=(20,10))\n",
    "plt.clf()\n",
    "\n",
    "# Plot true data\n",
    "plt.plot(x_train, y_train, 'go', label='true data', alpha=0.5)\n",
    "\n",
    "# Plot predicted data\n",
    "plt.plot(x_train,predictions, '--', label='predictions', alpha=0.5)\n",
    "\n",
    "plt.legend()"
   ]
  },
  {
   "cell_type": "markdown",
   "metadata": {},
   "source": [
    "### Save Trained Model"
   ]
  },
  {
   "cell_type": "code",
   "execution_count": 19,
   "metadata": {},
   "outputs": [],
   "source": [
    "save_model = False\n",
    "\n",
    "if save_model is True:\n",
    "    # Save model parameters \"alpha\" and \"beta\"\n",
    "    torch.save(model.state_dict(), './saved_models/linear_regression.pkl')"
   ]
  },
  {
   "cell_type": "markdown",
   "metadata": {},
   "source": [
    "### Load Trained Model"
   ]
  },
  {
   "cell_type": "code",
   "execution_count": 20,
   "metadata": {},
   "outputs": [],
   "source": [
    "load_model = False\n",
    "\n",
    "if load_model is True:\n",
    "    model.load_state_dict(torch.load('./saved_models/linear_regression.pkl'))"
   ]
  }
 ],
 "metadata": {
  "kernelspec": {
   "display_name": "Python 3",
   "language": "python",
   "name": "python3"
  },
  "language_info": {
   "codemirror_mode": {
    "name": "ipython",
    "version": 3
   },
   "file_extension": ".py",
   "mimetype": "text/x-python",
   "name": "python",
   "nbconvert_exporter": "python",
   "pygments_lexer": "ipython3",
   "version": "3.6.6"
  }
 },
 "nbformat": 4,
 "nbformat_minor": 2
}
