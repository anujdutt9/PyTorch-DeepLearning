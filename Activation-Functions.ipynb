{
 "cells": [
  {
   "cell_type": "markdown",
   "metadata": {},
   "source": [
    "In this notebook, we see how to use some activation functions in PyTorch."
   ]
  },
  {
   "cell_type": "code",
   "execution_count": 1,
   "metadata": {},
   "outputs": [],
   "source": [
    "# Import Dependencies\n",
    "import torch\n",
    "import numpy as np\n",
    "import torch.nn.functional as F\n",
    "from torch.autograd import Variable\n",
    "import matplotlib.pyplot as plt\n",
    "%matplotlib inline"
   ]
  },
  {
   "cell_type": "code",
   "execution_count": 2,
   "metadata": {},
   "outputs": [
    {
     "data": {
      "text/plain": [
       "tensor([-10.0000,  -9.8995,  -9.7990,  -9.6985,  -9.5980,  -9.4975,  -9.3970,\n",
       "         -9.2965,  -9.1960,  -9.0955,  -8.9950,  -8.8945,  -8.7940,  -8.6935,\n",
       "         -8.5930,  -8.4925,  -8.3920,  -8.2915,  -8.1910,  -8.0905,  -7.9899,\n",
       "         -7.8894,  -7.7889,  -7.6884,  -7.5879,  -7.4874,  -7.3869,  -7.2864,\n",
       "         -7.1859,  -7.0854,  -6.9849,  -6.8844,  -6.7839,  -6.6834,  -6.5829,\n",
       "         -6.4824,  -6.3819,  -6.2814,  -6.1809,  -6.0804,  -5.9799,  -5.8794,\n",
       "         -5.7789,  -5.6784,  -5.5779,  -5.4774,  -5.3769,  -5.2764,  -5.1759,\n",
       "         -5.0754,  -4.9749,  -4.8744,  -4.7739,  -4.6734,  -4.5729,  -4.4724,\n",
       "         -4.3719,  -4.2714,  -4.1709,  -4.0704,  -3.9698,  -3.8693,  -3.7688,\n",
       "         -3.6683,  -3.5678,  -3.4673,  -3.3668,  -3.2663,  -3.1658,  -3.0653,\n",
       "         -2.9648,  -2.8643,  -2.7638,  -2.6633,  -2.5628,  -2.4623,  -2.3618,\n",
       "         -2.2613,  -2.1608,  -2.0603,  -1.9598,  -1.8593,  -1.7588,  -1.6583,\n",
       "         -1.5578,  -1.4573,  -1.3568,  -1.2563,  -1.1558,  -1.0553,  -0.9548,\n",
       "         -0.8543,  -0.7538,  -0.6533,  -0.5528,  -0.4523,  -0.3518,  -0.2513,\n",
       "         -0.1508,  -0.0503,   0.0503,   0.1508,   0.2513,   0.3518,   0.4523,\n",
       "          0.5528,   0.6533,   0.7538,   0.8543,   0.9548,   1.0553,   1.1558,\n",
       "          1.2563,   1.3568,   1.4573,   1.5578,   1.6583,   1.7588,   1.8593,\n",
       "          1.9598,   2.0603,   2.1608,   2.2613,   2.3618,   2.4623,   2.5628,\n",
       "          2.6633,   2.7638,   2.8643,   2.9648,   3.0653,   3.1658,   3.2663,\n",
       "          3.3668,   3.4673,   3.5678,   3.6683,   3.7688,   3.8693,   3.9698,\n",
       "          4.0704,   4.1709,   4.2714,   4.3719,   4.4724,   4.5729,   4.6734,\n",
       "          4.7739,   4.8744,   4.9749,   5.0754,   5.1759,   5.2764,   5.3769,\n",
       "          5.4774,   5.5779,   5.6784,   5.7789,   5.8794,   5.9799,   6.0804,\n",
       "          6.1809,   6.2814,   6.3819,   6.4824,   6.5829,   6.6834,   6.7839,\n",
       "          6.8844,   6.9849,   7.0854,   7.1859,   7.2864,   7.3869,   7.4874,\n",
       "          7.5879,   7.6884,   7.7889,   7.8894,   7.9900,   8.0905,   8.1910,\n",
       "          8.2915,   8.3920,   8.4925,   8.5930,   8.6935,   8.7940,   8.8945,\n",
       "          8.9950,   9.0955,   9.1960,   9.2965,   9.3970,   9.4975,   9.5980,\n",
       "          9.6985,   9.7990,   9.8995,  10.0000])"
      ]
     },
     "execution_count": 2,
     "metadata": {},
     "output_type": "execute_result"
    }
   ],
   "source": [
    "# Generate some fake data\n",
    "# x.shape() = (200,1)\n",
    "x = torch.linspace(-10,10, 200)\n",
    "x"
   ]
  },
  {
   "cell_type": "code",
   "execution_count": 3,
   "metadata": {},
   "outputs": [
    {
     "data": {
      "text/plain": [
       "torch.Size([200])"
      ]
     },
     "execution_count": 3,
     "metadata": {},
     "output_type": "execute_result"
    }
   ],
   "source": [
    "# Shape of \"x\"\n",
    "x.shape"
   ]
  },
  {
   "cell_type": "code",
   "execution_count": 4,
   "metadata": {},
   "outputs": [
    {
     "data": {
      "text/plain": [
       "tensor([-10.0000,  -9.8995,  -9.7990,  -9.6985,  -9.5980,  -9.4975,  -9.3970,\n",
       "         -9.2965,  -9.1960,  -9.0955,  -8.9950,  -8.8945,  -8.7940,  -8.6935,\n",
       "         -8.5930,  -8.4925,  -8.3920,  -8.2915,  -8.1910,  -8.0905,  -7.9899,\n",
       "         -7.8894,  -7.7889,  -7.6884,  -7.5879,  -7.4874,  -7.3869,  -7.2864,\n",
       "         -7.1859,  -7.0854,  -6.9849,  -6.8844,  -6.7839,  -6.6834,  -6.5829,\n",
       "         -6.4824,  -6.3819,  -6.2814,  -6.1809,  -6.0804,  -5.9799,  -5.8794,\n",
       "         -5.7789,  -5.6784,  -5.5779,  -5.4774,  -5.3769,  -5.2764,  -5.1759,\n",
       "         -5.0754,  -4.9749,  -4.8744,  -4.7739,  -4.6734,  -4.5729,  -4.4724,\n",
       "         -4.3719,  -4.2714,  -4.1709,  -4.0704,  -3.9698,  -3.8693,  -3.7688,\n",
       "         -3.6683,  -3.5678,  -3.4673,  -3.3668,  -3.2663,  -3.1658,  -3.0653,\n",
       "         -2.9648,  -2.8643,  -2.7638,  -2.6633,  -2.5628,  -2.4623,  -2.3618,\n",
       "         -2.2613,  -2.1608,  -2.0603,  -1.9598,  -1.8593,  -1.7588,  -1.6583,\n",
       "         -1.5578,  -1.4573,  -1.3568,  -1.2563,  -1.1558,  -1.0553,  -0.9548,\n",
       "         -0.8543,  -0.7538,  -0.6533,  -0.5528,  -0.4523,  -0.3518,  -0.2513,\n",
       "         -0.1508,  -0.0503,   0.0503,   0.1508,   0.2513,   0.3518,   0.4523,\n",
       "          0.5528,   0.6533,   0.7538,   0.8543,   0.9548,   1.0553,   1.1558,\n",
       "          1.2563,   1.3568,   1.4573,   1.5578,   1.6583,   1.7588,   1.8593,\n",
       "          1.9598,   2.0603,   2.1608,   2.2613,   2.3618,   2.4623,   2.5628,\n",
       "          2.6633,   2.7638,   2.8643,   2.9648,   3.0653,   3.1658,   3.2663,\n",
       "          3.3668,   3.4673,   3.5678,   3.6683,   3.7688,   3.8693,   3.9698,\n",
       "          4.0704,   4.1709,   4.2714,   4.3719,   4.4724,   4.5729,   4.6734,\n",
       "          4.7739,   4.8744,   4.9749,   5.0754,   5.1759,   5.2764,   5.3769,\n",
       "          5.4774,   5.5779,   5.6784,   5.7789,   5.8794,   5.9799,   6.0804,\n",
       "          6.1809,   6.2814,   6.3819,   6.4824,   6.5829,   6.6834,   6.7839,\n",
       "          6.8844,   6.9849,   7.0854,   7.1859,   7.2864,   7.3869,   7.4874,\n",
       "          7.5879,   7.6884,   7.7889,   7.8894,   7.9900,   8.0905,   8.1910,\n",
       "          8.2915,   8.3920,   8.4925,   8.5930,   8.6935,   8.7940,   8.8945,\n",
       "          8.9950,   9.0955,   9.1960,   9.2965,   9.3970,   9.4975,   9.5980,\n",
       "          9.6985,   9.7990,   9.8995,  10.0000])"
      ]
     },
     "execution_count": 4,
     "metadata": {},
     "output_type": "execute_result"
    }
   ],
   "source": [
    "# Define a variable with values of \"x\"\n",
    "x = Variable(x)\n",
    "x"
   ]
  },
  {
   "cell_type": "code",
   "execution_count": 5,
   "metadata": {},
   "outputs": [
    {
     "data": {
      "text/plain": [
       "torch.Tensor"
      ]
     },
     "execution_count": 5,
     "metadata": {},
     "output_type": "execute_result"
    }
   ],
   "source": [
    "type(x)"
   ]
  },
  {
   "cell_type": "code",
   "execution_count": 6,
   "metadata": {},
   "outputs": [
    {
     "data": {
      "text/plain": [
       "array([-10.        ,  -9.899497  ,  -9.798995  ,  -9.698492  ,\n",
       "        -9.59799   ,  -9.497487  ,  -9.396985  ,  -9.296482  ,\n",
       "        -9.19598   ,  -9.095477  ,  -8.994975  ,  -8.894472  ,\n",
       "        -8.79397   ,  -8.693467  ,  -8.592965  ,  -8.492462  ,\n",
       "        -8.39196   ,  -8.291457  ,  -8.190955  ,  -8.090452  ,\n",
       "        -7.9899497 ,  -7.889447  ,  -7.7889447 ,  -7.688442  ,\n",
       "        -7.5879397 ,  -7.4874372 ,  -7.3869348 ,  -7.2864323 ,\n",
       "        -7.1859293 ,  -7.0854273 ,  -6.9849243 ,  -6.8844223 ,\n",
       "        -6.7839193 ,  -6.6834173 ,  -6.5829144 ,  -6.4824123 ,\n",
       "        -6.3819094 ,  -6.2814074 ,  -6.1809044 ,  -6.080402  ,\n",
       "        -5.9798994 ,  -5.879397  ,  -5.7788944 ,  -5.678392  ,\n",
       "        -5.5778894 ,  -5.477387  ,  -5.3768845 ,  -5.276382  ,\n",
       "        -5.1758795 ,  -5.075377  ,  -4.9748745 ,  -4.874372  ,\n",
       "        -4.7738695 ,  -4.673367  ,  -4.572864  ,  -4.4723616 ,\n",
       "        -4.371859  ,  -4.2713566 ,  -4.170854  ,  -4.0703516 ,\n",
       "        -3.969849  ,  -3.8693466 ,  -3.7688441 ,  -3.6683416 ,\n",
       "        -3.5678391 ,  -3.4673367 ,  -3.3668342 ,  -3.2663317 ,\n",
       "        -3.1658292 ,  -3.0653267 ,  -2.9648242 ,  -2.8643217 ,\n",
       "        -2.7638192 ,  -2.6633167 ,  -2.5628142 ,  -2.4623113 ,\n",
       "        -2.3618088 ,  -2.2613063 ,  -2.1608038 ,  -2.0603013 ,\n",
       "        -1.9597988 ,  -1.8592968 ,  -1.7587938 ,  -1.6582918 ,\n",
       "        -1.5577888 ,  -1.4572868 ,  -1.3567839 ,  -1.2562809 ,\n",
       "        -1.1557789 ,  -1.0552759 ,  -0.9547739 ,  -0.85427094,\n",
       "        -0.7537689 ,  -0.65326595,  -0.55276394,  -0.45226097,\n",
       "        -0.35175896,  -0.251256  ,  -0.15075397,  -0.05025101,\n",
       "         0.05025101,   0.15075397,   0.251256  ,   0.35175896,\n",
       "         0.45226097,   0.55276394,   0.65326595,   0.7537689 ,\n",
       "         0.8542719 ,   0.9547739 ,   1.0552769 ,   1.1557789 ,\n",
       "         1.2562819 ,   1.3567839 ,   1.4572868 ,   1.5577888 ,\n",
       "         1.6582918 ,   1.7587938 ,   1.8592968 ,   1.9597988 ,\n",
       "         2.0603018 ,   2.1608038 ,   2.2613068 ,   2.3618088 ,\n",
       "         2.4623117 ,   2.5628138 ,   2.6633167 ,   2.7638187 ,\n",
       "         2.8643217 ,   2.9648247 ,   3.0653267 ,   3.1658297 ,\n",
       "         3.2663317 ,   3.3668346 ,   3.4673367 ,   3.5678396 ,\n",
       "         3.6683416 ,   3.7688446 ,   3.8693466 ,   3.9698496 ,\n",
       "         4.0703516 ,   4.1708546 ,   4.2713566 ,   4.3718596 ,\n",
       "         4.4723616 ,   4.5728645 ,   4.6733665 ,   4.7738695 ,\n",
       "         4.8743715 ,   4.9748745 ,   5.0753775 ,   5.1758795 ,\n",
       "         5.2763824 ,   5.3768845 ,   5.4773874 ,   5.5778894 ,\n",
       "         5.6783924 ,   5.7788944 ,   5.8793974 ,   5.9798994 ,\n",
       "         6.0804024 ,   6.1809044 ,   6.2814064 ,   6.3819103 ,\n",
       "         6.4824123 ,   6.5829144 ,   6.6834164 ,   6.7839203 ,\n",
       "         6.8844223 ,   6.9849243 ,   7.0854263 ,   7.1859303 ,\n",
       "         7.2864323 ,   7.3869343 ,   7.487438  ,   7.58794   ,\n",
       "         7.688442  ,   7.7889442 ,   7.889448  ,   7.98995   ,\n",
       "         8.090452  ,   8.190954  ,   8.291458  ,   8.39196   ,\n",
       "         8.492462  ,   8.592964  ,   8.693468  ,   8.79397   ,\n",
       "         8.894472  ,   8.994974  ,   9.095478  ,   9.19598   ,\n",
       "         9.296482  ,   9.396986  ,   9.497488  ,   9.59799   ,\n",
       "         9.698492  ,   9.798996  ,   9.899498  ,  10.        ],\n",
       "      dtype=float32)"
      ]
     },
     "execution_count": 6,
     "metadata": {},
     "output_type": "execute_result"
    }
   ],
   "source": [
    "# Numpy values of x\n",
    "x_np = x.numpy()\n",
    "x_np"
   ]
  },
  {
   "cell_type": "code",
   "execution_count": 7,
   "metadata": {},
   "outputs": [
    {
     "name": "stderr",
     "output_type": "stream",
     "text": [
      "/Users/anujdutt/miniconda3/envs/deeplearning/lib/python3.6/site-packages/torch/nn/functional.py:1006: UserWarning: nn.functional.sigmoid is deprecated. Use torch.sigmoid instead.\n",
      "  warnings.warn(\"nn.functional.sigmoid is deprecated. Use torch.sigmoid instead.\")\n",
      "/Users/anujdutt/miniconda3/envs/deeplearning/lib/python3.6/site-packages/torch/nn/functional.py:995: UserWarning: nn.functional.tanh is deprecated. Use torch.tanh instead.\n",
      "  warnings.warn(\"nn.functional.tanh is deprecated. Use torch.tanh instead.\")\n"
     ]
    }
   ],
   "source": [
    "# Apply Activation Functions\n",
    "# Convert to numpy for plotting\n",
    "y_sigmoid = F.sigmoid(x).data.numpy()\n",
    "y_tanh = F.tanh(x).data.numpy()\n",
    "y_relu = F.relu(x).data.numpy()\n",
    "y_softplus = F.softplus(x).data.numpy()"
   ]
  },
  {
   "cell_type": "code",
   "execution_count": 8,
   "metadata": {},
   "outputs": [
    {
     "data": {
      "text/plain": [
       "Text(0.5, 1.0, 'Sigmoid Activation')"
      ]
     },
     "execution_count": 8,
     "metadata": {},
     "output_type": "execute_result"
    },
    {
     "data": {
      "image/png": "[encoded data removed]",
      "text/plain": [
       "<Figure size 432x288 with 1 Axes>"
      ]
     },
     "metadata": {
      "needs_background": "light"
     },
     "output_type": "display_data"
    }
   ],
   "source": [
    "# Plot Activations\n",
    "plt.plot(x_np,y_sigmoid, 'b-')\n",
    "plt.title('Sigmoid Activation')"
   ]
  },
  {
   "cell_type": "code",
   "execution_count": 9,
   "metadata": {},
   "outputs": [
    {
     "data": {
      "text/plain": [
       "Text(0.5, 1.0, 'Tanh Activation')"
      ]
     },
     "execution_count": 9,
     "metadata": {},
     "output_type": "execute_result"
    },
    {
     "data": {
      "image/png": "[encoded data removed]",
      "text/plain": [
       "<Figure size 432x288 with 1 Axes>"
      ]
     },
     "metadata": {
      "needs_background": "light"
     },
     "output_type": "display_data"
    }
   ],
   "source": [
    "# Plot Activations\n",
    "plt.plot(x_np,y_tanh, 'g-')\n",
    "plt.title('Tanh Activation')"
   ]
  },
  {
   "cell_type": "code",
   "execution_count": 10,
   "metadata": {},
   "outputs": [
    {
     "data": {
      "text/plain": [
       "Text(0.5, 1.0, 'Softplus Activation')"
      ]
     },
     "execution_count": 10,
     "metadata": {},
     "output_type": "execute_result"
    },
    {
     "data": {
      "image/png": "[encoded data removed]",
      "text/plain": [
       "<Figure size 432x288 with 1 Axes>"
      ]
     },
     "metadata": {
      "needs_background": "light"
     },
     "output_type": "display_data"
    }
   ],
   "source": [
    "# Plot Activations\n",
    "plt.plot(x_np,y_softplus, 'r-')\n",
    "plt.title('Softplus Activation')"
   ]
  },
  {
   "cell_type": "code",
   "execution_count": 11,
   "metadata": {},
   "outputs": [
    {
     "data": {
      "text/plain": [
       "Text(0.5, 1.0, 'ReLU Activation')"
      ]
     },
     "execution_count": 11,
     "metadata": {},
     "output_type": "execute_result"
    },
    {
     "data": {
      "image/png": "[encoded data removed]",
      "text/plain": [
       "<Figure size 432x288 with 1 Axes>"
      ]
     },
     "metadata": {
      "needs_background": "light"
     },
     "output_type": "display_data"
    }
   ],
   "source": [
    "# Plot Activations\n",
    "plt.plot(x_np,y_relu, 'y-')\n",
    "plt.title('ReLU Activation')"
   ]
  }
 ],
 "metadata": {
  "kernelspec": {
   "display_name": "Python 3",
   "language": "python",
   "name": "python3"
  },
  "language_info": {
   "codemirror_mode": {
    "name": "ipython",
    "version": 3
   },
   "file_extension": ".py",
   "mimetype": "text/x-python",
   "name": "python",
   "nbconvert_exporter": "python",
   "pygments_lexer": "ipython3",
   "version": "3.6.6"
  }
 },
 "nbformat": 4,
 "nbformat_minor": 2
}
