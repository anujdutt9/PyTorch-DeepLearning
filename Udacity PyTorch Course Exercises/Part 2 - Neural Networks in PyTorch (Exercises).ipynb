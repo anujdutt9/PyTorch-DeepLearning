{
 "cells": [
  {
   "cell_type": "markdown",
   "metadata": {},
   "source": [
    "# Neural networks with PyTorch\n",
    "\n",
    "Deep learning networks tend to be massive with dozens or hundreds of layers, that's where the term \"deep\" comes from. You can build one of these deep networks using only weight matrices as we did in the previous notebook, but in general it's very cumbersome and difficult to implement. PyTorch has a nice module `nn` that provides a nice way to efficiently build large neural networks."
   ]
  },
  {
   "cell_type": "code",
   "execution_count": 1,
   "metadata": {},
   "outputs": [],
   "source": [
    "# Import necessary packages\n",
    "\n",
    "%matplotlib inline\n",
    "%config InlineBackend.figure_format = 'retina'\n",
    "\n",
    "import numpy as np\n",
    "import torch\n",
    "\n",
    "import helper\n",
    "\n",
    "import matplotlib.pyplot as plt"
   ]
  },
  {
   "cell_type": "markdown",
   "metadata": {},
   "source": [
    "\n",
    "Now we're going to build a larger network that can solve a (formerly) difficult problem, identifying text in an image. Here we'll use the MNIST dataset which consists of greyscale handwritten digits. Each image is 28x28 pixels, you can see a sample below\n",
    "\n",
    "<img src='assets/mnist.png'>\n",
    "\n",
    "Our goal is to build a neural network that can take one of these images and predict the digit in the image.\n",
    "\n",
    "First up, we need to get our dataset. This is provided through the `torchvision` package. The code below will download the MNIST dataset, then create training and test datasets for us. Don't worry too much about the details here, you'll learn more about this later."
   ]
  },
  {
   "cell_type": "code",
   "execution_count": 2,
   "metadata": {},
   "outputs": [],
   "source": [
    "### Run this cell\n",
    "\n",
    "from torchvision import datasets, transforms\n",
    "\n",
    "# Define a transform to normalize the data\n",
    "transform = transforms.Compose([transforms.ToTensor(),\n",
    "                              transforms.Normalize((0.5, 0.5, 0.5), (0.5, 0.5, 0.5)),\n",
    "                              ])\n",
    "\n",
    "# Download and load the training data\n",
    "trainset = datasets.MNIST('MNIST_data/', download=True, train=True, transform=transform)\n",
    "trainloader = torch.utils.data.DataLoader(trainset, batch_size=64, shuffle=True)"
   ]
  },
  {
   "cell_type": "markdown",
   "metadata": {},
   "source": [
    "We have the training data loaded into `trainloader` and we make that an iterator with `iter(trainloader)`. Later, we'll use this to loop through the dataset for training, like\n",
    "\n",
    "```python\n",
    "for image, label in trainloader:\n",
    "    ## do things with images and labels\n",
    "```\n",
    "\n",
    "You'll notice I created the `trainloader` with a batch size of 64, and `shuffle=True`. The batch size is the number of images we get in one iteration from the data loader and pass through our network, often called a *batch*. And `shuffle=True` tells it to shuffle the dataset every time we start going through the data loader again. But here I'm just grabbing the first batch so we can check out the data. We can see below that `images` is just a tensor with size `(64, 1, 28, 28)`. So, 64 images per batch, 1 color channel, and 28x28 images."
   ]
  },
  {
   "cell_type": "code",
   "execution_count": 3,
   "metadata": {},
   "outputs": [
    {
     "name": "stdout",
     "output_type": "stream",
     "text": [
      "<class 'torch.Tensor'>\n",
      "torch.Size([64, 1, 28, 28])\n",
      "torch.Size([64])\n"
     ]
    }
   ],
   "source": [
    "dataiter = iter(trainloader)\n",
    "images, labels = dataiter.next()\n",
    "print(type(images))\n",
    "print(images.shape)\n",
    "print(labels.shape)"
   ]
  },
  {
   "cell_type": "markdown",
   "metadata": {},
   "source": [
    "This is what one of the images looks like. "
   ]
  },
  {
   "cell_type": "code",
   "execution_count": 4,
   "metadata": {},
   "outputs": [
    {
     "data": {
      "image/png": "[encoded data removed]",
      "text/plain": [
       "<Figure size 432x288 with 1 Axes>"
      ]
     },
     "metadata": {
      "image/png": {
       "height": 250,
       "width": 253
      },
      "needs_background": "light"
     },
     "output_type": "display_data"
    }
   ],
   "source": [
    "plt.imshow(images[1].numpy().squeeze(), cmap='Greys_r');"
   ]
  },
  {
   "cell_type": "code",
   "execution_count": 5,
   "metadata": {},
   "outputs": [
    {
     "name": "stdout",
     "output_type": "stream",
     "text": [
      "Label for Image above:  2\n"
     ]
    }
   ],
   "source": [
    "print(\"Label for Image above: \",labels[1].numpy())"
   ]
  },
  {
   "cell_type": "markdown",
   "metadata": {},
   "source": [
    "First, let's try to build a simple network for this dataset using weight matrices and matrix multiplications. Then, we'll see how to do it using PyTorch's `nn` module which provides a much more convenient and powerful method for defining network architectures.\n",
    "\n",
    "The networks you've seen so far are called *fully-connected* or *dense* networks. Each unit in one layer is connected to each unit in the next layer. In fully-connected networks, the input to each layer must be a one-dimensional vector (which can be stacked into a 2D tensor as a batch of multiple examples). However, our images are 28x28 2D tensors, so we need to convert them into 1D vectors. Thinking about sizes, we need to convert the batch of images with shape `(64, 1, 28, 28)` to a have a shape of `(64, 784)`, 784 is 28 times 28. This is typically called *flattening*, we flattened the 2D images into 1D vectors.\n",
    "\n",
    "Previously you built a network with one output unit. Here we need 10 output units, one for each digit. We want our network to predict the digit shown in an image, so what we'll do is calculate probabilities that the image is of any one digit or class. This ends up being a discrete probability distribution over the classes (digits) that tells us the most likely class for the image. That means we need 10 output units for the 10 classes (digits). We'll see how to convert the network output into a probability distribution next.\n",
    "\n",
    "> **Exercise:** Flatten the batch of images `images`. Then build a multi-layer network with 784 input units, 256 hidden units, and 10 output units using random tensors for the weights and biases. For now, use a sigmoid activation for the hidden layer. Leave the output layer without an activation, we'll add one that gives us a probability distribution next."
   ]
  },
  {
   "cell_type": "code",
   "execution_count": 6,
   "metadata": {},
   "outputs": [
    {
     "name": "stdout",
     "output_type": "stream",
     "text": [
      "tensor([[ -3.6502,   1.2209,  10.0580,  30.5940,  -0.8915, -18.5802, -12.1351,\n",
      "           3.8716, -18.6684,  -0.2621],\n",
      "        [ -3.3917,   1.2576,  -3.1072,  23.3607,   1.6216, -23.1013,  -2.8430,\n",
      "          11.4514,  -9.4619,   1.6236],\n",
      "        [ -1.4577,   1.4011,  -3.3625,  14.6465,   1.0615, -26.7491,  -6.9176,\n",
      "          13.0258,  -7.7263, -13.8266],\n",
      "        [ -0.4019,  -7.3244,  -2.5876,  17.4876,   8.9631, -17.1075, -13.4868,\n",
      "           4.8545,  -8.3447,   3.9977],\n",
      "        [  1.9518,  -6.6587,  -3.2518,  15.0549,   1.5053, -26.2688,  -7.7920,\n",
      "          17.0264, -12.4716,  -3.7105],\n",
      "        [ -5.2021,  -7.7814,   0.0611,  22.2197,   3.9564, -32.1480,  -8.9550,\n",
      "          15.1684, -12.8999,  -4.0703],\n",
      "        [  2.2466,   3.0571,  10.3213,  16.1778,   7.4256, -22.8755,  -6.9948,\n",
      "          10.7491,  -9.4211,  -7.5709],\n",
      "        [ -2.3413,  -8.7958,   2.0885,  15.8749,   8.2901, -28.2042, -11.3324,\n",
      "          14.5297, -11.9792,   1.4688],\n",
      "        [  3.5444,   3.6324,  10.1236,  15.8543,  13.1526, -13.2987,  -0.0639,\n",
      "           7.1426,  -7.8645, -10.5178],\n",
      "        [-10.0394,  -4.0346,  -3.0871,  14.5439,   1.6976, -23.4226,  -8.2950,\n",
      "          18.2743, -21.2291,   5.5366],\n",
      "        [  2.0267,  -7.2319,   8.2374,  10.2281,   9.7206, -23.5380,  -0.8760,\n",
      "           4.7372, -23.2005,   5.5752],\n",
      "        [  5.5400,  -8.4086,  -0.6262,  20.7782,   2.8306, -16.9693,  -1.0157,\n",
      "           9.5798, -12.3316,  -2.8178],\n",
      "        [  7.6697,   0.2034,  -5.5859,   4.4086,   8.7362, -28.5077, -13.1854,\n",
      "           8.1800, -27.3127,  -2.5574],\n",
      "        [  3.7204,  -1.9375, -10.1711,  18.6468,   6.4811, -26.8068, -14.3630,\n",
      "          10.6054,  -4.2625,  -6.7810],\n",
      "        [ -3.7689,  -7.0155,  -4.3048,  15.6992,  -3.7692, -18.6884, -15.5912,\n",
      "           4.1177, -28.5795,   0.1906],\n",
      "        [  3.3771,  -1.5797,  -0.3803,  15.3048,   3.3542, -20.7912,  -4.0704,\n",
      "          12.6363, -21.7912,  -1.5910],\n",
      "        [ -1.5255,  -9.3103, -12.7649,  13.3443,   5.7585, -29.6792,  -3.4570,\n",
      "          14.9718, -16.0019,  -6.1144],\n",
      "        [  3.6952,   9.5063,  -8.8515,   5.4714,   3.8795, -20.0389, -15.1285,\n",
      "          10.0305, -18.6105,  -0.5442],\n",
      "        [  0.0084,  -9.8952,   0.3079,   7.5083,   7.0106, -14.1482, -15.6421,\n",
      "           6.0505, -13.9775,   2.5796],\n",
      "        [ -4.1815,  12.7059,  -4.4895,  16.2053,   3.9558, -23.8862,  -9.4583,\n",
      "           6.4605, -10.9240,   1.0730],\n",
      "        [ -2.3569,  -4.2027,   1.4072,   7.3140,   8.4853, -15.9895,  -6.4746,\n",
      "          14.9632, -21.4399,   4.6740],\n",
      "        [  3.5862,   0.4897,   1.2604,   9.4326,   1.0521, -29.7191,  -8.2353,\n",
      "           9.1848, -23.0312,  -2.3819],\n",
      "        [ -1.6677,  -0.9969,  -8.6873,  15.3443,  -4.3838, -24.6223, -14.4371,\n",
      "          10.0591, -23.1950,  -7.2692],\n",
      "        [  9.0143,  -7.8164,  -2.6365,  15.0678,  13.3365, -20.7330,  -0.9261,\n",
      "          11.1191, -21.5232,   0.7734],\n",
      "        [ -2.6766,   1.7668,  -5.7229,  12.0423,   5.9488, -27.6494,  -7.5948,\n",
      "          16.1836, -23.2534,   7.3150],\n",
      "        [  1.6648,  -0.0189,  -3.4796,  10.5273,  14.5074, -32.6157,  -7.3485,\n",
      "           3.3815,  -0.9279, -20.0522],\n",
      "        [ -7.1834,  -1.4122,   1.9021,   5.2181,  17.8577, -20.8456,  -4.3771,\n",
      "           9.2261, -15.1094, -10.2199],\n",
      "        [  1.4482,  -7.3289,  -4.2977,  19.7272,  -1.0370, -14.5030, -12.5045,\n",
      "           7.0722, -21.9562,  -4.9990],\n",
      "        [  4.8319,   0.3297,  -6.6963,  20.0701,   1.9293, -32.3497,  -6.9518,\n",
      "          -3.5830, -15.6552,  -2.6131],\n",
      "        [  8.3713,  -9.1078,  -0.6453,  22.1173,   6.5365, -26.0629,  -1.3229,\n",
      "          13.5345, -12.0096, -10.8824],\n",
      "        [  1.1134, -12.7604,  -4.4365,  11.0397,   3.2209, -25.6704,  -5.7560,\n",
      "           5.5349, -14.9860,  -2.9829],\n",
      "        [  1.0991,  -7.0643,   0.9661,  19.1168,  -4.7554, -26.6275,  -7.8458,\n",
      "          16.0726, -25.7060,  -0.8762],\n",
      "        [ -0.0708,  -1.9114,  -5.5932,  18.4960,  -2.6456, -18.0447,   0.8144,\n",
      "          11.3965, -11.9101,  -9.8882],\n",
      "        [  5.6328,  -7.6953,  -5.8131,  19.5217,   7.5219, -22.8073,  -7.8700,\n",
      "          14.3150, -10.4508,  -2.3716],\n",
      "        [ -3.9752,   0.5859,  -0.5011,  23.2176,   4.1462, -24.3588,  -6.1027,\n",
      "          -1.0169, -17.7554,  -2.6752],\n",
      "        [  2.8230,  -6.9518,   3.2756,  16.9719,  16.4127, -18.9793,  -9.1333,\n",
      "          11.2006, -12.0608, -10.7775],\n",
      "        [ -1.0736, -13.7382,  -3.1937,  20.1602,   8.2752, -34.3112, -12.1287,\n",
      "          18.1951, -15.6394,  -3.7090],\n",
      "        [  0.2826,   7.9213,   7.4565,  18.5384,   5.1700, -20.9584,  -7.6647,\n",
      "           7.8802, -23.8318,  -2.6891],\n",
      "        [ -4.1760,   1.8018,  -1.1618,  11.7086,  -0.2550, -26.8512,  -9.0062,\n",
      "          20.5125, -27.7647,   4.6406],\n",
      "        [  3.6125,  -7.6889,  -4.2988,  28.5102,   1.8402, -30.1505,  -6.0517,\n",
      "          14.9782, -12.6658,  -4.5694],\n",
      "        [ -1.4000,  -6.3534, -10.1422,  18.4119,  11.8491, -35.4397,  -2.0678,\n",
      "           5.7256,  -8.6759,  -7.9217],\n",
      "        [  3.8998,  -8.5859,   9.1810,  20.5892,   7.4804, -15.0032,  -9.7051,\n",
      "           6.8986, -12.1388, -17.9157],\n",
      "        [ -1.9396,  -8.9744, -10.8136,  19.8874,  -1.1495, -24.1274, -16.1139,\n",
      "           4.5400,  -8.3808,   1.3852],\n",
      "        [  2.0109, -13.3182,  -5.2810,  18.9686,   8.1277, -25.4769, -19.6285,\n",
      "           5.9510, -13.8468,  -1.1305],\n",
      "        [ -0.8721,  -5.4752,  -9.4129,  13.6058,  -3.7868, -21.9998,  -3.8330,\n",
      "           8.5656, -14.1699,   6.0496],\n",
      "        [ -2.6334, -11.6401,  -7.5042,  12.4141,   6.1970, -30.2618, -10.0556,\n",
      "          17.4359, -17.6902, -13.2091],\n",
      "        [  8.9280,  -6.7105,   8.1255,  22.8875,   3.1928, -17.4222, -11.0614,\n",
      "           4.6906, -20.6257,   5.1640],\n",
      "        [ -3.8528,  -0.7945,  -4.0702,  16.6451,  10.9780, -21.0294,  -7.4316,\n",
      "          14.5404, -13.2891,  -7.8053],\n",
      "        [  6.6205,   4.8281,   2.4949,   8.6873,  -8.8172, -21.7138, -17.3680,\n",
      "          18.8852, -14.9948,  -9.3713],\n",
      "        [  5.1589,  -5.8490, -10.9451,   7.8440,   4.8101, -32.5859, -11.0407,\n",
      "          20.3245, -16.3181,  -5.6082],\n",
      "        [  0.1828,  -6.0756,  14.4211,  18.1184,  13.9297, -24.8637,  -4.8045,\n",
      "           9.8193, -16.3602,  -1.9065],\n",
      "        [ -3.3144, -11.4629,  -7.3526,  18.8442,   8.2366, -14.6626, -16.5910,\n",
      "          11.8983, -14.7728,  -5.3061],\n",
      "        [ -1.0306,  -1.6251,  -8.3808,  11.7388,   5.4680, -22.6037,  -5.2579,\n",
      "          12.5611, -15.6503,  -0.9531],\n",
      "        [  9.0359, -18.1152, -10.6721,  12.4163,   1.2649, -19.5055, -11.3547,\n",
      "          22.0265, -10.5773,   6.8489],\n",
      "        [  6.6984,  -4.8540,  -2.4207,  13.2905,   3.7307, -21.4741, -14.8775,\n",
      "           6.5775, -10.3005,  -2.7044],\n",
      "        [ -1.1103,  -6.0575,  -8.4077,   7.3754,  15.1911, -18.4667,  -0.6795,\n",
      "           6.4815, -15.9269,  -0.7703],\n",
      "        [ 10.1755,   2.9581,   3.6908,  23.5445,   1.3590, -25.7888, -10.4953,\n",
      "           7.6908, -26.6975,  -1.4787],\n",
      "        [ -9.8674,  10.4838,  -1.1447,  13.4465,   1.5603, -35.5940,  -2.2652,\n",
      "           3.7761, -30.8699,  -9.9531],\n",
      "        [  3.5679, -11.1249, -12.9161,  23.8631,   7.2130, -32.4002, -10.3210,\n",
      "           3.4221,  -0.2228, -10.2665],\n",
      "        [  5.4575,  -9.0244,  -3.5216,  13.8196,  -2.9400, -27.6748,  -4.8195,\n",
      "           1.5847, -15.0096, -14.0342],\n",
      "        [ -7.7002,  -2.0072,  -4.3588,  22.9848,   3.1484, -26.8729,  -4.2672,\n",
      "          21.2818,  -1.6073,   0.6945],\n",
      "        [ -7.8041,  -5.5102,  -4.3609,  17.4638,   2.7528, -20.9360,  -9.9452,\n",
      "           4.1440,  -8.4685,   1.8243],\n",
      "        [ -0.5062,   0.5250,   1.9167,   7.7890,  13.3162, -25.5299,  -5.1593,\n",
      "          20.1802,  -8.8258,   1.5329],\n",
      "        [ -3.3101,  -1.2490,  -5.3363,  22.0259,  -3.2518, -23.6956, -11.4676,\n",
      "          11.8669, -17.0605,  -3.2769]])\n"
     ]
    }
   ],
   "source": [
    "## Your solution\n",
    "\n",
    "# Import Dependencies\n",
    "import torch.nn as nn\n",
    "import torch.utils.data as Data\n",
    "from torch.autograd import Variable\n",
    "\n",
    "# Steps:\n",
    "# Get images, labels in batches\n",
    "\n",
    "# Activation Function\n",
    "def activation(z):\n",
    "    return (1 / (1+torch.exp(-z)))\n",
    "\n",
    "# Flatten the images to match the size (64,784)\n",
    "input_images = images.view(images.shape[0], -1)\n",
    "\n",
    "# Make two layered neural network\n",
    "# 784 -> 256 -> 10\n",
    "\n",
    "# Hidden Weights 1\n",
    "w_1 = torch.randn(784,256)\n",
    "# Hidden Bias 1\n",
    "b_1 = torch.randn(256)\n",
    "\n",
    "# Hidden Weights 2\n",
    "w_2 = torch.randn(256,10)\n",
    "# Hidden Bias 2\n",
    "b_2 = torch.randn(10)\n",
    "\n",
    "# Hidden Layer: Input to Hidden Layer\n",
    "# h = w * x + b\n",
    "h = torch.mm(input_images, w_1) + b_1\n",
    "# Apply Activation to Hidden Layer\n",
    "f_h = activation(h)\n",
    "\n",
    "# Output Layer\n",
    "# out = w * h + b\n",
    "out = torch.mm(f_h, w_2) + b_2\n",
    "\n",
    "print(out)"
   ]
  },
  {
   "cell_type": "code",
   "execution_count": 7,
   "metadata": {},
   "outputs": [
    {
     "name": "stdout",
     "output_type": "stream",
     "text": [
      "Shape of Input Layer:  784\n",
      "Shape of Hidden Layer:  256\n",
      "Shape of Output Layer:  10\n"
     ]
    }
   ],
   "source": [
    "# Verifying Shapes\n",
    "print(\"Shape of Input Layer: \", input_images.shape[1])\n",
    "print(\"Shape of Hidden Layer: \", h.shape[1])\n",
    "print(\"Shape of Output Layer: \", out.shape[1])"
   ]
  },
  {
   "cell_type": "markdown",
   "metadata": {},
   "source": [
    "Now we have 10 outputs for our network. We want to pass in an image to our network and get out a probability distribution over the classes that tells us the likely class(es) the image belongs to. Something that looks like this:\n",
    "<img src='assets/image_distribution.png' width=500px>\n",
    "\n",
    "Here we see that the probability for each class is roughly the same. This is representing an untrained network, it hasn't seen any data yet so it just returns a uniform distribution with equal probabilities for each class.\n",
    "\n",
    "To calculate this probability distribution, we often use the [**softmax** function](https://en.wikipedia.org/wiki/Softmax_function). Mathematically this looks like\n",
    "\n",
    "$$\n",
    "\\Large \\sigma(x_i) = \\cfrac{e^{x_i}}{\\sum_k^K{e^{x_k}}}\n",
    "$$\n",
    "\n",
    "What this does is squish each input $x_i$ between 0 and 1 and normalizes the values to give you a proper probability distribution where the probabilites sum up to one.\n",
    "\n",
    "> **Exercise:** Implement a function `softmax` that performs the softmax calculation and returns probability distributions for each example in the batch. Note that you'll need to pay attention to the shapes when doing this. If you have a tensor `a` with shape `(64, 10)` and a tensor `b` with shape `(64,)`, doing `a/b` will give you an error because PyTorch will try to do the division across the columns (called broadcasting) but you'll get a size mismatch. The way to think about this is for each of the 64 examples, you only want to divide by one value, the sum in the denominator. So you need `b` to have a shape of `(64, 1)`. This way PyTorch will divide the 10 values in each row of `a` by the one value in each row of `b`. Pay attention to how you take the sum as well. You'll need to define the `dim` keyword in `torch.sum`. Setting `dim=0` takes the sum across the rows while `dim=1` takes the sum across the columns."
   ]
  },
  {
   "cell_type": "code",
   "execution_count": 8,
   "metadata": {},
   "outputs": [
    {
     "name": "stdout",
     "output_type": "stream",
     "text": [
      "torch.Size([64, 10])\n",
      "tensor([1.0000, 1.0000, 1.0000, 1.0000, 1.0000, 1.0000, 1.0000, 1.0000, 1.0000,\n",
      "        1.0000, 1.0000, 1.0000, 1.0000, 1.0000, 1.0000, 1.0000, 1.0000, 1.0000,\n",
      "        1.0000, 1.0000, 1.0000, 1.0000, 1.0000, 1.0000, 1.0000, 1.0000, 1.0000,\n",
      "        1.0000, 1.0000, 1.0000, 1.0000, 1.0000, 1.0000, 1.0000, 1.0000, 1.0000,\n",
      "        1.0000, 1.0000, 1.0000, 1.0000, 1.0000, 1.0000, 1.0000, 1.0000, 1.0000,\n",
      "        1.0000, 1.0000, 1.0000, 1.0000, 1.0000, 1.0000, 1.0000, 1.0000, 1.0000,\n",
      "        1.0000, 1.0000, 1.0000, 1.0000, 1.0000, 1.0000, 1.0000, 1.0000, 1.0000,\n",
      "        1.0000])\n"
     ]
    }
   ],
   "source": [
    "# Define a softmax Activation function\n",
    "def softmax(x):\n",
    "    return (torch.exp(x) / torch.sum(torch.exp(x), dim=1).view(-1,1))\n",
    "\n",
    "# Here, out should be the output of the network in the previous excercise with shape (64,10)\n",
    "probabilities = softmax(out)\n",
    "\n",
    "# Does it have the right shape? Should be (64, 10)\n",
    "print(probabilities.shape)\n",
    "# Does it sum to 1?\n",
    "print(probabilities.sum(dim=1))"
   ]
  },
  {
   "cell_type": "markdown",
   "metadata": {},
   "source": [
    "## Building networks with PyTorch\n",
    "\n",
    "PyTorch provides a module `nn` that makes building networks much simpler. Here I'll show you how to build the same one as above with 784 inputs, 256 hidden units, 10 output units and a softmax output."
   ]
  },
  {
   "cell_type": "code",
   "execution_count": 9,
   "metadata": {},
   "outputs": [],
   "source": [
    "from torch import nn"
   ]
  },
  {
   "cell_type": "code",
   "execution_count": 10,
   "metadata": {},
   "outputs": [],
   "source": [
    "class Network(nn.Module):\n",
    "    def __init__(self):\n",
    "        super().__init__()\n",
    "        \n",
    "        # Inputs to hidden layer linear transformation\n",
    "        self.hidden = nn.Linear(784, 256)\n",
    "        # Output layer, 10 units - one for each digit\n",
    "        self.output = nn.Linear(256, 10)\n",
    "        \n",
    "        # Define sigmoid activation and softmax output \n",
    "        self.sigmoid = nn.Sigmoid()\n",
    "        self.softmax = nn.Softmax(dim=1)\n",
    "        \n",
    "    def forward(self, x):\n",
    "        # Pass the input tensor through each of our operations\n",
    "        x = self.hidden(x)\n",
    "        x = self.sigmoid(x)\n",
    "        x = self.output(x)\n",
    "        x = self.softmax(x)\n",
    "        \n",
    "        return x"
   ]
  },
  {
   "cell_type": "markdown",
   "metadata": {},
   "source": [
    "Let's go through this bit by bit.\n",
    "\n",
    "```python\n",
    "class Network(nn.Module):\n",
    "```\n",
    "\n",
    "Here we're inheriting from `nn.Module`. Combined with `super().__init__()` this creates a class that tracks the architecture and provides a lot of useful methods and attributes. It is mandatory to inherit from `nn.Module` when you're creating a class for your network. The name of the class itself can be anything.\n",
    "\n",
    "```python\n",
    "self.hidden = nn.Linear(784, 256)\n",
    "```\n",
    "\n",
    "This line creates a module for a linear transformation, $x\\mathbf{W} + b$, with 784 inputs and 256 outputs and assigns it to `self.hidden`. The module automatically creates the weight and bias tensors which we'll use in the `forward` method. You can access the weight and bias tensors once the network once it's create at `net.hidden.weight` and `net.hidden.bias`.\n",
    "\n",
    "```python\n",
    "self.output = nn.Linear(256, 10)\n",
    "```\n",
    "\n",
    "Similarly, this creates another linear transformation with 256 inputs and 10 outputs.\n",
    "\n",
    "```python\n",
    "self.sigmoid = nn.Sigmoid()\n",
    "self.softmax = nn.Softmax(dim=1)\n",
    "```\n",
    "\n",
    "Here I defined operations for the sigmoid activation and softmax output. Setting `dim=1` in `nn.Softmax(dim=1)` calculates softmax across the columns.\n",
    "\n",
    "```python\n",
    "def forward(self, x):\n",
    "```\n",
    "\n",
    "PyTorch networks created with `nn.Module` must have a `forward` method defined. It takes in a tensor `x` and passes it through the operations you defined in the `__init__` method.\n",
    "\n",
    "```python\n",
    "x = self.hidden(x)\n",
    "x = self.sigmoid(x)\n",
    "x = self.output(x)\n",
    "x = self.softmax(x)\n",
    "```\n",
    "\n",
    "Here the input tensor `x` is passed through each operation a reassigned to `x`. We can see that the input tensor goes through the hidden layer, then a sigmoid function, then the output layer, and finally the softmax function. It doesn't matter what you name the variables here, as long as the inputs and outputs of the operations match the network architecture you want to build. The order in which you define things in the `__init__` method doesn't matter, but you'll need to sequence the operations correctly in the `forward` method.\n",
    "\n",
    "Now we can create a `Network` object."
   ]
  },
  {
   "cell_type": "code",
   "execution_count": 11,
   "metadata": {},
   "outputs": [
    {
     "data": {
      "text/plain": [
       "Network(\n",
       "  (hidden): Linear(in_features=784, out_features=256, bias=True)\n",
       "  (output): Linear(in_features=256, out_features=10, bias=True)\n",
       "  (sigmoid): Sigmoid()\n",
       "  (softmax): Softmax()\n",
       ")"
      ]
     },
     "execution_count": 11,
     "metadata": {},
     "output_type": "execute_result"
    }
   ],
   "source": [
    "# Create the network and look at it's text representation\n",
    "model = Network()\n",
    "model"
   ]
  },
  {
   "cell_type": "code",
   "execution_count": 12,
   "metadata": {},
   "outputs": [
    {
     "data": {
      "text/plain": [
       "<bound method Module.parameters of Network(\n",
       "  (hidden): Linear(in_features=784, out_features=256, bias=True)\n",
       "  (output): Linear(in_features=256, out_features=10, bias=True)\n",
       "  (sigmoid): Sigmoid()\n",
       "  (softmax): Softmax()\n",
       ")>"
      ]
     },
     "execution_count": 12,
     "metadata": {},
     "output_type": "execute_result"
    }
   ],
   "source": [
    "model.parameters"
   ]
  },
  {
   "cell_type": "markdown",
   "metadata": {},
   "source": [
    "You can define the network somewhat more concisely and clearly using the `torch.nn.functional` module. This is the most common way you'll see networks defined as many operations are simple element-wise functions. We normally import this module as `F`, `import torch.nn.functional as F`."
   ]
  },
  {
   "cell_type": "code",
   "execution_count": 13,
   "metadata": {},
   "outputs": [
    {
     "data": {
      "text/plain": [
       "Network(\n",
       "  (hidden): Linear(in_features=784, out_features=256, bias=True)\n",
       "  (output): Linear(in_features=256, out_features=10, bias=True)\n",
       ")"
      ]
     },
     "execution_count": 13,
     "metadata": {},
     "output_type": "execute_result"
    }
   ],
   "source": [
    "import torch.nn.functional as F\n",
    "\n",
    "class Network(nn.Module):\n",
    "    def __init__(self):\n",
    "        super().__init__()\n",
    "        # Inputs to hidden layer linear transformation\n",
    "        self.hidden = nn.Linear(784, 256)\n",
    "        # Output layer, 10 units - one for each digit\n",
    "        self.output = nn.Linear(256, 10)\n",
    "        \n",
    "    def forward(self, x):\n",
    "        # Hidden layer with sigmoid activation\n",
    "        x = F.sigmoid(self.hidden(x))\n",
    "        # Output layer with softmax activation\n",
    "        x = F.softmax(self.output(x), dim=1)\n",
    "        \n",
    "        return x\n",
    "    \n",
    "model1 = Network()\n",
    "model1"
   ]
  },
  {
   "cell_type": "markdown",
   "metadata": {},
   "source": [
    "### Activation functions\n",
    "\n",
    "So far we've only been looking at the softmax activation, but in general any function can be used as an activation function. The only requirement is that for a network to approximate a non-linear function, the activation functions must be non-linear. Here are a few more examples of common activation functions: Tanh (hyperbolic tangent), and ReLU (rectified linear unit).\n",
    "\n",
    "<img src=\"assets/activation.png\" width=700px>\n",
    "\n",
    "In practice, the ReLU function is used almost exclusively as the activation function for hidden layers."
   ]
  },
  {
   "cell_type": "markdown",
   "metadata": {},
   "source": [
    "### Your Turn to Build a Network\n",
    "\n",
    "<img src=\"assets/mlp_mnist.png\" width=600px>\n",
    "\n",
    "> **Exercise:** Create a network with 784 input units, a hidden layer with 128 units and a ReLU activation, then a hidden layer with 64 units and a ReLU activation, and finally an output layer with a softmax activation as shown above. You can use a ReLU activation with the `nn.ReLU` module or `F.relu` function."
   ]
  },
  {
   "cell_type": "code",
   "execution_count": 14,
   "metadata": {
    "scrolled": true
   },
   "outputs": [
    {
     "data": {
      "text/plain": [
       "NN(\n",
       "  (fc1): Linear(in_features=784, out_features=128, bias=True)\n",
       "  (fc2): Linear(in_features=128, out_features=64, bias=True)\n",
       "  (fc3): Linear(in_features=64, out_features=10, bias=True)\n",
       ")"
      ]
     },
     "execution_count": 14,
     "metadata": {},
     "output_type": "execute_result"
    }
   ],
   "source": [
    "## Your solution here\n",
    "class NN(nn.Module):\n",
    "    \n",
    "    def __init__(self, num_inputs, num_hidden1, num_hidden2, num_output):\n",
    "        super(NN, self).__init__()\n",
    "        # define layers of NN\n",
    "        self.fc1 = nn.Linear(num_inputs, num_hidden1)\n",
    "        self.fc2 = nn.Linear(num_hidden1, num_hidden2)\n",
    "        self.fc3 = nn.Linear(num_hidden2, num_output)\n",
    "        \n",
    "    # Forward Pass\n",
    "    def forward(self,x):\n",
    "        x = F.relu(self.fc1(x))\n",
    "        x = F.relu(self.fc2(x))\n",
    "        x = F.softmax(self.fc3(x), dim=1)\n",
    "        return x\n",
    "    \n",
    "# Initialize model\n",
    "model = NN(num_inputs=784, num_hidden1=128, num_hidden2=64, num_output=10)\n",
    "model"
   ]
  },
  {
   "cell_type": "code",
   "execution_count": 15,
   "metadata": {},
   "outputs": [
    {
     "data": {
      "text/plain": [
       "<bound method Module.parameters of NN(\n",
       "  (fc1): Linear(in_features=784, out_features=128, bias=True)\n",
       "  (fc2): Linear(in_features=128, out_features=64, bias=True)\n",
       "  (fc3): Linear(in_features=64, out_features=10, bias=True)\n",
       ")>"
      ]
     },
     "execution_count": 15,
     "metadata": {},
     "output_type": "execute_result"
    }
   ],
   "source": [
    "model.parameters"
   ]
  },
  {
   "cell_type": "markdown",
   "metadata": {},
   "source": [
    "### Initializing weights and biases\n",
    "\n",
    "The weights and such are automatically initialized for you, but it's possible to customize how they are initialized. The weights and biases are tensors attached to the layer you defined, you can get them with `model.fc1.weight` for instance."
   ]
  },
  {
   "cell_type": "code",
   "execution_count": 16,
   "metadata": {},
   "outputs": [
    {
     "name": "stdout",
     "output_type": "stream",
     "text": [
      "Parameter containing:\n",
      "tensor([[-0.0356,  0.0321, -0.0142,  ..., -0.0141, -0.0008, -0.0150],\n",
      "        [ 0.0019, -0.0325, -0.0006,  ...,  0.0024, -0.0168, -0.0146],\n",
      "        [-0.0036,  0.0145,  0.0336,  ...,  0.0208,  0.0201,  0.0090],\n",
      "        ...,\n",
      "        [-0.0277,  0.0209,  0.0143,  ..., -0.0059,  0.0140, -0.0101],\n",
      "        [ 0.0116, -0.0289,  0.0235,  ...,  0.0047,  0.0218,  0.0338],\n",
      "        [ 0.0066, -0.0132,  0.0090,  ..., -0.0308,  0.0293,  0.0209]],\n",
      "       requires_grad=True)\n",
      "Parameter containing:\n",
      "tensor([ 0.0170,  0.0128, -0.0050, -0.0047, -0.0137, -0.0331, -0.0070,  0.0334,\n",
      "         0.0241,  0.0212,  0.0199, -0.0222,  0.0007,  0.0017,  0.0169, -0.0206,\n",
      "        -0.0248,  0.0148, -0.0253,  0.0169,  0.0212,  0.0152,  0.0062,  0.0092,\n",
      "         0.0147, -0.0278,  0.0225,  0.0131, -0.0115, -0.0158,  0.0184,  0.0077,\n",
      "         0.0086, -0.0078, -0.0247, -0.0037,  0.0352,  0.0092,  0.0069, -0.0156,\n",
      "        -0.0332, -0.0084, -0.0018,  0.0184, -0.0052, -0.0217, -0.0020, -0.0212,\n",
      "         0.0263, -0.0064,  0.0173, -0.0228, -0.0049,  0.0134, -0.0167,  0.0075,\n",
      "        -0.0248, -0.0074, -0.0072, -0.0100, -0.0004,  0.0151,  0.0168, -0.0357,\n",
      "        -0.0203, -0.0305, -0.0143, -0.0104,  0.0180,  0.0148,  0.0247, -0.0188,\n",
      "         0.0225,  0.0233,  0.0155,  0.0026, -0.0225, -0.0127,  0.0223,  0.0017,\n",
      "        -0.0109, -0.0285,  0.0075,  0.0314, -0.0260, -0.0121, -0.0132, -0.0224,\n",
      "        -0.0196,  0.0137,  0.0325,  0.0066, -0.0207, -0.0122,  0.0169,  0.0052,\n",
      "         0.0171, -0.0125, -0.0326,  0.0202, -0.0055, -0.0266, -0.0344,  0.0100,\n",
      "         0.0336,  0.0312, -0.0326, -0.0004,  0.0259, -0.0092, -0.0079, -0.0105,\n",
      "         0.0173, -0.0073,  0.0269,  0.0277,  0.0310, -0.0113,  0.0018,  0.0112,\n",
      "        -0.0210, -0.0282,  0.0184, -0.0123,  0.0259, -0.0120,  0.0151, -0.0144],\n",
      "       requires_grad=True)\n"
     ]
    }
   ],
   "source": [
    "print(model.fc1.weight)\n",
    "print(model.fc1.bias)"
   ]
  },
  {
   "cell_type": "markdown",
   "metadata": {},
   "source": [
    "For custom initialization, we want to modify these tensors in place. These are actually autograd *Variables*, so we need to get back the actual tensors with `model.fc1.weight.data`. Once we have the tensors, we can fill them with zeros (for biases) or random normal values."
   ]
  },
  {
   "cell_type": "code",
   "execution_count": 17,
   "metadata": {},
   "outputs": [
    {
     "data": {
      "text/plain": [
       "tensor([0., 0., 0., 0., 0., 0., 0., 0., 0., 0., 0., 0., 0., 0., 0., 0., 0., 0.,\n",
       "        0., 0., 0., 0., 0., 0., 0., 0., 0., 0., 0., 0., 0., 0., 0., 0., 0., 0.,\n",
       "        0., 0., 0., 0., 0., 0., 0., 0., 0., 0., 0., 0., 0., 0., 0., 0., 0., 0.,\n",
       "        0., 0., 0., 0., 0., 0., 0., 0., 0., 0., 0., 0., 0., 0., 0., 0., 0., 0.,\n",
       "        0., 0., 0., 0., 0., 0., 0., 0., 0., 0., 0., 0., 0., 0., 0., 0., 0., 0.,\n",
       "        0., 0., 0., 0., 0., 0., 0., 0., 0., 0., 0., 0., 0., 0., 0., 0., 0., 0.,\n",
       "        0., 0., 0., 0., 0., 0., 0., 0., 0., 0., 0., 0., 0., 0., 0., 0., 0., 0.,\n",
       "        0., 0.])"
      ]
     },
     "execution_count": 17,
     "metadata": {},
     "output_type": "execute_result"
    }
   ],
   "source": [
    "# Set biases to all zeros\n",
    "model.fc1.bias.data.fill_(0)"
   ]
  },
  {
   "cell_type": "code",
   "execution_count": 18,
   "metadata": {},
   "outputs": [
    {
     "data": {
      "text/plain": [
       "tensor([[-0.0017, -0.0020,  0.0028,  ...,  0.0048, -0.0045, -0.0094],\n",
       "        [-0.0068,  0.0016,  0.0105,  ...,  0.0041,  0.0056, -0.0083],\n",
       "        [ 0.0001, -0.0142,  0.0116,  ...,  0.0113,  0.0027, -0.0144],\n",
       "        ...,\n",
       "        [ 0.0069,  0.0103,  0.0134,  ..., -0.0037, -0.0045, -0.0137],\n",
       "        [-0.0027,  0.0029, -0.0035,  ..., -0.0083,  0.0086, -0.0068],\n",
       "        [ 0.0009,  0.0044, -0.0110,  ...,  0.0005,  0.0045,  0.0024]])"
      ]
     },
     "execution_count": 18,
     "metadata": {},
     "output_type": "execute_result"
    }
   ],
   "source": [
    "# sample from random normal with standard dev = 0.01\n",
    "model.fc1.weight.data.normal_(std=0.01)"
   ]
  },
  {
   "cell_type": "markdown",
   "metadata": {},
   "source": [
    "### Forward pass\n",
    "\n",
    "Now that we have a network, let's see what happens when we pass in an image."
   ]
  },
  {
   "cell_type": "code",
   "execution_count": 19,
   "metadata": {},
   "outputs": [
    {
     "data": {
      "image/png": "[encoded data removed]",
      "text/plain": [
       "<Figure size 432x648 with 2 Axes>"
      ]
     },
     "metadata": {
      "image/png": {
       "height": 226,
       "width": 423
      },
      "needs_background": "light"
     },
     "output_type": "display_data"
    }
   ],
   "source": [
    "# Grab some data \n",
    "dataiter = iter(trainloader)\n",
    "images, labels = dataiter.next()\n",
    "\n",
    "# Resize images into a 1D vector, new shape is (batch size, color channels, image pixels) \n",
    "images.resize_(64, 1, 784)\n",
    "# or images.resize_(images.shape[0], 1, 784) to automatically get batch size\n",
    "\n",
    "# Forward pass through the network\n",
    "img_idx = 0\n",
    "ps = model.forward(images[img_idx,:])\n",
    "\n",
    "img = images[img_idx]\n",
    "helper.view_classify(img.view(1, 28, 28), ps)"
   ]
  },
  {
   "cell_type": "markdown",
   "metadata": {},
   "source": [
    "As you can see above, our network has basically no idea what this digit is. It's because we haven't trained it yet, all the weights are random!\n",
    "\n",
    "### Using `nn.Sequential`\n",
    "\n",
    "PyTorch provides a convenient way to build networks like this where a tensor is passed sequentially through operations, `nn.Sequential` ([documentation](https://pytorch.org/docs/master/nn.html#torch.nn.Sequential)). Using this to build the equivalent network:"
   ]
  },
  {
   "cell_type": "code",
   "execution_count": 20,
   "metadata": {},
   "outputs": [
    {
     "name": "stdout",
     "output_type": "stream",
     "text": [
      "Sequential(\n",
      "  (0): Linear(in_features=784, out_features=128, bias=True)\n",
      "  (1): ReLU()\n",
      "  (2): Linear(in_features=128, out_features=64, bias=True)\n",
      "  (3): ReLU()\n",
      "  (4): Linear(in_features=64, out_features=10, bias=True)\n",
      "  (5): Softmax()\n",
      ")\n"
     ]
    },
    {
     "data": {
      "image/png": "[encoded data removed]",
      "text/plain": [
       "<Figure size 432x648 with 2 Axes>"
      ]
     },
     "metadata": {
      "image/png": {
       "height": 226,
       "width": 423
      },
      "needs_background": "light"
     },
     "output_type": "display_data"
    }
   ],
   "source": [
    "# Hyperparameters for our network\n",
    "input_size = 784\n",
    "hidden_sizes = [128, 64]\n",
    "output_size = 10\n",
    "\n",
    "# Build a feed-forward network\n",
    "model = nn.Sequential(nn.Linear(input_size, hidden_sizes[0]),\n",
    "                      nn.ReLU(),\n",
    "                      nn.Linear(hidden_sizes[0], hidden_sizes[1]),\n",
    "                      nn.ReLU(),\n",
    "                      nn.Linear(hidden_sizes[1], output_size),\n",
    "                      nn.Softmax(dim=1))\n",
    "print(model)\n",
    "\n",
    "# Forward pass through the network and display output\n",
    "images, labels = next(iter(trainloader))\n",
    "images.resize_(images.shape[0], 1, 784)\n",
    "ps = model.forward(images[0,:])\n",
    "helper.view_classify(images[0].view(1, 28, 28), ps)"
   ]
  },
  {
   "cell_type": "markdown",
   "metadata": {},
   "source": [
    "The operations are availble by passing in the appropriate index. For example, if you want to get first Linear operation and look at the weights, you'd use `model[0]`."
   ]
  },
  {
   "cell_type": "code",
   "execution_count": 21,
   "metadata": {},
   "outputs": [
    {
     "name": "stdout",
     "output_type": "stream",
     "text": [
      "Linear(in_features=784, out_features=128, bias=True)\n"
     ]
    },
    {
     "data": {
      "text/plain": [
       "Parameter containing:\n",
       "tensor([[ 0.0100,  0.0039,  0.0283,  ...,  0.0053, -0.0089, -0.0267],\n",
       "        [-0.0160,  0.0238, -0.0265,  ...,  0.0290,  0.0102,  0.0177],\n",
       "        [ 0.0229, -0.0069, -0.0137,  ...,  0.0350, -0.0071,  0.0163],\n",
       "        ...,\n",
       "        [ 0.0098,  0.0117,  0.0260,  ..., -0.0260,  0.0105,  0.0125],\n",
       "        [ 0.0204, -0.0336,  0.0292,  ...,  0.0077, -0.0285, -0.0082],\n",
       "        [-0.0212, -0.0263, -0.0276,  ...,  0.0219, -0.0176, -0.0096]],\n",
       "       requires_grad=True)"
      ]
     },
     "execution_count": 21,
     "metadata": {},
     "output_type": "execute_result"
    }
   ],
   "source": [
    "print(model[0])\n",
    "model[0].weight"
   ]
  },
  {
   "cell_type": "markdown",
   "metadata": {},
   "source": [
    "You can also pass in an `OrderedDict` to name the individual layers and operations, instead of using incremental integers. Note that dictionary keys must be unique, so _each operation must have a different name_."
   ]
  },
  {
   "cell_type": "code",
   "execution_count": 22,
   "metadata": {},
   "outputs": [
    {
     "data": {
      "text/plain": [
       "Sequential(\n",
       "  (fc1): Linear(in_features=784, out_features=128, bias=True)\n",
       "  (relu1): ReLU()\n",
       "  (fc2): Linear(in_features=128, out_features=64, bias=True)\n",
       "  (relu2): ReLU()\n",
       "  (output): Linear(in_features=64, out_features=10, bias=True)\n",
       "  (softmax): Softmax()\n",
       ")"
      ]
     },
     "execution_count": 22,
     "metadata": {},
     "output_type": "execute_result"
    }
   ],
   "source": [
    "from collections import OrderedDict\n",
    "model = nn.Sequential(OrderedDict([\n",
    "                      ('fc1', nn.Linear(input_size, hidden_sizes[0])),\n",
    "                      ('relu1', nn.ReLU()),\n",
    "                      ('fc2', nn.Linear(hidden_sizes[0], hidden_sizes[1])),\n",
    "                      ('relu2', nn.ReLU()),\n",
    "                      ('output', nn.Linear(hidden_sizes[1], output_size)),\n",
    "                      ('softmax', nn.Softmax(dim=1))]))\n",
    "model"
   ]
  },
  {
   "cell_type": "markdown",
   "metadata": {},
   "source": [
    "Now you can access layers either by integer or the name"
   ]
  },
  {
   "cell_type": "code",
   "execution_count": 23,
   "metadata": {},
   "outputs": [
    {
     "name": "stdout",
     "output_type": "stream",
     "text": [
      "Linear(in_features=784, out_features=128, bias=True)\n",
      "Linear(in_features=784, out_features=128, bias=True)\n"
     ]
    }
   ],
   "source": [
    "print(model[0])\n",
    "print(model.fc1)"
   ]
  },
  {
   "cell_type": "markdown",
   "metadata": {},
   "source": [
    "In the next notebook, we'll see how we can train a neural network to accuractly predict the numbers appearing in the MNIST images."
   ]
  }
 ],
 "metadata": {
  "kernelspec": {
   "display_name": "Python 3",
   "language": "python",
   "name": "python3"
  },
  "language_info": {
   "codemirror_mode": {
    "name": "ipython",
    "version": 3
   },
   "file_extension": ".py",
   "mimetype": "text/x-python",
   "name": "python",
   "nbconvert_exporter": "python",
   "pygments_lexer": "ipython3",
   "version": "3.6.6"
  }
 },
 "nbformat": 4,
 "nbformat_minor": 2
}
