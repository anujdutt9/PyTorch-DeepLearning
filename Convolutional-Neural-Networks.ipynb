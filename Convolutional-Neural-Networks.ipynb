{
 "cells": [
  {
   "cell_type": "markdown",
   "metadata": {},
   "source": [
    "**This notebook shows how to write a CNN in PyTorch for MNIST dataset.**"
   ]
  },
  {
   "cell_type": "code",
   "execution_count": 1,
   "metadata": {},
   "outputs": [],
   "source": [
    "# Import Dependencies\n",
    "import torch\n",
    "import torch.nn as nn\n",
    "import torch.utils.data as Data\n",
    "from torch.autograd import Variable\n",
    "from torchvision import transforms\n",
    "from torchvision.datasets import MNIST\n",
    "from sklearn.manifold import TSNE\n",
    "from matplotlib import cm\n",
    "import matplotlib.pyplot as plt\n",
    "%matplotlib inline"
   ]
  },
  {
   "cell_type": "code",
   "execution_count": 2,
   "metadata": {},
   "outputs": [
    {
     "data": {
      "text/plain": [
       "<torch._C.Generator at 0x1120bce30>"
      ]
     },
     "execution_count": 2,
     "metadata": {},
     "output_type": "execute_result"
    }
   ],
   "source": [
    "# Set Seed for reporoducability\n",
    "torch.manual_seed(100)"
   ]
  },
  {
   "cell_type": "code",
   "execution_count": 3,
   "metadata": {},
   "outputs": [],
   "source": [
    "# Load Dataset\n",
    "# root: directory for downloading the data or to look for data\n",
    "# train: True during training\n",
    "# transform: Converts a PIL.Image or numpy.ndarray to torch.FloatTensor of shape (C x H x W) \n",
    "#            and normalize it in the range [0.0, 1.0].\n",
    "# download: True, if you want to download the data\n",
    "training_Data = MNIST(\n",
    "                root = \"./dataset/\",\n",
    "                train = True,\n",
    "                transform = transforms.ToTensor(),\n",
    "                download = False)"
   ]
  },
  {
   "cell_type": "code",
   "execution_count": 4,
   "metadata": {},
   "outputs": [
    {
     "name": "stdout",
     "output_type": "stream",
     "text": [
      "Size of Training Images:  torch.Size([60000, 28, 28])\n",
      "Size of Training Labels:  torch.Size([60000])\n"
     ]
    }
   ],
   "source": [
    "print(\"Size of Training Images: \", training_Data.train_data.size())\n",
    "print(\"Size of Training Labels: \", training_Data.train_labels.size())"
   ]
  },
  {
   "cell_type": "code",
   "execution_count": 5,
   "metadata": {},
   "outputs": [
    {
     "data": {
      "text/plain": [
       "Text(0.5, 1.0, 'True Label: tensor(5)')"
      ]
     },
     "execution_count": 5,
     "metadata": {},
     "output_type": "execute_result"
    },
    {
     "data": {
      "image/png": "[encoded data removed]",
      "text/plain": [
       "<Figure size 432x288 with 1 Axes>"
      ]
     },
     "metadata": {
      "needs_background": "light"
     },
     "output_type": "display_data"
    }
   ],
   "source": [
    "# Plot Sample data\n",
    "img = training_Data.train_data[0].numpy()\n",
    "label = training_Data.train_labels[0]\n",
    "\n",
    "plt.imshow(img, cmap='gray')\n",
    "plt.title(\"True Label: \"+ str(label))"
   ]
  },
  {
   "cell_type": "code",
   "execution_count": 6,
   "metadata": {},
   "outputs": [],
   "source": [
    "# Define Hyperparameters\n",
    "\n",
    "# Epochs\n",
    "epochs = 2\n",
    "\n",
    "# Batch size\n",
    "batchSize = 50\n",
    "\n",
    "# Learning Rate\n",
    "lr = 0.001"
   ]
  },
  {
   "cell_type": "code",
   "execution_count": 7,
   "metadata": {},
   "outputs": [],
   "source": [
    "# Data Loader for Batching the Training Data\n",
    "train_data_loader = Data.DataLoader(\n",
    "              dataset = training_Data,\n",
    "              batch_size = batchSize,\n",
    "              shuffle = True,\n",
    "              num_workers = 5)"
   ]
  },
  {
   "cell_type": "code",
   "execution_count": 8,
   "metadata": {},
   "outputs": [
    {
     "data": {
      "text/plain": [
       "(torch.Size([2000, 1, 28, 28]), torch.Size([2000]))"
      ]
     },
     "execution_count": 8,
     "metadata": {},
     "output_type": "execute_result"
    }
   ],
   "source": [
    "# Load Test Data\n",
    "# Convert Test Data into Variable\n",
    "test_data = MNIST(root='./dataset/', train=False)\n",
    "\n",
    "# Test Features\n",
    "X_test = Variable(torch.unsqueeze(test_data.test_data, dim=1)).type(torch.FloatTensor)[:2000]/255.\n",
    "\n",
    "# Test Labels\n",
    "y_test = test_data.test_labels[:2000]\n",
    "\n",
    "X_test.shape, y_test.shape"
   ]
  },
  {
   "cell_type": "markdown",
   "metadata": {},
   "source": [
    "### Define CNN Architecture"
   ]
  },
  {
   "cell_type": "code",
   "execution_count": 9,
   "metadata": {},
   "outputs": [],
   "source": [
    "# CNN Model Function\n",
    "class CNNModel(nn.Module):\n",
    "    \n",
    "    # Initialize Values\n",
    "    def __init__(self):\n",
    "        super(CNNModel, self).__init__()\n",
    "        \n",
    "        # Define 1st Convolutional Layer\n",
    "        \n",
    "        # Input Shape: (1,28,28)\n",
    "        # in_channel: Number of Inputs\n",
    "        # out_channel: number of filters\n",
    "        # kernel_stride: kernel/filter size\n",
    "        # stride: filter movement/step\n",
    "        # padding: pad image with 0's for equal width and height after this layer or not\n",
    "        self.conv_1 = nn.Sequential(nn.Conv2d(in_channels=1, out_channels=16, kernel_size=5, stride=1, padding=2), # Output Shape: [16, 28, 28]\n",
    "                                   nn.ReLU(), \n",
    "                                   nn.MaxPool2d(kernel_size=2))  # Output Shape: [16, 14, 14]\n",
    "        \n",
    "        # Define 2nd Convolutional Layer\n",
    "        \n",
    "        # Input Shape: [16, 14, 14]\n",
    "        # in_channel: Number of Inputs\n",
    "        # out_channel: number of filters\n",
    "        # kernel_stride: kernel/filter size\n",
    "        # stride: filter movement/step\n",
    "        # padding: pad image with 0's for equal width and height after this layer or not\n",
    "        self.conv_2 = nn.Sequential(nn.Conv2d(in_channels=16, out_channels=32, kernel_size=5, stride=1, padding=2), # Output Shape: [32,14, 14]\n",
    "                                   nn.ReLU(), \n",
    "                                   nn.MaxPool2d(kernel_size=2)) # Output Shape: [32,7,7]\n",
    "        \n",
    "        # Output Layer\n",
    "        # 10 classes\n",
    "        self.out = nn.Linear(32*7*7, 10)\n",
    "        \n",
    "    # Forward Pass\n",
    "    def forward(self, x):\n",
    "        # Conv Layer 1\n",
    "        x = self.conv_1(x)\n",
    "        # Conv Layer 2\n",
    "        x = self.conv_2(x)\n",
    "        # Flatten the Output of conv2 to (batch_size, 32 * 7 * 7)\n",
    "        x = x.view(x.size(0), -1)\n",
    "        # Output Layer\n",
    "        output = self.out(x)\n",
    "        return output, x"
   ]
  },
  {
   "cell_type": "code",
   "execution_count": 10,
   "metadata": {},
   "outputs": [
    {
     "name": "stdout",
     "output_type": "stream",
     "text": [
      "CNNModel(\n",
      "  (conv_1): Sequential(\n",
      "    (0): Conv2d(1, 16, kernel_size=(5, 5), stride=(1, 1), padding=(2, 2))\n",
      "    (1): ReLU()\n",
      "    (2): MaxPool2d(kernel_size=2, stride=2, padding=0, dilation=1, ceil_mode=False)\n",
      "  )\n",
      "  (conv_2): Sequential(\n",
      "    (0): Conv2d(16, 32, kernel_size=(5, 5), stride=(1, 1), padding=(2, 2))\n",
      "    (1): ReLU()\n",
      "    (2): MaxPool2d(kernel_size=2, stride=2, padding=0, dilation=1, ceil_mode=False)\n",
      "  )\n",
      "  (out): Linear(in_features=1568, out_features=10, bias=True)\n",
      ")\n"
     ]
    }
   ],
   "source": [
    "# Initialize Model\n",
    "cnn = CNNModel()\n",
    "print(cnn)"
   ]
  },
  {
   "cell_type": "code",
   "execution_count": 11,
   "metadata": {},
   "outputs": [
    {
     "data": {
      "text/plain": [
       "<bound method Module.parameters of CNNModel(\n",
       "  (conv_1): Sequential(\n",
       "    (0): Conv2d(1, 16, kernel_size=(5, 5), stride=(1, 1), padding=(2, 2))\n",
       "    (1): ReLU()\n",
       "    (2): MaxPool2d(kernel_size=2, stride=2, padding=0, dilation=1, ceil_mode=False)\n",
       "  )\n",
       "  (conv_2): Sequential(\n",
       "    (0): Conv2d(16, 32, kernel_size=(5, 5), stride=(1, 1), padding=(2, 2))\n",
       "    (1): ReLU()\n",
       "    (2): MaxPool2d(kernel_size=2, stride=2, padding=0, dilation=1, ceil_mode=False)\n",
       "  )\n",
       "  (out): Linear(in_features=1568, out_features=10, bias=True)\n",
       ")>"
      ]
     },
     "execution_count": 11,
     "metadata": {},
     "output_type": "execute_result"
    }
   ],
   "source": [
    "cnn.parameters"
   ]
  },
  {
   "cell_type": "code",
   "execution_count": 12,
   "metadata": {},
   "outputs": [],
   "source": [
    "# Define Optimizer\n",
    "optimizer = torch.optim.Adam(cnn.parameters(), lr= lr)"
   ]
  },
  {
   "cell_type": "code",
   "execution_count": 13,
   "metadata": {},
   "outputs": [],
   "source": [
    "# Loss Criteria\n",
    "criteria = nn.CrossEntropyLoss()"
   ]
  },
  {
   "cell_type": "code",
   "execution_count": 14,
   "metadata": {},
   "outputs": [],
   "source": [
    "# Plot Data with Labels\n",
    "def plot_with_labels(lowDWeights, labels):\n",
    "    plt.figure(figsize = (20,6))\n",
    "    plt.cla()\n",
    "    X, Y = lowDWeights[:, 0], lowDWeights[:, 1]\n",
    "    for x, y, s in zip(X, Y, labels):\n",
    "        c = cm.rainbow(int(255 * s / 9)); plt.text(x, y, s, backgroundcolor=c, fontsize=9)\n",
    "    plt.xlim(X.min(), X.max()); plt.ylim(Y.min(), Y.max()); plt.title('Visualize last layer');\n",
    "plt.pause(0.01)\n",
    "plt.ion()"
   ]
  },
  {
   "cell_type": "code",
   "execution_count": null,
   "metadata": {},
   "outputs": [],
   "source": []
  }
 ],
 "metadata": {
  "kernelspec": {
   "display_name": "Python 3",
   "language": "python",
   "name": "python3"
  },
  "language_info": {
   "codemirror_mode": {
    "name": "ipython",
    "version": 3
   },
   "file_extension": ".py",
   "mimetype": "text/x-python",
   "name": "python",
   "nbconvert_exporter": "python",
   "pygments_lexer": "ipython3",
   "version": "3.6.6"
  }
 },
 "nbformat": 4,
 "nbformat_minor": 2
}
