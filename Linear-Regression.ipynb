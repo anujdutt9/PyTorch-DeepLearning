{
 "cells": [
  {
   "cell_type": "markdown",
   "metadata": {},
   "source": [
    "Let us assume that the equation we are trying to model is:\n",
    "\n",
    "    y = 2x + 1\n",
    "\n",
    "i.e.\n",
    "\n",
    "    alpha = 2\n",
    "    beta = 1\n",
    "    \n",
    "then, \n",
    "\n",
    "    y = alpha * x + beta"
   ]
  },
  {
   "cell_type": "code",
   "execution_count": 1,
   "metadata": {},
   "outputs": [],
   "source": [
    "# Import Dependencies\n",
    "import numpy as np\n",
    "import matplotlib.pyplot as plt\n",
    "%matplotlib inline"
   ]
  },
  {
   "cell_type": "code",
   "execution_count": 2,
   "metadata": {},
   "outputs": [
    {
     "data": {
      "text/plain": [
       "[0, 1, 2, 3, 4, 5, 6, 7, 8, 9, 10]"
      ]
     },
     "execution_count": 2,
     "metadata": {},
     "output_type": "execute_result"
    }
   ],
   "source": [
    "# Build a Toy Dataset\n",
    "x = [i for i in range(11)]\n",
    "x"
   ]
  },
  {
   "cell_type": "code",
   "execution_count": 3,
   "metadata": {},
   "outputs": [
    {
     "data": {
      "text/plain": [
       "array([ 0.,  1.,  2.,  3.,  4.,  5.,  6.,  7.,  8.,  9., 10.],\n",
       "      dtype=float32)"
      ]
     },
     "execution_count": 3,
     "metadata": {},
     "output_type": "execute_result"
    }
   ],
   "source": [
    "# Conver to numpy array\n",
    "x_train = np.array(x, dtype=np.float32)\n",
    "x_train"
   ]
  },
  {
   "cell_type": "code",
   "execution_count": 4,
   "metadata": {},
   "outputs": [
    {
     "data": {
      "text/plain": [
       "(11,)"
      ]
     },
     "execution_count": 4,
     "metadata": {},
     "output_type": "execute_result"
    }
   ],
   "source": [
    "x_train.shape"
   ]
  },
  {
   "cell_type": "code",
   "execution_count": 5,
   "metadata": {},
   "outputs": [
    {
     "data": {
      "text/plain": [
       "(11, 1)"
      ]
     },
     "execution_count": 5,
     "metadata": {},
     "output_type": "execute_result"
    }
   ],
   "source": [
    "# Reshape array to be a 2D array\n",
    "x_train = x_train.reshape(-1,1)\n",
    "x_train.shape"
   ]
  },
  {
   "cell_type": "code",
   "execution_count": 6,
   "metadata": {},
   "outputs": [
    {
     "data": {
      "text/plain": [
       "[1, 3, 5, 7, 9, 11, 13, 15, 17, 19, 21]"
      ]
     },
     "execution_count": 6,
     "metadata": {},
     "output_type": "execute_result"
    }
   ],
   "source": [
    "# y values\n",
    "y = [2*i + 1 for i in x]\n",
    "y"
   ]
  },
  {
   "cell_type": "code",
   "execution_count": 7,
   "metadata": {},
   "outputs": [
    {
     "data": {
      "text/plain": [
       "array([[ 1.],\n",
       "       [ 3.],\n",
       "       [ 5.],\n",
       "       [ 7.],\n",
       "       [ 9.],\n",
       "       [11.],\n",
       "       [13.],\n",
       "       [15.],\n",
       "       [17.],\n",
       "       [19.],\n",
       "       [21.]], dtype=float32)"
      ]
     },
     "execution_count": 7,
     "metadata": {},
     "output_type": "execute_result"
    }
   ],
   "source": [
    "# Convert to numpy and reshape\n",
    "y_train = np.array(y, dtype=np.float32).reshape(-1,1)\n",
    "y_train"
   ]
  },
  {
   "cell_type": "code",
   "execution_count": 8,
   "metadata": {},
   "outputs": [
    {
     "data": {
      "text/plain": [
       "(11, 1)"
      ]
     },
     "execution_count": 8,
     "metadata": {},
     "output_type": "execute_result"
    }
   ],
   "source": [
    "y_train.shape"
   ]
  },
  {
   "cell_type": "markdown",
   "metadata": {},
   "source": [
    "### Create Linear Regression Model"
   ]
  },
  {
   "cell_type": "code",
   "execution_count": 9,
   "metadata": {},
   "outputs": [],
   "source": [
    "# Import Dependencies\n",
    "import torch\n",
    "import torch.nn as nn\n",
    "from torch.autograd import Variable"
   ]
  },
  {
   "cell_type": "code",
   "execution_count": 10,
   "metadata": {},
   "outputs": [],
   "source": [
    "# Linear Regression Class\n",
    "class LinearRegressionModel(nn.Module):\n",
    "    \n",
    "    def __init__(self, input_dim, output_dim):\n",
    "        # define super to inherit from nn.Module\n",
    "        super(LinearRegressionModel, self).__init__()\n",
    "        # define linear function where input_dim: \"x\" and output_dim: \"y\"\n",
    "        self.linear = nn.Linear(input_dim, output_dim)\n",
    "    \n",
    "    # Forward Pass\n",
    "    # Input: values in \"x\"\n",
    "    # Return: estimated value of \"y\" i.e. \"y_hat\"\n",
    "    def forward(self,x):\n",
    "        out = self.linear(x)\n",
    "        return out"
   ]
  },
  {
   "cell_type": "code",
   "execution_count": 11,
   "metadata": {},
   "outputs": [],
   "source": [
    "# Instantiate the Model\n",
    "model = LinearRegressionModel(input_dim=1, output_dim=1)"
   ]
  },
  {
   "cell_type": "code",
   "execution_count": 12,
   "metadata": {},
   "outputs": [],
   "source": [
    "# Define the Loss Criteria\n",
    "# Mean Squared Error loss\n",
    "loss_criterion = nn.MSELoss()"
   ]
  },
  {
   "cell_type": "code",
   "execution_count": 13,
   "metadata": {},
   "outputs": [],
   "source": [
    "# Learning Rate\n",
    "lr = 0.01\n",
    "\n",
    "# Optimizer\n",
    "optimizer = torch.optim.SGD(model.parameters(), lr=lr)\n",
    "\n",
    "# Epochs\n",
    "epochs = 200"
   ]
  },
  {
   "cell_type": "code",
   "execution_count": 14,
   "metadata": {},
   "outputs": [
    {
     "name": "stdout",
     "output_type": "stream",
     "text": [
      "Epoch: 0\t Loss: 240.60531616210938\n",
      "Epoch: 1\t Loss: 19.656198501586914\n",
      "Epoch: 2\t Loss: 1.633733868598938\n",
      "Epoch: 3\t Loss: 0.16335903108119965\n",
      "Epoch: 4\t Loss: 0.043089259415864944\n",
      "Epoch: 5\t Loss: 0.03294667229056358\n",
      "Epoch: 6\t Loss: 0.031790781766176224\n",
      "Epoch: 7\t Loss: 0.03137149661779404\n",
      "Epoch: 8\t Loss: 0.031015964224934578\n",
      "Epoch: 9\t Loss: 0.03066915273666382\n",
      "Epoch: 10\t Loss: 0.030326660722494125\n",
      "Epoch: 11\t Loss: 0.029987946152687073\n",
      "Epoch: 12\t Loss: 0.029653111472725868\n",
      "Epoch: 13\t Loss: 0.02932201698422432\n",
      "Epoch: 14\t Loss: 0.028994593769311905\n",
      "Epoch: 15\t Loss: 0.028670771047472954\n",
      "Epoch: 16\t Loss: 0.02835063822567463\n",
      "Epoch: 17\t Loss: 0.028034048154950142\n",
      "Epoch: 18\t Loss: 0.027720982208848\n",
      "Epoch: 19\t Loss: 0.027411408722400665\n",
      "Epoch: 20\t Loss: 0.027105294167995453\n",
      "Epoch: 21\t Loss: 0.02680269256234169\n",
      "Epoch: 22\t Loss: 0.026503384113311768\n",
      "Epoch: 23\t Loss: 0.02620740234851837\n",
      "Epoch: 24\t Loss: 0.025914747267961502\n",
      "Epoch: 25\t Loss: 0.025625400245189667\n",
      "Epoch: 26\t Loss: 0.025339266285300255\n",
      "Epoch: 27\t Loss: 0.025056267157197\n",
      "Epoch: 28\t Loss: 0.0247763991355896\n",
      "Epoch: 29\t Loss: 0.024499736726284027\n",
      "Epoch: 30\t Loss: 0.024226197972893715\n",
      "Epoch: 31\t Loss: 0.023955687880516052\n",
      "Epoch: 32\t Loss: 0.02368820272386074\n",
      "Epoch: 33\t Loss: 0.02342362515628338\n",
      "Epoch: 34\t Loss: 0.023162048310041428\n",
      "Epoch: 35\t Loss: 0.02290339395403862\n",
      "Epoch: 36\t Loss: 0.02264764904975891\n",
      "Epoch: 37\t Loss: 0.022394705563783646\n",
      "Epoch: 38\t Loss: 0.022144602611660957\n",
      "Epoch: 39\t Loss: 0.02189740538597107\n",
      "Epoch: 40\t Loss: 0.02165285125374794\n",
      "Epoch: 41\t Loss: 0.02141103893518448\n",
      "Epoch: 42\t Loss: 0.021171962842345238\n",
      "Epoch: 43\t Loss: 0.0209355391561985\n",
      "Epoch: 44\t Loss: 0.020701711997389793\n",
      "Epoch: 45\t Loss: 0.020470600575208664\n",
      "Epoch: 46\t Loss: 0.02024194784462452\n",
      "Epoch: 47\t Loss: 0.020015956833958626\n",
      "Epoch: 48\t Loss: 0.019792376086115837\n",
      "Epoch: 49\t Loss: 0.01957138627767563\n",
      "Epoch: 50\t Loss: 0.019352823495864868\n",
      "Epoch: 51\t Loss: 0.01913672499358654\n",
      "Epoch: 52\t Loss: 0.018923001363873482\n",
      "Epoch: 53\t Loss: 0.018711673095822334\n",
      "Epoch: 54\t Loss: 0.018502729013562202\n",
      "Epoch: 55\t Loss: 0.018296143040060997\n",
      "Epoch: 56\t Loss: 0.01809176430106163\n",
      "Epoch: 57\t Loss: 0.017889749258756638\n",
      "Epoch: 58\t Loss: 0.017689969390630722\n",
      "Epoch: 59\t Loss: 0.017492467537522316\n",
      "Epoch: 60\t Loss: 0.017297135666012764\n",
      "Epoch: 61\t Loss: 0.017103945836424828\n",
      "Epoch: 62\t Loss: 0.016912996768951416\n",
      "Epoch: 63\t Loss: 0.016724105924367905\n",
      "Epoch: 64\t Loss: 0.01653735339641571\n",
      "Epoch: 65\t Loss: 0.016352655366063118\n",
      "Epoch: 66\t Loss: 0.016170017421245575\n",
      "Epoch: 67\t Loss: 0.015989523380994797\n",
      "Epoch: 68\t Loss: 0.01581096090376377\n",
      "Epoch: 69\t Loss: 0.015634391456842422\n",
      "Epoch: 70\t Loss: 0.015459784306585789\n",
      "Epoch: 71\t Loss: 0.015287132002413273\n",
      "Epoch: 72\t Loss: 0.015116446651518345\n",
      "Epoch: 73\t Loss: 0.014947621151804924\n",
      "Epoch: 74\t Loss: 0.014780724421143532\n",
      "Epoch: 75\t Loss: 0.01461566798388958\n",
      "Epoch: 76\t Loss: 0.014452441595494747\n",
      "Epoch: 77\t Loss: 0.014291063882410526\n",
      "Epoch: 78\t Loss: 0.014131514355540276\n",
      "Epoch: 79\t Loss: 0.013973637484014034\n",
      "Epoch: 80\t Loss: 0.013817648403346539\n",
      "Epoch: 81\t Loss: 0.013663328252732754\n",
      "Epoch: 82\t Loss: 0.0135107496753335\n",
      "Epoch: 83\t Loss: 0.013359853997826576\n",
      "Epoch: 84\t Loss: 0.013210718519985676\n",
      "Epoch: 85\t Loss: 0.013063144870102406\n",
      "Epoch: 86\t Loss: 0.012917311862111092\n",
      "Epoch: 87\t Loss: 0.012773037888109684\n",
      "Epoch: 88\t Loss: 0.012630443088710308\n",
      "Epoch: 89\t Loss: 0.012489398941397667\n",
      "Epoch: 90\t Loss: 0.012349923141300678\n",
      "Epoch: 91\t Loss: 0.012212052941322327\n",
      "Epoch: 92\t Loss: 0.012075700797140598\n",
      "Epoch: 93\t Loss: 0.011940808966755867\n",
      "Epoch: 94\t Loss: 0.0118074556812644\n",
      "Epoch: 95\t Loss: 0.01167562510818243\n",
      "Epoch: 96\t Loss: 0.011545236222445965\n",
      "Epoch: 97\t Loss: 0.011416317895054817\n",
      "Epoch: 98\t Loss: 0.011288827285170555\n",
      "Epoch: 99\t Loss: 0.011162753216922283\n",
      "Epoch: 100\t Loss: 0.011038153432309628\n",
      "Epoch: 101\t Loss: 0.010914865881204605\n",
      "Epoch: 102\t Loss: 0.010792972519993782\n",
      "Epoch: 103\t Loss: 0.010672484524548054\n",
      "Epoch: 104\t Loss: 0.010553286410868168\n",
      "Epoch: 105\t Loss: 0.010435416363179684\n",
      "Epoch: 106\t Loss: 0.010318915359675884\n",
      "Epoch: 107\t Loss: 0.010203653015196323\n",
      "Epoch: 108\t Loss: 0.010089745745062828\n",
      "Epoch: 109\t Loss: 0.009977038018405437\n",
      "Epoch: 110\t Loss: 0.009865634143352509\n",
      "Epoch: 111\t Loss: 0.009755454957485199\n",
      "Epoch: 112\t Loss: 0.009646572172641754\n",
      "Epoch: 113\t Loss: 0.009538800455629826\n",
      "Epoch: 114\t Loss: 0.009432284161448479\n",
      "Epoch: 115\t Loss: 0.009327005594968796\n",
      "Epoch: 116\t Loss: 0.009222845546901226\n",
      "Epoch: 117\t Loss: 0.00911980401724577\n",
      "Epoch: 118\t Loss: 0.00901801884174347\n",
      "Epoch: 119\t Loss: 0.008917291648685932\n",
      "Epoch: 120\t Loss: 0.008817702531814575\n",
      "Epoch: 121\t Loss: 0.008719231002032757\n",
      "Epoch: 122\t Loss: 0.008621886372566223\n",
      "Epoch: 123\t Loss: 0.008525603450834751\n",
      "Epoch: 124\t Loss: 0.00843039806932211\n",
      "Epoch: 125\t Loss: 0.00833625067025423\n",
      "Epoch: 126\t Loss: 0.008243203163146973\n",
      "Epoch: 127\t Loss: 0.008151122368872166\n",
      "Epoch: 128\t Loss: 0.008060098625719547\n",
      "Epoch: 129\t Loss: 0.007970094680786133\n",
      "Epoch: 130\t Loss: 0.007881084457039833\n",
      "Epoch: 131\t Loss: 0.007793092168867588\n",
      "Epoch: 132\t Loss: 0.007706088945269585\n",
      "Epoch: 133\t Loss: 0.007620032876729965\n",
      "Epoch: 134\t Loss: 0.007534917443990707\n",
      "Epoch: 135\t Loss: 0.00745079992339015\n",
      "Epoch: 136\t Loss: 0.0073675960302352905\n",
      "Epoch: 137\t Loss: 0.007285302970558405\n",
      "Epoch: 138\t Loss: 0.007203964050859213\n",
      "Epoch: 139\t Loss: 0.007123492658138275\n",
      "Epoch: 140\t Loss: 0.0070439549162983894\n",
      "Epoch: 141\t Loss: 0.006965294945985079\n",
      "Epoch: 142\t Loss: 0.006887535098940134\n",
      "Epoch: 143\t Loss: 0.006810602732002735\n",
      "Epoch: 144\t Loss: 0.006734572350978851\n",
      "Epoch: 145\t Loss: 0.006659363862127066\n",
      "Epoch: 146\t Loss: 0.006584982853382826\n",
      "Epoch: 147\t Loss: 0.006511467043310404\n",
      "Epoch: 148\t Loss: 0.006438747514039278\n",
      "Epoch: 149\t Loss: 0.006366848945617676\n",
      "Epoch: 150\t Loss: 0.0062957387417554855\n",
      "Epoch: 151\t Loss: 0.0062254611402750015\n",
      "Epoch: 152\t Loss: 0.006155923008918762\n",
      "Epoch: 153\t Loss: 0.006087194662541151\n",
      "Epoch: 154\t Loss: 0.006019215565174818\n",
      "Epoch: 155\t Loss: 0.005951989442110062\n",
      "Epoch: 156\t Loss: 0.005885524675250053\n",
      "Epoch: 157\t Loss: 0.005819802172482014\n",
      "Epoch: 158\t Loss: 0.0057547977194190025\n",
      "Epoch: 159\t Loss: 0.005690558347851038\n",
      "Epoch: 160\t Loss: 0.005627006758004427\n",
      "Epoch: 161\t Loss: 0.0055641657672822475\n",
      "Epoch: 162\t Loss: 0.005502026993781328\n",
      "Epoch: 163\t Loss: 0.005440582521259785\n",
      "Epoch: 164\t Loss: 0.005379832349717617\n",
      "Epoch: 165\t Loss: 0.00531977042555809\n",
      "Epoch: 166\t Loss: 0.005260370206087828\n",
      "Epoch: 167\t Loss: 0.005201607011258602\n",
      "Epoch: 168\t Loss: 0.005143535789102316\n",
      "Epoch: 169\t Loss: 0.005086075980216265\n",
      "Epoch: 170\t Loss: 0.005029302556067705\n",
      "Epoch: 171\t Loss: 0.004973125644028187\n",
      "Epoch: 172\t Loss: 0.004917615558952093\n",
      "Epoch: 173\t Loss: 0.004862717352807522\n",
      "Epoch: 174\t Loss: 0.004808397963643074\n",
      "Epoch: 175\t Loss: 0.004754668567329645\n",
      "Epoch: 176\t Loss: 0.0047015962190926075\n",
      "Epoch: 177\t Loss: 0.004649115726351738\n",
      "Epoch: 178\t Loss: 0.004597173538058996\n",
      "Epoch: 179\t Loss: 0.004545825533568859\n",
      "Epoch: 180\t Loss: 0.004495101515203714\n",
      "Epoch: 181\t Loss: 0.0044448887929320335\n",
      "Epoch: 182\t Loss: 0.004395257215946913\n",
      "Epoch: 183\t Loss: 0.004346163477748632\n",
      "Epoch: 184\t Loss: 0.004297643434256315\n",
      "Epoch: 185\t Loss: 0.004249642137438059\n",
      "Epoch: 186\t Loss: 0.0042021796107292175\n",
      "Epoch: 187\t Loss: 0.004155261442065239\n",
      "Epoch: 188\t Loss: 0.004108858294785023\n",
      "Epoch: 189\t Loss: 0.00406298553571105\n",
      "Epoch: 190\t Loss: 0.004017597064375877\n",
      "Epoch: 191\t Loss: 0.00397273525595665\n",
      "Epoch: 192\t Loss: 0.003928357735276222\n",
      "Epoch: 193\t Loss: 0.0038845017552375793\n",
      "Epoch: 194\t Loss: 0.0038411372806876898\n",
      "Epoch: 195\t Loss: 0.00379823986440897\n",
      "Epoch: 196\t Loss: 0.003755817888304591\n",
      "Epoch: 197\t Loss: 0.0037138808984309435\n",
      "Epoch: 198\t Loss: 0.0036724191159009933\n",
      "Epoch: 199\t Loss: 0.003631400177255273\n"
     ]
    },
    {
     "name": "stderr",
     "output_type": "stream",
     "text": [
      "/Users/anujdutt/miniconda3/envs/deeplearning/lib/python3.6/site-packages/ipykernel_launcher.py:24: UserWarning: invalid index of a 0-dim tensor. This will be an error in PyTorch 0.5. Use tensor.item() to convert a 0-dim tensor to a Python number\n"
     ]
    }
   ],
   "source": [
    "# Train the Model\n",
    "for epoch in range(epochs):\n",
    "    \n",
    "    # Define Training Inputs and Labels\n",
    "    # Variable has \"requires_grad = True\" by default\n",
    "    inputs = Variable(torch.from_numpy(x_train))\n",
    "    labels = Variable(torch.from_numpy(y_train))\n",
    "    \n",
    "    # Clear gradients w.r.t parameters every epoch to avoid gradient accumulation\n",
    "    optimizer.zero_grad()\n",
    "    \n",
    "    # Execute forward pass to get predicted values\n",
    "    y_hat = model.forward(x=inputs)\n",
    "    \n",
    "    # Calculate the loss for forward pass\n",
    "    loss = loss_criterion(y_hat,labels)\n",
    "    \n",
    "    # Backpropagate the gradients\n",
    "    loss.backward()\n",
    "    \n",
    "    # Update the Parameters\n",
    "    optimizer.step()\n",
    "    \n",
    "    print(\"Epoch: {0}\\t Loss: {1}\".format(epoch,loss.data[0]))"
   ]
  },
  {
   "cell_type": "code",
   "execution_count": 15,
   "metadata": {},
   "outputs": [
    {
     "data": {
      "text/plain": [
       "array([[ 1.1120979],\n",
       "       [ 3.095955 ],\n",
       "       [ 5.0798116],\n",
       "       [ 7.0636683],\n",
       "       [ 9.047525 ],\n",
       "       [11.031383 ],\n",
       "       [13.015239 ],\n",
       "       [14.999096 ],\n",
       "       [16.982954 ],\n",
       "       [18.96681  ],\n",
       "       [20.950668 ]], dtype=float32)"
      ]
     },
     "execution_count": 15,
     "metadata": {},
     "output_type": "execute_result"
    }
   ],
   "source": [
    "# Get predictions from our trained model\n",
    "predictions = model(Variable(torch.from_numpy(x_train))).data.numpy()\n",
    "predictions"
   ]
  },
  {
   "cell_type": "code",
   "execution_count": 16,
   "metadata": {},
   "outputs": [
    {
     "data": {
      "text/plain": [
       "array([[ 1.],\n",
       "       [ 3.],\n",
       "       [ 5.],\n",
       "       [ 7.],\n",
       "       [ 9.],\n",
       "       [11.],\n",
       "       [13.],\n",
       "       [15.],\n",
       "       [17.],\n",
       "       [19.],\n",
       "       [21.]], dtype=float32)"
      ]
     },
     "execution_count": 16,
     "metadata": {},
     "output_type": "execute_result"
    }
   ],
   "source": [
    "# Actual Labels\n",
    "y_train"
   ]
  },
  {
   "cell_type": "markdown",
   "metadata": {},
   "source": [
    "### Plot Predictions"
   ]
  },
  {
   "cell_type": "code",
   "execution_count": 17,
   "metadata": {},
   "outputs": [
    {
     "data": {
      "text/plain": [
       "<matplotlib.legend.Legend at 0x123397978>"
      ]
     },
     "execution_count": 17,
     "metadata": {},
     "output_type": "execute_result"
    },
    {
     "data": {
      "image/png": "[encoded data removed]",
      "text/plain": [
       "<Figure size 1440x720 with 1 Axes>"
      ]
     },
     "metadata": {
      "needs_background": "light"
     },
     "output_type": "display_data"
    }
   ],
   "source": [
    "# Plot actual data vs predictions\n",
    "plt.figure(figsize=(20,10))\n",
    "plt.clf()\n",
    "\n",
    "# Plot true data\n",
    "plt.plot(x_train, y_train, 'go', label='true data', alpha=0.5)\n",
    "\n",
    "# Plot predicted data\n",
    "plt.plot(x_train,predictions, '--', label='predictions', alpha=0.5)\n",
    "\n",
    "plt.legend()"
   ]
  },
  {
   "cell_type": "markdown",
   "metadata": {},
   "source": [
    "### Save Trained Model"
   ]
  },
  {
   "cell_type": "code",
   "execution_count": 18,
   "metadata": {},
   "outputs": [],
   "source": [
    "save_model = False\n",
    "\n",
    "if save_model is True:\n",
    "    # Save model parameters \"alpha\" and \"beta\"\n",
    "    torch.save(model.state_dict(), './saved_models/linear_regression.pkl')"
   ]
  },
  {
   "cell_type": "markdown",
   "metadata": {},
   "source": [
    "### Load Trained Model"
   ]
  },
  {
   "cell_type": "code",
   "execution_count": 19,
   "metadata": {},
   "outputs": [],
   "source": [
    "load_model = False\n",
    "\n",
    "if load_model is True:\n",
    "    model.load_state_dict(torch.load('./saved_models/linear_regression.pkl'))"
   ]
  },
  {
   "cell_type": "markdown",
   "metadata": {},
   "source": [
    "## Linear Regression Example"
   ]
  },
  {
   "cell_type": "code",
   "execution_count": 20,
   "metadata": {},
   "outputs": [],
   "source": [
    "# Import Dependencies\n",
    "import pandas as pd"
   ]
  },
  {
   "cell_type": "code",
   "execution_count": 21,
   "metadata": {},
   "outputs": [
    {
     "data": {
      "text/html": [
       "<div>\n",
       "<style scoped>\n",
       "    .dataframe tbody tr th:only-of-type {\n",
       "        vertical-align: middle;\n",
       "    }\n",
       "\n",
       "    .dataframe tbody tr th {\n",
       "        vertical-align: top;\n",
       "    }\n",
       "\n",
       "    .dataframe thead th {\n",
       "        text-align: right;\n",
       "    }\n",
       "</style>\n",
       "<table border=\"1\" class=\"dataframe\">\n",
       "  <thead>\n",
       "    <tr style=\"text-align: right;\">\n",
       "      <th></th>\n",
       "      <th>X</th>\n",
       "      <th>Y</th>\n",
       "    </tr>\n",
       "  </thead>\n",
       "  <tbody>\n",
       "    <tr>\n",
       "      <th>0</th>\n",
       "      <td>108</td>\n",
       "      <td>392.5</td>\n",
       "    </tr>\n",
       "    <tr>\n",
       "      <th>1</th>\n",
       "      <td>19</td>\n",
       "      <td>46.2</td>\n",
       "    </tr>\n",
       "    <tr>\n",
       "      <th>2</th>\n",
       "      <td>13</td>\n",
       "      <td>15.7</td>\n",
       "    </tr>\n",
       "    <tr>\n",
       "      <th>3</th>\n",
       "      <td>124</td>\n",
       "      <td>422.2</td>\n",
       "    </tr>\n",
       "    <tr>\n",
       "      <th>4</th>\n",
       "      <td>40</td>\n",
       "      <td>119.4</td>\n",
       "    </tr>\n",
       "  </tbody>\n",
       "</table>\n",
       "</div>"
      ],
      "text/plain": [
       "     X      Y\n",
       "0  108  392.5\n",
       "1   19   46.2\n",
       "2   13   15.7\n",
       "3  124  422.2\n",
       "4   40  119.4"
      ]
     },
     "execution_count": 21,
     "metadata": {},
     "output_type": "execute_result"
    }
   ],
   "source": [
    "# Load Sample Dataset\n",
    "df = pd.read_csv('./dataset/Insurance-dataset.csv')\n",
    "df.head()"
   ]
  },
  {
   "cell_type": "code",
   "execution_count": 22,
   "metadata": {},
   "outputs": [],
   "source": [
    "# Features\n",
    "X = np.array(df[\"X\"], dtype=np.float64)\n",
    "\n",
    "# Labels\n",
    "y = np.array(df[\"Y\"], dtype=np.float64)"
   ]
  },
  {
   "cell_type": "code",
   "execution_count": 23,
   "metadata": {},
   "outputs": [
    {
     "data": {
      "text/plain": [
       "(63, 63)"
      ]
     },
     "execution_count": 23,
     "metadata": {},
     "output_type": "execute_result"
    }
   ],
   "source": [
    "X.size, y.size"
   ]
  },
  {
   "cell_type": "code",
   "execution_count": 24,
   "metadata": {},
   "outputs": [
    {
     "data": {
      "text/plain": [
       "array([108.,  19.,  13., 124.,  40.,  57.,  23.,  14.,  45.,  10.])"
      ]
     },
     "execution_count": 24,
     "metadata": {},
     "output_type": "execute_result"
    }
   ],
   "source": [
    "X[:10]"
   ]
  },
  {
   "cell_type": "code",
   "execution_count": 25,
   "metadata": {},
   "outputs": [
    {
     "data": {
      "text/plain": [
       "array([392.5,  46.2,  15.7, 422.2, 119.4, 170.9,  56.9,  77.5, 214. ,\n",
       "        65.3])"
      ]
     },
     "execution_count": 25,
     "metadata": {},
     "output_type": "execute_result"
    }
   ],
   "source": [
    "y[:10]"
   ]
  },
  {
   "cell_type": "code",
   "execution_count": 26,
   "metadata": {},
   "outputs": [],
   "source": [
    "X = X.reshape(63,1)"
   ]
  },
  {
   "cell_type": "code",
   "execution_count": 27,
   "metadata": {},
   "outputs": [
    {
     "data": {
      "text/plain": [
       "(63, 1)"
      ]
     },
     "execution_count": 27,
     "metadata": {},
     "output_type": "execute_result"
    }
   ],
   "source": [
    "X.shape"
   ]
  },
  {
   "cell_type": "code",
   "execution_count": 28,
   "metadata": {},
   "outputs": [
    {
     "data": {
      "text/plain": [
       "numpy.ndarray"
      ]
     },
     "execution_count": 28,
     "metadata": {},
     "output_type": "execute_result"
    }
   ],
   "source": [
    "type(X)"
   ]
  },
  {
   "cell_type": "code",
   "execution_count": 29,
   "metadata": {},
   "outputs": [],
   "source": [
    "y = y.reshape(63,1)"
   ]
  },
  {
   "cell_type": "code",
   "execution_count": 30,
   "metadata": {},
   "outputs": [
    {
     "data": {
      "text/plain": [
       "(63, 1)"
      ]
     },
     "execution_count": 30,
     "metadata": {},
     "output_type": "execute_result"
    }
   ],
   "source": [
    "y.shape"
   ]
  },
  {
   "cell_type": "code",
   "execution_count": 31,
   "metadata": {},
   "outputs": [
    {
     "data": {
      "text/plain": [
       "numpy.ndarray"
      ]
     },
     "execution_count": 31,
     "metadata": {},
     "output_type": "execute_result"
    }
   ],
   "source": [
    "type(y)"
   ]
  },
  {
   "cell_type": "code",
   "execution_count": 32,
   "metadata": {},
   "outputs": [
    {
     "data": {
      "image/png": "[encoded data removed]",
      "text/plain": [
       "<Figure size 432x288 with 1 Axes>"
      ]
     },
     "metadata": {
      "needs_background": "light"
     },
     "output_type": "display_data"
    }
   ],
   "source": [
    "# Plot Data\n",
    "plt.scatter(X,y)\n",
    "plt.title(\"Data Scatter Plot\");"
   ]
  },
  {
   "cell_type": "code",
   "execution_count": 33,
   "metadata": {},
   "outputs": [],
   "source": [
    "# Convert Numpy Arrays to torch Tensors\n",
    "X = torch.from_numpy(X)\n",
    "y = torch.from_numpy(y)"
   ]
  },
  {
   "cell_type": "code",
   "execution_count": 34,
   "metadata": {},
   "outputs": [
    {
     "data": {
      "text/plain": [
       "(torch.Tensor, torch.Tensor)"
      ]
     },
     "execution_count": 34,
     "metadata": {},
     "output_type": "execute_result"
    }
   ],
   "source": [
    "type(X), type(y)"
   ]
  },
  {
   "cell_type": "markdown",
   "metadata": {},
   "source": [
    "We know that for Linear Regression, the equation is:\n",
    "\n",
    "    y = W * X + b\n",
    "\n",
    "So, here we have values of \"X\" and \"y\". We need to find out the values of \"W\" and \"b\"."
   ]
  },
  {
   "cell_type": "code",
   "execution_count": 35,
   "metadata": {},
   "outputs": [],
   "source": [
    "# Initialize Values of W and b\n",
    "W = Variable(torch.rand(1, 1), requires_grad=True)\n",
    "b = Variable(torch.rand(1), requires_grad=True)"
   ]
  },
  {
   "cell_type": "code",
   "execution_count": 36,
   "metadata": {},
   "outputs": [],
   "source": [
    "# Define a function for linear Regression\n",
    "def linearRegression(x):\n",
    "    return torch.matmul(x,W) + b"
   ]
  },
  {
   "cell_type": "code",
   "execution_count": 37,
   "metadata": {},
   "outputs": [],
   "source": [
    "# Define Inputs i.e. X and Y\n",
    "X_t = Variable(X).float()\n",
    "y_t = Variable(y).float()"
   ]
  },
  {
   "cell_type": "code",
   "execution_count": 38,
   "metadata": {},
   "outputs": [
    {
     "data": {
      "text/plain": [
       "torch.Size([63, 1])"
      ]
     },
     "execution_count": 38,
     "metadata": {},
     "output_type": "execute_result"
    }
   ],
   "source": [
    "X_t.shape"
   ]
  },
  {
   "cell_type": "code",
   "execution_count": 39,
   "metadata": {},
   "outputs": [
    {
     "data": {
      "text/plain": [
       "torch.Size([63, 1])"
      ]
     },
     "execution_count": 39,
     "metadata": {},
     "output_type": "execute_result"
    }
   ],
   "source": [
    "y_t.shape"
   ]
  },
  {
   "cell_type": "code",
   "execution_count": 40,
   "metadata": {},
   "outputs": [
    {
     "data": {
      "text/plain": [
       "torch.Size([1, 1])"
      ]
     },
     "execution_count": 40,
     "metadata": {},
     "output_type": "execute_result"
    }
   ],
   "source": [
    "W.shape"
   ]
  },
  {
   "cell_type": "code",
   "execution_count": 41,
   "metadata": {},
   "outputs": [
    {
     "data": {
      "text/plain": [
       "torch.Size([1])"
      ]
     },
     "execution_count": 41,
     "metadata": {},
     "output_type": "execute_result"
    }
   ],
   "source": [
    "b.shape"
   ]
  },
  {
   "cell_type": "code",
   "execution_count": 42,
   "metadata": {},
   "outputs": [
    {
     "data": {
      "text/plain": [
       "(torch.Tensor, torch.Tensor)"
      ]
     },
     "execution_count": 42,
     "metadata": {},
     "output_type": "execute_result"
    }
   ],
   "source": [
    "type(X_t), type(y_t)"
   ]
  },
  {
   "cell_type": "code",
   "execution_count": 43,
   "metadata": {},
   "outputs": [
    {
     "name": "stdout",
     "output_type": "stream",
     "text": [
      "Epoch: 0\t Loss: 15161.83984375\n",
      "Epoch: 100\t Loss: 1438.557373046875\n",
      "Epoch: 200\t Loss: 1434.7979736328125\n",
      "Epoch: 300\t Loss: 1431.1141357421875\n",
      "Epoch: 400\t Loss: 1427.5037841796875\n",
      "Epoch: 500\t Loss: 1423.9658203125\n",
      "Epoch: 600\t Loss: 1420.4990234375\n",
      "Epoch: 700\t Loss: 1417.1011962890625\n",
      "Epoch: 800\t Loss: 1413.7711181640625\n",
      "Epoch: 900\t Loss: 1410.5081787109375\n"
     ]
    },
    {
     "name": "stderr",
     "output_type": "stream",
     "text": [
      "/Users/anujdutt/miniconda3/envs/deeplearning/lib/python3.6/site-packages/ipykernel_launcher.py:29: UserWarning: invalid index of a 0-dim tensor. This will be an error in PyTorch 0.5. Use tensor.item() to convert a 0-dim tensor to a Python number\n"
     ]
    }
   ],
   "source": [
    "# Train the Model\n",
    "\n",
    "# Num epochs\n",
    "epochs = 1000\n",
    "\n",
    "# Learning Rate\n",
    "lr = 0.0001\n",
    "\n",
    "for epoch in range(epochs):\n",
    "    # Compute initial predictions at output\n",
    "    y_pred = linearRegression(X_t)\n",
    "    \n",
    "    # Compute Cost Function [Mean Squared Error]\n",
    "    loss = torch.mean((y_pred - y_t)**2)\n",
    "    \n",
    "    # Do Backpropagation of gradients\n",
    "    loss.backward()\n",
    "    \n",
    "    # Update Weight and Bias Values\n",
    "    # theta = theta - learning_rate * gradient\n",
    "    W.data = W.data - lr*W.grad.data\n",
    "    b.data = b.data - lr*b.grad.data\n",
    "    \n",
    "    # Reset gradients\n",
    "    W.grad.data.zero_()\n",
    "    b.grad.data.zero_()\n",
    "    \n",
    "    if epoch%100 == 0:\n",
    "        print(\"Epoch: {0}\\t Loss: {1}\".format(epoch,loss.data[0]))"
   ]
  },
  {
   "cell_type": "code",
   "execution_count": 44,
   "metadata": {},
   "outputs": [
    {
     "data": {
      "text/plain": [
       "tensor([[412.1276],\n",
       "        [ 74.4788],\n",
       "        [ 51.7160],\n",
       "        [472.8285],\n",
       "        [154.1487],\n",
       "        [218.6435],\n",
       "        [ 89.6540],\n",
       "        [ 55.5098],\n",
       "        [173.1178],\n",
       "        [ 40.3345],\n",
       "        [ 21.3655],\n",
       "        [184.4992],\n",
       "        [ 44.1283],\n",
       "        [ 89.6540],\n",
       "        [ 28.9531],\n",
       "        [  9.9841],\n",
       "        [ 93.4478],\n",
       "        [ 25.1593],\n",
       "        [ 13.7779],\n",
       "        [ 89.6540],\n",
       "        [ 25.1593],\n",
       "        [ 36.5407],\n",
       "        [ 36.5407],\n",
       "        [ 13.7779],\n",
       "        [112.4169],\n",
       "        [ 28.9531],\n",
       "        [ 17.5717],\n",
       "        [ 78.2726],\n",
       "        [ 28.9531],\n",
       "        [ 17.5717],\n",
       "        [  2.3965],\n",
       "        [ 97.2416],\n",
       "        [ 25.1593],\n",
       "        [ 21.3655],\n",
       "        [ 85.8602],\n",
       "        [ 44.1283],\n",
       "        [233.8187],\n",
       "        [ 47.9222],\n",
       "        [ 17.5717],\n",
       "        [ 63.0974],\n",
       "        [ 51.7160],\n",
       "        [230.0249],\n",
       "        [157.9426],\n",
       "        [142.7673],\n",
       "        [211.0558],\n",
       "        [157.9426],\n",
       "        [ 44.1283],\n",
       "        [104.8293],\n",
       "        [ 32.7469],\n",
       "        [ 13.7779],\n",
       "        [ 66.8912],\n",
       "        [ 51.7160],\n",
       "        [ 51.7160],\n",
       "        [ 59.3036],\n",
       "        [ 32.7469],\n",
       "        [112.4169],\n",
       "        [116.2107],\n",
       "        [ 93.4478],\n",
       "        [ 36.5407],\n",
       "        [120.0045],\n",
       "        [ 55.5098],\n",
       "        [203.4682],\n",
       "        [101.0354]])"
      ]
     },
     "execution_count": 44,
     "metadata": {},
     "output_type": "execute_result"
    }
   ],
   "source": [
    "y_pred.data"
   ]
  },
  {
   "cell_type": "code",
   "execution_count": 45,
   "metadata": {},
   "outputs": [
    {
     "data": {
      "text/plain": [
       "array([[412.12762  ],\n",
       "       [ 74.4788   ],\n",
       "       [ 51.71596  ],\n",
       "       [472.82852  ],\n",
       "       [154.14874  ],\n",
       "       [218.64346  ],\n",
       "       [ 89.65402  ],\n",
       "       [ 55.50977  ],\n",
       "       [173.11777  ],\n",
       "       [ 40.33454  ],\n",
       "       [ 21.365505 ],\n",
       "       [184.49919  ],\n",
       "       [ 44.12835  ],\n",
       "       [ 89.65402  ],\n",
       "       [ 28.95312  ],\n",
       "       [  9.984085 ],\n",
       "       [ 93.44783  ],\n",
       "       [ 25.159311 ],\n",
       "       [ 13.777891 ],\n",
       "       [ 89.65402  ],\n",
       "       [ 25.159311 ],\n",
       "       [ 36.540733 ],\n",
       "       [ 36.540733 ],\n",
       "       [ 13.777891 ],\n",
       "       [112.41686  ],\n",
       "       [ 28.95312  ],\n",
       "       [ 17.5717   ],\n",
       "       [ 78.272606 ],\n",
       "       [ 28.95312  ],\n",
       "       [ 17.5717   ],\n",
       "       [  2.3964713],\n",
       "       [ 97.24164  ],\n",
       "       [ 25.159311 ],\n",
       "       [ 21.365505 ],\n",
       "       [ 85.86022  ],\n",
       "       [ 44.12835  ],\n",
       "       [233.81868  ],\n",
       "       [ 47.922153 ],\n",
       "       [ 17.5717   ],\n",
       "       [ 63.09738  ],\n",
       "       [ 51.71596  ],\n",
       "       [230.02487  ],\n",
       "       [157.94255  ],\n",
       "       [142.76732  ],\n",
       "       [211.05585  ],\n",
       "       [157.94255  ],\n",
       "       [ 44.12835  ],\n",
       "       [104.829254 ],\n",
       "       [ 32.746925 ],\n",
       "       [ 13.777891 ],\n",
       "       [ 66.89118  ],\n",
       "       [ 51.71596  ],\n",
       "       [ 51.71596  ],\n",
       "       [ 59.303574 ],\n",
       "       [ 32.746925 ],\n",
       "       [112.41686  ],\n",
       "       [116.21067  ],\n",
       "       [ 93.44783  ],\n",
       "       [ 36.540733 ],\n",
       "       [120.00448  ],\n",
       "       [ 55.50977  ],\n",
       "       [203.46823  ],\n",
       "       [101.035446 ]], dtype=float32)"
      ]
     },
     "execution_count": 45,
     "metadata": {},
     "output_type": "execute_result"
    }
   ],
   "source": [
    "# Convert Predicted values to Numpy for plotting\n",
    "y_hat = y_pred.data.numpy()\n",
    "y_hat"
   ]
  },
  {
   "cell_type": "code",
   "execution_count": 46,
   "metadata": {},
   "outputs": [
    {
     "data": {
      "image/png": "[encoded data removed]",
      "text/plain": [
       "<Figure size 1440x720 with 1 Axes>"
      ]
     },
     "metadata": {
      "needs_background": "light"
     },
     "output_type": "display_data"
    }
   ],
   "source": [
    "# Features\n",
    "X = X.numpy()\n",
    "\n",
    "# Labels\n",
    "y = y.numpy()\n",
    "\n",
    "fig,ax = plt.subplots(figsize=(20,10))\n",
    "ax.scatter(X,y,c='y')\n",
    "ax.plot(X,y_hat,c='g')\n",
    "ax.set_xlabel('X')\n",
    "ax.set_ylabel('y')\n",
    "ax.set_title('Best Fit Line Plot');"
   ]
  }
 ],
 "metadata": {
  "kernelspec": {
   "display_name": "Python 3",
   "language": "python",
   "name": "python3"
  },
  "language_info": {
   "codemirror_mode": {
    "name": "ipython",
    "version": 3
   },
   "file_extension": ".py",
   "mimetype": "text/x-python",
   "name": "python",
   "nbconvert_exporter": "python",
   "pygments_lexer": "ipython3",
   "version": "3.6.6"
  }
 },
 "nbformat": 4,
 "nbformat_minor": 2
}
