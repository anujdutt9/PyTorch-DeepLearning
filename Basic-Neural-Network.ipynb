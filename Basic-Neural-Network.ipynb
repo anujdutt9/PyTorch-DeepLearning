{
 "cells": [
  {
   "cell_type": "markdown",
   "metadata": {},
   "source": [
    "## Basic Neural Network"
   ]
  },
  {
   "cell_type": "code",
   "execution_count": 1,
   "metadata": {},
   "outputs": [],
   "source": [
    "# Import Dependencies\n",
    "import torch\n",
    "import numpy as np\n",
    "import torch.nn as nn\n",
    "from torch.autograd import Variable\n",
    "import matplotlib.pyplot as plt\n",
    "%matplotlib inline"
   ]
  },
  {
   "cell_type": "code",
   "execution_count": 2,
   "metadata": {},
   "outputs": [
    {
     "data": {
      "text/plain": [
       "<torch._C.Generator at 0x10c7a0ed0>"
      ]
     },
     "execution_count": 2,
     "metadata": {},
     "output_type": "execute_result"
    }
   ],
   "source": [
    "# Set Seed in Torch\n",
    "torch.manual_seed(1)"
   ]
  },
  {
   "cell_type": "markdown",
   "metadata": {},
   "source": [
    "### Define NN Architecture"
   ]
  },
  {
   "cell_type": "code",
   "execution_count": 3,
   "metadata": {},
   "outputs": [],
   "source": [
    "# Neural Network Class\n",
    "class BasicNN(nn.Module):\n",
    "    \n",
    "    # Initializer Function\n",
    "    def __init__(self, num_features, num_hidden, num_output):\n",
    "        super(BasicNN, self).__init__()\n",
    "        # Initialize input to hidden layer\n",
    "        self.hidden = torch.nn.Linear(num_features, num_hidden)\n",
    "        # Initilize hidden layer to output\n",
    "        self.output = torch.nn.Linear(num_hidden, num_output)\n",
    "        \n",
    "    # Forward Pass\n",
    "    def forward(self,x):\n",
    "        # Apply activation function to hidden layer\n",
    "        x = nn.functional.relu(self.hidden(x))\n",
    "        # Linear Output\n",
    "        x = self.output(x)\n",
    "        return x"
   ]
  },
  {
   "cell_type": "code",
   "execution_count": 4,
   "metadata": {},
   "outputs": [
    {
     "name": "stdout",
     "output_type": "stream",
     "text": [
      "BasicNN(\n",
      "  (hidden): Linear(in_features=1, out_features=10, bias=True)\n",
      "  (output): Linear(in_features=10, out_features=1, bias=True)\n",
      ")\n"
     ]
    }
   ],
   "source": [
    "# Initialize the model\n",
    "model1 = BasicNN(num_features=1, num_hidden=10, num_output=1)\n",
    "print(model1)"
   ]
  },
  {
   "cell_type": "code",
   "execution_count": 5,
   "metadata": {},
   "outputs": [
    {
     "name": "stdout",
     "output_type": "stream",
     "text": [
      "Sequential(\n",
      "  (0): Linear(in_features=1, out_features=10, bias=True)\n",
      "  (1): ReLU()\n",
      "  (2): Linear(in_features=10, out_features=1, bias=True)\n",
      ")\n"
     ]
    }
   ],
   "source": [
    "# Other way of defining a model\n",
    "model2 = nn.Sequential(\n",
    "         nn.Linear(1,10),\n",
    "         nn.ReLU(),\n",
    "         nn.Linear(10,1))\n",
    "print(model2)"
   ]
  },
  {
   "cell_type": "code",
   "execution_count": 6,
   "metadata": {},
   "outputs": [
    {
     "data": {
      "text/plain": [
       "(torch.Tensor, torch.Tensor)"
      ]
     },
     "execution_count": 6,
     "metadata": {},
     "output_type": "execute_result"
    }
   ],
   "source": [
    "# Generate some data\n",
    "\n",
    "# x.shape = (100, 1)\n",
    "X = torch.unsqueeze(torch.linspace(-1, 1, 100), dim=1)\n",
    "\n",
    "# Noisy y data, shape=(100, 1)\n",
    "y = X.pow(2) + 0.2*torch.rand(X.size())\n",
    "\n",
    "# Convert \"x\" and \"y\" to torch tensor\n",
    "X, y = Variable(X, requires_grad=False), Variable(y, requires_grad=False)\n",
    "\n",
    "type(X), type(y)"
   ]
  },
  {
   "cell_type": "markdown",
   "metadata": {},
   "source": [
    "## Save Model"
   ]
  },
  {
   "cell_type": "code",
   "execution_count": 7,
   "metadata": {},
   "outputs": [],
   "source": [
    "# Save NN Function\n",
    "def saveNN():\n",
    "    \n",
    "    # Define Model-1\n",
    "    model1 = nn.Sequential(\n",
    "             nn.Linear(1,10),\n",
    "             nn.ReLU(),\n",
    "             nn.Linear(10,1))\n",
    "    \n",
    "    # Define Optimizer\n",
    "    optimizer = torch.optim.SGD(model1.parameters(), lr=0.05)\n",
    "    \n",
    "    # Define Loss Function\n",
    "    loss_func = nn.MSELoss()\n",
    "    \n",
    "    # Train the Model\n",
    "    epochs = 100\n",
    "    \n",
    "    for epoch in range(epochs):\n",
    "        # Predicted Output\n",
    "        y_hat = model1(X)\n",
    "        \n",
    "        # Loss\n",
    "        loss = loss_func(y_hat, y)\n",
    "        \n",
    "        # Clear the Gradients\n",
    "        optimizer.zero_grad()\n",
    "        \n",
    "        # Back Propagation\n",
    "        loss.backward()\n",
    "        \n",
    "        # Optimize\n",
    "        optimizer.step()\n",
    "        \n",
    "        if epoch%10 == 0:\n",
    "            print(\"Epoch: {0}\\t Loss: {1}\".format(epoch,loss.data[0]))\n",
    "        \n",
    "    # Plot the Results\n",
    "    plt.figure(1, figsize=(20, 5))\n",
    "    plt.subplot(131)\n",
    "    plt.title('Model-1')\n",
    "    plt.scatter(X.data.numpy(), y.data.numpy(), color = \"red\")\n",
    "    plt.plot(X.data.numpy(), y_hat.data.numpy(), 'y-', lw=5)\n",
    "    \n",
    "    # Save the Trained Model\n",
    "    # 1. Save entire Neural Network\n",
    "    torch.save(model1, './saved_model/model_1.pkl')\n",
    "    print(\"\\nModel Saved at ./saved_model/model_1.pkl...\\n\")\n",
    "    \n",
    "    # 2. Save only the Parameters i.e Weights & Biases\n",
    "    torch.save(model1.state_dict(), './saved_model/model_1_params.pkl')\n",
    "    print(\"Model Parameters Saved at ./saved_model/model_1_params.pkl...\\n\")"
   ]
  },
  {
   "cell_type": "markdown",
   "metadata": {},
   "source": [
    "## Load Saved Model"
   ]
  },
  {
   "cell_type": "code",
   "execution_count": 8,
   "metadata": {},
   "outputs": [],
   "source": [
    "# Function to restore the Saved Model into a New Model\n",
    "def restoreModel():\n",
    "    # Restore entire model-1 to a new model, model-2\n",
    "    model2 = torch.load('./saved_model/model_1.pkl')\n",
    "    y_pred = model2(X)\n",
    "\n",
    "    # Plot Saved Model Results\n",
    "    plt.figure(1, figsize=(20, 5))\n",
    "    plt.subplot(132)\n",
    "    plt.title('Model-2')\n",
    "    plt.scatter(X.data.numpy(), y.data.numpy(), color = \"red\")\n",
    "    plt.plot(X.data.numpy(), y_pred.data.numpy(), 'y-', lw=5)"
   ]
  },
  {
   "cell_type": "markdown",
   "metadata": {},
   "source": [
    "## Restore Model Parameters"
   ]
  },
  {
   "cell_type": "code",
   "execution_count": 9,
   "metadata": {},
   "outputs": [],
   "source": [
    "# Function to Restore Model Parameters\n",
    "def restoreModelParams():\n",
    "    # Restore only the Parameters in saved model-1 to a new model, model-3\n",
    "    # Create the Model Architecture\n",
    "    model3 = torch.nn.Sequential(\n",
    "        torch.nn.Linear(1, 10),\n",
    "        torch.nn.ReLU(),\n",
    "        torch.nn.Linear(10, 1)\n",
    "    )\n",
    "    \n",
    "    # Copy model-1's Parameters into model-3\n",
    "    model3.load_state_dict(torch.load('./saved_model/model_1_params.pkl'))\n",
    "    y_pred = model3(X)\n",
    "    \n",
    "    # Plot Results from Loaded Model\n",
    "    plt.figure(1, figsize=(20, 5))\n",
    "    plt.subplot(133)\n",
    "    plt.title('Model-3')\n",
    "    plt.scatter(X.data.numpy(), y.data.numpy(), color = \"red\")\n",
    "    plt.plot(X.data.numpy(), y_pred.data.numpy(), 'y-', lw=5)\n",
    "    plt.show()"
   ]
  },
  {
   "cell_type": "markdown",
   "metadata": {},
   "source": [
    "## Plot the Models, model-1, model-2 and model-3 for Verification"
   ]
  },
  {
   "cell_type": "code",
   "execution_count": 10,
   "metadata": {},
   "outputs": [
    {
     "name": "stdout",
     "output_type": "stream",
     "text": [
      "Epoch: 0\t Loss: 0.9994783997535706\n",
      "Epoch: 10\t Loss: 0.10376431792974472\n",
      "Epoch: 20\t Loss: 0.10072514414787292\n",
      "Epoch: 30\t Loss: 0.09799028933048248\n",
      "Epoch: 40\t Loss: 0.09557335078716278\n",
      "Epoch: 50\t Loss: 0.09344539791345596\n",
      "Epoch: 60\t Loss: 0.09148307144641876\n",
      "Epoch: 70\t Loss: 0.08959227055311203\n",
      "Epoch: 80\t Loss: 0.08768895268440247\n",
      "Epoch: 90\t Loss: 0.08571644127368927\n",
      "\n",
      "Model Saved at ./saved_model/model_1.pkl...\n",
      "\n",
      "Model Parameters Saved at ./saved_model/model_1_params.pkl...\n",
      "\n"
     ]
    },
    {
     "name": "stderr",
     "output_type": "stream",
     "text": [
      "/Users/anujdutt/miniconda3/envs/deeplearning/lib/python3.6/site-packages/ipykernel_launcher.py:36: UserWarning: invalid index of a 0-dim tensor. This will be an error in PyTorch 0.5. Use tensor.item() to convert a 0-dim tensor to a Python number\n"
     ]
    },
    {
     "data": {
      "image/png": "[encoded data removed]",
      "text/plain": [
       "<Figure size 1440x360 with 3 Axes>"
      ]
     },
     "metadata": {
      "needs_background": "light"
     },
     "output_type": "display_data"
    }
   ],
   "source": [
    "# Save the Model, saved model-1\n",
    "saveNN()\n",
    "\n",
    "# Restore the model from Saved Model\n",
    "restoreModel()\n",
    "\n",
    "# Model with Restored Parameters\n",
    "restoreModelParams()"
   ]
  },
  {
   "cell_type": "markdown",
   "metadata": {},
   "source": [
    "***The above plots prove that we saved the \"model-1\", restored the model as \"model-2\" and also restored model-1 as \"model-3\" with model-1's saved parameters.***"
   ]
  }
 ],
 "metadata": {
  "kernelspec": {
   "display_name": "Python 3",
   "language": "python",
   "name": "python3"
  },
  "language_info": {
   "codemirror_mode": {
    "name": "ipython",
    "version": 3
   },
   "file_extension": ".py",
   "mimetype": "text/x-python",
   "name": "python",
   "nbconvert_exporter": "python",
   "pygments_lexer": "ipython3",
   "version": "3.6.6"
  }
 },
 "nbformat": 4,
 "nbformat_minor": 2
}
