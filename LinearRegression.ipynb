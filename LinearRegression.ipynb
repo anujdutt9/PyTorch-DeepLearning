{
  "nbformat": 4,
  "nbformat_minor": 0,
  "metadata": {
    "colab": {
      "name": "LinearRegression.ipynb",
      "version": "0.3.2",
      "provenance": [],
      "collapsed_sections": [],
      "include_colab_link": true
    },
    "kernelspec": {
      "name": "python3",
      "display_name": "Python 3"
    }
  },
  "cells": [
    {
      "cell_type": "markdown",
      "metadata": {
        "id": "view-in-github",
        "colab_type": "text"
      },
      "source": [
        "<a href=\"https://colab.research.google.com/github/anujdutt9/PyTorch-DeepLearning/blob/master/LinearRegression.ipynb\" target=\"_parent\"><img src=\"https://colab.research.google.com/assets/colab-badge.svg\" alt=\"Open In Colab\"/></a>"
      ]
    },
    {
      "cell_type": "code",
      "metadata": {
        "id": "hsIo1SpcxKiX",
        "colab_type": "code",
        "colab": {}
      },
      "source": [
        "import torch\n",
        "import torch.nn as nn\n",
        "from torch.nn import Linear\n",
        "import numpy as np\n",
        "import matplotlib.pyplot as plt\n",
        "%matplotlib inline"
      ],
      "execution_count": 0,
      "outputs": []
    },
    {
      "cell_type": "code",
      "metadata": {
        "id": "6L1kSs6pyyqv",
        "colab_type": "code",
        "colab": {
          "base_uri": "https://localhost:8080/",
          "height": 34
        },
        "outputId": "d9a338ab-e83c-4e0e-f47c-290e27150645"
      },
      "source": [
        "torch.manual_seed(101)"
      ],
      "execution_count": 2,
      "outputs": [
        {
          "output_type": "execute_result",
          "data": {
            "text/plain": [
              "<torch._C.Generator at 0x7f4c7c8f8130>"
            ]
          },
          "metadata": {
            "tags": []
          },
          "execution_count": 2
        }
      ]
    },
    {
      "cell_type": "markdown",
      "metadata": {
        "id": "5BiJ95Iyy9t4",
        "colab_type": "text"
      },
      "source": [
        "**Basic Linear Regression Equation**"
      ]
    },
    {
      "cell_type": "code",
      "metadata": {
        "id": "GX3GroEfxTie",
        "colab_type": "code",
        "colab": {}
      },
      "source": [
        "# Weight\n",
        "W = torch.tensor(3.0, requires_grad=True)\n",
        "\n",
        "# Bias\n",
        "b = torch.tensor(1.0, requires_grad=True)"
      ],
      "execution_count": 0,
      "outputs": []
    },
    {
      "cell_type": "code",
      "metadata": {
        "id": "MLqsBmZjx6ZQ",
        "colab_type": "code",
        "colab": {}
      },
      "source": [
        "# Forward Pass\n",
        "def forward(X):\n",
        "  # Linear Regression\n",
        "  y = W * X + b\n",
        "  return y"
      ],
      "execution_count": 0,
      "outputs": []
    },
    {
      "cell_type": "code",
      "metadata": {
        "id": "X4U_c2loyD35",
        "colab_type": "code",
        "colab": {
          "base_uri": "https://localhost:8080/",
          "height": 34
        },
        "outputId": "3e9c97e4-abd6-4cab-e3c1-633b50a7d4d9"
      },
      "source": [
        "x = torch.tensor(2)\n",
        "\n",
        "# Make Prediction\n",
        "print(forward(X=x))"
      ],
      "execution_count": 5,
      "outputs": [
        {
          "output_type": "stream",
          "text": [
            "tensor(7., grad_fn=<AddBackward0>)\n"
          ],
          "name": "stdout"
        }
      ]
    },
    {
      "cell_type": "code",
      "metadata": {
        "id": "7mOFrlv4yR7g",
        "colab_type": "code",
        "colab": {
          "base_uri": "https://localhost:8080/",
          "height": 51
        },
        "outputId": "927fa0cc-b352-4af5-8618-05ec2b3cc2d2"
      },
      "source": [
        "x = torch.tensor([[4], [7]])\n",
        "\n",
        "# Make Prediction\n",
        "print(forward(X=x))"
      ],
      "execution_count": 6,
      "outputs": [
        {
          "output_type": "stream",
          "text": [
            "tensor([[13],\n",
            "        [22]], grad_fn=<AddBackward0>)\n"
          ],
          "name": "stdout"
        }
      ]
    },
    {
      "cell_type": "markdown",
      "metadata": {
        "id": "3KfZbvzozIhX",
        "colab_type": "text"
      },
      "source": [
        "**Creating a Linear Model**"
      ]
    },
    {
      "cell_type": "code",
      "metadata": {
        "id": "xcPNJLmCyes5",
        "colab_type": "code",
        "colab": {}
      },
      "source": [
        "# Linear Model with 1 input and 1 output\n",
        "model = Linear(in_features=1, out_features=1)"
      ],
      "execution_count": 0,
      "outputs": []
    },
    {
      "cell_type": "code",
      "metadata": {
        "id": "q0MFpnVTzOyN",
        "colab_type": "code",
        "colab": {
          "base_uri": "https://localhost:8080/",
          "height": 51
        },
        "outputId": "f8d1a360-dcf9-41a9-908b-b56433f92a51"
      },
      "source": [
        "model.bias"
      ],
      "execution_count": 8,
      "outputs": [
        {
          "output_type": "execute_result",
          "data": {
            "text/plain": [
              "Parameter containing:\n",
              "tensor([-0.0994], requires_grad=True)"
            ]
          },
          "metadata": {
            "tags": []
          },
          "execution_count": 8
        }
      ]
    },
    {
      "cell_type": "code",
      "metadata": {
        "id": "KVSegr9XzR4N",
        "colab_type": "code",
        "colab": {
          "base_uri": "https://localhost:8080/",
          "height": 51
        },
        "outputId": "275b012d-2aed-4033-b2c6-431dcd947c78"
      },
      "source": [
        "model.weight"
      ],
      "execution_count": 9,
      "outputs": [
        {
          "output_type": "execute_result",
          "data": {
            "text/plain": [
              "Parameter containing:\n",
              "tensor([[-0.6039]], requires_grad=True)"
            ]
          },
          "metadata": {
            "tags": []
          },
          "execution_count": 9
        }
      ]
    },
    {
      "cell_type": "code",
      "metadata": {
        "id": "6MIDV0zKzTKk",
        "colab_type": "code",
        "colab": {
          "base_uri": "https://localhost:8080/",
          "height": 34
        },
        "outputId": "b5e35427-413b-4897-f10e-9ebbc6a0b90d"
      },
      "source": [
        "x = torch.tensor([2.0])\n",
        "\n",
        "# Make a Prediction\n",
        "print(model(x))"
      ],
      "execution_count": 10,
      "outputs": [
        {
          "output_type": "stream",
          "text": [
            "tensor([-1.3072], grad_fn=<AddBackward0>)\n"
          ],
          "name": "stdout"
        }
      ]
    },
    {
      "cell_type": "code",
      "metadata": {
        "id": "sVdC7IS6zf4v",
        "colab_type": "code",
        "colab": {
          "base_uri": "https://localhost:8080/",
          "height": 51
        },
        "outputId": "982ce3ab-a7b4-49ee-bef1-10a6884696d2"
      },
      "source": [
        "x = torch.tensor([[3.0], [5.0]])\n",
        "\n",
        "# Make a Prediction\n",
        "print(model(x))"
      ],
      "execution_count": 11,
      "outputs": [
        {
          "output_type": "stream",
          "text": [
            "tensor([[-1.9111],\n",
            "        [-3.1189]], grad_fn=<AddmmBackward>)\n"
          ],
          "name": "stdout"
        }
      ]
    },
    {
      "cell_type": "markdown",
      "metadata": {
        "id": "TYOW41CN4_1g",
        "colab_type": "text"
      },
      "source": [
        "**Create a Dummy Dataset**"
      ]
    },
    {
      "cell_type": "code",
      "metadata": {
        "id": "y_YcOBxB5C09",
        "colab_type": "code",
        "colab": {}
      },
      "source": [
        "# Create a Dummy Datatset\n",
        "x = torch.randn(100, 1)*10\n",
        "x"
      ],
      "execution_count": 0,
      "outputs": []
    },
    {
      "cell_type": "code",
      "metadata": {
        "id": "nbSKN4xn5Fbn",
        "colab_type": "code",
        "colab": {}
      },
      "source": [
        "y = x + 3*torch.randn(100, 1)"
      ],
      "execution_count": 0,
      "outputs": []
    },
    {
      "cell_type": "code",
      "metadata": {
        "id": "cDPbLPWw5IaN",
        "colab_type": "code",
        "colab": {
          "base_uri": "https://localhost:8080/",
          "height": 300
        },
        "outputId": "1869eeef-cf9c-4783-f34e-79ab6f7b5f55"
      },
      "source": [
        "plt.plot(x.numpy(), y.numpy(), 'o')\n",
        "plt.xlabel('X')\n",
        "plt.ylabel('y')"
      ],
      "execution_count": 14,
      "outputs": [
        {
          "output_type": "execute_result",
          "data": {
            "text/plain": [
              "Text(0, 0.5, 'y')"
            ]
          },
          "metadata": {
            "tags": []
          },
          "execution_count": 14
        },
        {
          "output_type": "display_data",
          "data": {
            "image/png": "[encoded data removed]",
            "text/plain": [
              "<Figure size 432x288 with 1 Axes>"
            ]
          },
          "metadata": {
            "tags": []
          }
        }
      ]
    },
    {
      "cell_type": "markdown",
      "metadata": {
        "id": "zj5-TNhfztmK",
        "colab_type": "text"
      },
      "source": [
        "**Custom Modules**"
      ]
    },
    {
      "cell_type": "code",
      "metadata": {
        "id": "LfLIMgV1zvU9",
        "colab_type": "code",
        "colab": {}
      },
      "source": [
        "# Linear Regression Model Class\n",
        "class LinearRegression(nn.Module):\n",
        "  \n",
        "  # Constructor\n",
        "  def __init__(self, input_size, output_size):\n",
        "    super().__init__()\n",
        "    \n",
        "    # Linear Model\n",
        "    self.linear = nn.Linear(in_features=input_size, out_features=output_size)\n",
        "    \n",
        "  # Forward Pass\n",
        "  def forward(self, x):\n",
        "    pred = self.linear(x)\n",
        "    return pred"
      ],
      "execution_count": 0,
      "outputs": []
    },
    {
      "cell_type": "code",
      "metadata": {
        "id": "a5PRHE-L0doo",
        "colab_type": "code",
        "colab": {}
      },
      "source": [
        "# Model Initialization\n",
        "lr_model = LinearRegression(input_size=1, output_size=1)"
      ],
      "execution_count": 0,
      "outputs": []
    },
    {
      "cell_type": "code",
      "metadata": {
        "id": "Qnvu59X00nYF",
        "colab_type": "code",
        "colab": {
          "base_uri": "https://localhost:8080/",
          "height": 68
        },
        "outputId": "a3a33917-9983-4c1a-d96f-9a2e7ba83dc8"
      },
      "source": [
        "lr_model"
      ],
      "execution_count": 17,
      "outputs": [
        {
          "output_type": "execute_result",
          "data": {
            "text/plain": [
              "LinearRegression(\n",
              "  (linear): Linear(in_features=1, out_features=1, bias=True)\n",
              ")"
            ]
          },
          "metadata": {
            "tags": []
          },
          "execution_count": 17
        }
      ]
    },
    {
      "cell_type": "code",
      "metadata": {
        "id": "jrtEYCSM0oOE",
        "colab_type": "code",
        "colab": {}
      },
      "source": [
        "# Get Model Parameters\n",
        "def get_params():\n",
        "  [w,b] = lr_model.parameters()\n",
        "  w = w[0][0].item()\n",
        "  b = b[0].item()\n",
        "  return (w,b)"
      ],
      "execution_count": 0,
      "outputs": []
    },
    {
      "cell_type": "code",
      "metadata": {
        "id": "kzwSoFnr4kSt",
        "colab_type": "code",
        "colab": {}
      },
      "source": [
        "# Plotting Function\n",
        "def plot_fit(title):\n",
        "  plt.title(title)\n",
        "  W, b = get_params()\n",
        "  x_in = np.array([-30, 30])\n",
        "  y_pred = W * x_in + b\n",
        "  plt.plot(x_in, y_pred, 'r')\n",
        "  plt.scatter(x, y)"
      ],
      "execution_count": 0,
      "outputs": []
    },
    {
      "cell_type": "code",
      "metadata": {
        "id": "pw9Kwmy97a2y",
        "colab_type": "code",
        "colab": {
          "base_uri": "https://localhost:8080/",
          "height": 281
        },
        "outputId": "60b3028a-bbeb-4dbd-fc17-bf4691c5af2a"
      },
      "source": [
        "plot_fit(title='Initial Model')"
      ],
      "execution_count": 20,
      "outputs": [
        {
          "output_type": "display_data",
          "data": {
            "image/png": "[encoded data removed]",
            "text/plain": [
              "<Figure size 432x288 with 1 Axes>"
            ]
          },
          "metadata": {
            "tags": []
          }
        }
      ]
    },
    {
      "cell_type": "code",
      "metadata": {
        "id": "pXIdnfrF7dy0",
        "colab_type": "code",
        "colab": {}
      },
      "source": [
        "# Loss Criterion\n",
        "criterion = nn.MSELoss()"
      ],
      "execution_count": 0,
      "outputs": []
    },
    {
      "cell_type": "code",
      "metadata": {
        "id": "GtXceQtx-Bk1",
        "colab_type": "code",
        "colab": {}
      },
      "source": [
        "# Optimizer\n",
        "optimizer = torch.optim.SGD(lr_model.parameters(), lr=0.01)"
      ],
      "execution_count": 0,
      "outputs": []
    },
    {
      "cell_type": "code",
      "metadata": {
        "id": "Dy__0W8l-S1P",
        "colab_type": "code",
        "colab": {}
      },
      "source": [
        "# Epochs\n",
        "epochs = 100"
      ],
      "execution_count": 0,
      "outputs": []
    },
    {
      "cell_type": "code",
      "metadata": {
        "id": "tnajrH0g-ZrT",
        "colab_type": "code",
        "colab": {
          "base_uri": "https://localhost:8080/",
          "height": 187
        },
        "outputId": "b3886847-b32b-4913-eb96-c514cda5e74e"
      },
      "source": [
        "losses = []\n",
        "\n",
        "for e in range(epochs):\n",
        "  y_pred = lr_model.forward(x)\n",
        "  \n",
        "  loss = criterion(y, y_pred)\n",
        "  \n",
        "  losses.append(loss)\n",
        "  \n",
        "  optimizer.zero_grad()\n",
        "  \n",
        "  loss.backward()\n",
        "  \n",
        "  optimizer.step()\n",
        "  \n",
        "  if (e%10 == 0):\n",
        "    print('epoch: {}'.format(e),\n",
        "       'loss: {}'.format(loss.item()))"
      ],
      "execution_count": 24,
      "outputs": [
        {
          "output_type": "stream",
          "text": [
            "epoch: 0 loss: 13.375500679016113\n",
            "epoch: 10 loss: 8.300289154052734\n",
            "epoch: 20 loss: 8.240790367126465\n",
            "epoch: 30 loss: 8.223700523376465\n",
            "epoch: 40 loss: 8.212434768676758\n",
            "epoch: 50 loss: 8.204909324645996\n",
            "epoch: 60 loss: 8.199878692626953\n",
            "epoch: 70 loss: 8.196520805358887\n",
            "epoch: 80 loss: 8.194273948669434\n",
            "epoch: 90 loss: 8.192773818969727\n"
          ],
          "name": "stdout"
        }
      ]
    },
    {
      "cell_type": "code",
      "metadata": {
        "id": "D3NF2RYl_Y_t",
        "colab_type": "code",
        "colab": {
          "base_uri": "https://localhost:8080/",
          "height": 300
        },
        "outputId": "9191da0f-865f-492c-d5e5-ce8816ebf33f"
      },
      "source": [
        "plt.plot(range(epochs), losses)\n",
        "plt.xlabel('epochs')\n",
        "plt.ylabel('loss')"
      ],
      "execution_count": 25,
      "outputs": [
        {
          "output_type": "execute_result",
          "data": {
            "text/plain": [
              "Text(0, 0.5, 'loss')"
            ]
          },
          "metadata": {
            "tags": []
          },
          "execution_count": 25
        },
        {
          "output_type": "display_data",
          "data": {
            "image/png": "[encoded data removed]",
            "text/plain": [
              "<Figure size 432x288 with 1 Axes>"
            ]
          },
          "metadata": {
            "tags": []
          }
        }
      ]
    },
    {
      "cell_type": "code",
      "metadata": {
        "id": "1iElJSJ7_ov5",
        "colab_type": "code",
        "colab": {
          "base_uri": "https://localhost:8080/",
          "height": 281
        },
        "outputId": "a20c2f9f-cfae-4d96-fc7f-708757c4b2f0"
      },
      "source": [
        "plot_fit(title='Trained Model')"
      ],
      "execution_count": 26,
      "outputs": [
        {
          "output_type": "display_data",
          "data": {
            "image/png": "[encoded data removed]",
            "text/plain": [
              "<Figure size 432x288 with 1 Axes>"
            ]
          },
          "metadata": {
            "tags": []
          }
        }
      ]
    }
  ]
}