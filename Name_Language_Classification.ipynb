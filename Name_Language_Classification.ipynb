{
 "cells": [
  {
   "cell_type": "markdown",
   "id": "4639d07e-45a0-46eb-89bb-6ce666321c9a",
   "metadata": {},
   "source": [
    "# Name Classification\n",
    "\n",
    "In this notebook, we'll be creating a simple model for classifying names based upon language. For example: `Schmidhuber` sounds more like a name in the `German language`, whereas `Hinton` sounds more like a name in the `Scottish language`.\n",
    "\n",
    "## Imports\n"
   ]
  },
  {
   "cell_type": "code",
   "execution_count": 1,
   "id": "a9254704-3464-407a-ac26-49d8a4a7748c",
   "metadata": {},
   "outputs": [],
   "source": [
    "import os\n",
    "import unicodedata, string\n",
    "from glob import glob\n",
    "import torch\n",
    "import torch.nn as nn"
   ]
  },
  {
   "cell_type": "markdown",
   "id": "c677ac23-af28-4b89-8851-8838653a0de5",
   "metadata": {},
   "source": [
    "## Dataset\n",
    "\n",
    "The dataset contains of 18 text files named as “[Language].txt”. Each file contains a bunch of names, one name per line, mostly romanized."
   ]
  },
  {
   "cell_type": "code",
   "execution_count": 2,
   "id": "859ad645-74ed-470e-bb6f-d1b8b00a0b0a",
   "metadata": {},
   "outputs": [],
   "source": [
    "all_categories = []\n",
    "category_lines = {}"
   ]
  },
  {
   "cell_type": "code",
   "execution_count": 3,
   "id": "a1bbcbf5-deeb-4d77-bf98-f6a7b2d9f1fa",
   "metadata": {},
   "outputs": [],
   "source": [
    "# Turn a Unicode string to plain ASCII\n",
    "def unicodeToAscii(s):\n",
    "    return ''.join(\n",
    "        c for c in unicodedata.normalize('NFD', s)\n",
    "        if unicodedata.category(c) != 'Mn'\n",
    "        and c in all_letters\n",
    "    )\n",
    "\n",
    "def read_file(fpath):\n",
    "    lines = open(fpath, \"r\").read().strip().split('\\n')\n",
    "    return [unicodeToAscii(line) for line in lines]\n",
    "\n",
    "all_letters = string.ascii_letters + \" .,;'\"\n",
    "n_letters = len(all_letters)"
   ]
  },
  {
   "cell_type": "code",
   "execution_count": 4,
   "id": "bda6898b-b2f1-46a9-8ec7-7c83f45358e1",
   "metadata": {},
   "outputs": [],
   "source": [
    "# Read language names into array, and {language: [names]} into a dictionary\n",
    "for fpath in glob(\"./data/names/*.txt\"):\n",
    "    category = os.path.basename(fpath).split(\".txt\")[0]\n",
    "    all_categories.append(category)\n",
    "    lines = read_file(fpath)\n",
    "    category_lines[category] = lines"
   ]
  },
  {
   "cell_type": "code",
   "execution_count": 5,
   "id": "5f13e19d-89d9-4f62-9f4e-ad7ad3755c5d",
   "metadata": {},
   "outputs": [
    {
     "data": {
      "text/plain": [
       "['Czech',\n",
       " 'German',\n",
       " 'Arabic',\n",
       " 'Japanese',\n",
       " 'Chinese',\n",
       " 'Vietnamese',\n",
       " 'Russian',\n",
       " 'French',\n",
       " 'Irish',\n",
       " 'English',\n",
       " 'Spanish',\n",
       " 'Greek',\n",
       " 'Italian',\n",
       " 'Portuguese',\n",
       " 'Scottish',\n",
       " 'Dutch',\n",
       " 'Korean',\n",
       " 'Polish']"
      ]
     },
     "execution_count": 5,
     "metadata": {},
     "output_type": "execute_result"
    }
   ],
   "source": [
    "all_categories"
   ]
  },
  {
   "cell_type": "code",
   "execution_count": 6,
   "id": "339c7095-78b7-4a37-ae69-281b5199c945",
   "metadata": {},
   "outputs": [
    {
     "data": {
      "text/plain": [
       "['Abbing', 'Abel', 'Abeln', 'Abt', 'Achilles']"
      ]
     },
     "execution_count": 6,
     "metadata": {},
     "output_type": "execute_result"
    }
   ],
   "source": [
    "category_lines[\"German\"][:5]"
   ]
  },
  {
   "cell_type": "markdown",
   "id": "f63c498c-7d35-4ff4-8e4f-bb6472d74d8e",
   "metadata": {},
   "source": [
    "## Turning Names into Tensor\n",
    "\n",
    "To convert names into tensors, we split names into characters and represent each character as a `One Hot Encoded` vector representation of size `<1 x n_letters>`. Then, to make a word we join a bunch of these representations into a 2D matrix of size `<word_length, 1, n_letters>`.\n",
    "\n",
    "For example: \n",
    "\n",
    "A word `ape` can be represented in One Hot Vector as follows:\n",
    "\n",
    "```\n",
    "a b c d e f g h i j k l m n o p q r s t u v w x y z\n",
    "\n",
    "1 0 0 0 0 0 0 0 0 0 0 0 0 0 0 0 0 0 0 0 0 0 0 0 0 0\n",
    "0 0 0 0 0 0 0 0 0 0 0 0 0 0 0 1 0 0 0 0 0 0 0 0 0 0\n",
    "0 0 0 0 1 0 0 0 0 0 0 0 0 0 0 0 0 0 0 0 0 0 0 0 0 0\n",
    "\n",
    "Shape: [3, 1, 26]\n",
    "```\n",
    "\n",
    "**Note:**\n",
    "\n",
    "1. In the example above, `1` represents the batch size. Since, we are using only 1 word, the batch size is 1. \n",
    "2. Also, the 26 in n_letters used above is when only considering characters from a to z. In practice, we'll have characters from `a to z`, `A to Z` and special characters ` .,;'`."
   ]
  },
  {
   "cell_type": "code",
   "execution_count": 7,
   "id": "1f6caf94-31f6-47f2-a73c-cc7e63a12df6",
   "metadata": {},
   "outputs": [],
   "source": [
    "# Helper Functions\n",
    "\n",
    "# Get index of letter\n",
    "def letterToIndex(letter):\n",
    "    return all_letters.find(letter)\n",
    "\n",
    "\n",
    "def letterToTensor(letter):\n",
    "    ohe_letter = torch.zeros(1, n_letters)\n",
    "    ohe_letter[0][letterToIndex(letter)] = 1\n",
    "    \n",
    "    return ohe_letter\n",
    "\n",
    "\n",
    "# Function to convert Word to OHE Tensor\n",
    "def lineToTensor(line):\n",
    "    # Initialize word tensor with zeros\n",
    "    ohe_word = torch.zeros(len(line), 1, n_letters)\n",
    "    \n",
    "    # Go through all letters in the word and set to 1 \n",
    "    # corresponding to index of letter in word\n",
    "    for idx, letter in enumerate(line):\n",
    "        ohe_word[idx][0][letterToIndex(letter)] = 1\n",
    "    \n",
    "    return ohe_word"
   ]
  },
  {
   "cell_type": "code",
   "execution_count": 8,
   "id": "a32e7b5b-c127-447f-99b4-45da901f3f71",
   "metadata": {},
   "outputs": [
    {
     "name": "stdout",
     "output_type": "stream",
     "text": [
      "letterToIndex:  35\n",
      "lineToTensor: tensor([[[1., 0., 0., 0., 0., 0., 0., 0., 0., 0., 0., 0., 0., 0., 0., 0., 0.,\n",
      "          0., 0., 0., 0., 0., 0., 0., 0., 0., 0., 0., 0., 0., 0., 0., 0., 0.,\n",
      "          0., 0., 0., 0., 0., 0., 0., 0., 0., 0., 0., 0., 0., 0., 0., 0., 0.,\n",
      "          0., 0., 0., 0., 0., 0.]],\n",
      "\n",
      "        [[0., 0., 0., 0., 0., 0., 0., 0., 0., 0., 0., 0., 0., 0., 0., 1., 0.,\n",
      "          0., 0., 0., 0., 0., 0., 0., 0., 0., 0., 0., 0., 0., 0., 0., 0., 0.,\n",
      "          0., 0., 0., 0., 0., 0., 0., 0., 0., 0., 0., 0., 0., 0., 0., 0., 0.,\n",
      "          0., 0., 0., 0., 0., 0.]],\n",
      "\n",
      "        [[0., 0., 0., 0., 1., 0., 0., 0., 0., 0., 0., 0., 0., 0., 0., 0., 0.,\n",
      "          0., 0., 0., 0., 0., 0., 0., 0., 0., 0., 0., 0., 0., 0., 0., 0., 0.,\n",
      "          0., 0., 0., 0., 0., 0., 0., 0., 0., 0., 0., 0., 0., 0., 0., 0., 0.,\n",
      "          0., 0., 0., 0., 0., 0.]]]), \n",
      "shape: torch.Size([3, 1, 57])\n"
     ]
    }
   ],
   "source": [
    "# Test\n",
    "print(\"letterToIndex: \", letterToIndex('J'))\n",
    "print(f\"lineToTensor: {lineToTensor('ape')}, \\nshape: {lineToTensor('ape').shape}\")"
   ]
  },
  {
   "attachments": {
    "5cc9616f-ca65-41d6-88c3-fb7ba4073ccf.png": {
     "image/png": "[encoded data removed]"
    }
   },
   "cell_type": "markdown",
   "id": "c94058e0-3660-4026-b2e5-f71ca8e752b3",
   "metadata": {},
   "source": [
    "## Creating the Network\n",
    "\n",
    "Here, we'll create a simple RNN model first for performing classification.\n",
    "\n",
    "![image.png](attachment:5cc9616f-ca65-41d6-88c3-fb7ba4073ccf.png)"
   ]
  },
  {
   "cell_type": "code",
   "execution_count": 9,
   "id": "44190b37-2bb5-410c-821b-38b66e0bd0d5",
   "metadata": {},
   "outputs": [],
   "source": [
    "class RNN(nn.Module):\n",
    "    def __init__(self, in_size, hidden_size, out_size):\n",
    "        super(RNN, self).__init__()\n",
    "        \n",
    "        self.hidden_size = hidden_size\n",
    "        \n",
    "        # Combined Layer Output = input + hidden\n",
    "        self.i2o = nn.Linear(in_features=in_size + hidden_size, out_features=out_size)\n",
    "        self.i2h = nn.Linear(in_features=in_size + hidden_size, out_features=hidden_size)\n",
    "        self.softmax = nn.LogSoftmax(dim=1)\n",
    "    \n",
    "    def forward(self, input, hidden):\n",
    "        # print(f\"in: {input}, shape: {input.shape}\")\n",
    "        # print(f\"\\nhidden_prev: {hidden}, shape: {hidden.shape}\")\n",
    "        \n",
    "        combined = torch.cat((input, hidden), 1)\n",
    "        # print(f\"\\ncombined: {combined}, shape: {combined.shape}\")\n",
    "        \n",
    "        hidden = self.i2h(combined)\n",
    "        # print(f\"\\nhidden_next: {hidden}, shape: {hidden.shape}\")\n",
    "        \n",
    "        output = self.softmax(self.i2o(combined))\n",
    "        # print(f\"\\noutput: {output}, shape{output.shape}\")\n",
    "        \n",
    "        return output, hidden\n",
    "    \n",
    "    # Initialize Hidden Layer with Zeros\n",
    "    def initHidden(self):\n",
    "        return torch.zeros((1, self.hidden_size))"
   ]
  },
  {
   "cell_type": "code",
   "execution_count": 10,
   "id": "dca40369-8f67-427b-b3dc-4a8a9835aff6",
   "metadata": {},
   "outputs": [
    {
     "name": "stdout",
     "output_type": "stream",
     "text": [
      "RNN(\n",
      "  (i2o): Linear(in_features=185, out_features=18, bias=True)\n",
      "  (i2h): Linear(in_features=185, out_features=128, bias=True)\n",
      "  (softmax): LogSoftmax(dim=1)\n",
      ")\n"
     ]
    }
   ],
   "source": [
    "n_categories = len(all_categories)\n",
    "n_hidden = 128\n",
    "\n",
    "rnn = RNN(in_size=n_letters, hidden_size=n_hidden, out_size=n_categories)\n",
    "print(rnn)"
   ]
  },
  {
   "cell_type": "code",
   "execution_count": 11,
   "id": "5e444f5b-563d-4cf7-8456-6885bf9658e1",
   "metadata": {},
   "outputs": [
    {
     "name": "stdout",
     "output_type": "stream",
     "text": [
      "output: torch.Size([1, 18]), next_hidden: torch.Size([1, 128])\n"
     ]
    }
   ],
   "source": [
    "# TEST: One Character as Input\n",
    "input = letterToTensor(\"A\")\n",
    "hidden = torch.zeros(1, n_hidden)\n",
    "\n",
    "output, next_hidden = rnn(input, hidden)\n",
    "print(f\"output: {output.shape}, next_hidden: {next_hidden.shape}\")"
   ]
  },
  {
   "cell_type": "code",
   "execution_count": 12,
   "id": "24caac2a-1c56-4ef0-8c42-c18d2ed0ca29",
   "metadata": {},
   "outputs": [
    {
     "name": "stdout",
     "output_type": "stream",
     "text": [
      "output: tensor([[-2.9388, -3.0059, -2.9733, -2.9006, -2.9282, -2.9148, -2.9378, -2.9886,\n",
      "         -2.8060, -2.9766, -2.8329, -2.8388, -2.8630, -2.8619, -2.8397, -2.7695,\n",
      "         -2.8216, -2.8692]], grad_fn=<LogSoftmaxBackward0>), shape: torch.Size([1, 18])\n",
      "\n",
      "next_hidden: tensor([[ 0.0414, -0.0731,  0.0592, -0.0429, -0.0566,  0.0569, -0.0497, -0.0544,\n",
      "          0.0060, -0.0199, -0.0488, -0.0314, -0.0628,  0.0467, -0.0380, -0.0885,\n",
      "          0.0154,  0.0218,  0.0203,  0.1115,  0.0593,  0.0402,  0.0780,  0.0087,\n",
      "         -0.0194, -0.0370, -0.0160,  0.1268, -0.0216, -0.0432, -0.0152,  0.0408,\n",
      "          0.0953,  0.0616,  0.0712, -0.0235, -0.0072,  0.1011,  0.0773,  0.0185,\n",
      "         -0.1373,  0.0080,  0.0302, -0.0574, -0.0644,  0.1190,  0.1007, -0.0246,\n",
      "          0.0928, -0.0052,  0.0865, -0.0494, -0.0088,  0.0452,  0.0240,  0.0438,\n",
      "         -0.0140,  0.0085,  0.0051, -0.0641, -0.0378, -0.0622,  0.0122, -0.0484,\n",
      "          0.1204,  0.0523,  0.0057, -0.0035,  0.0116,  0.0102,  0.0568, -0.0564,\n",
      "         -0.0337,  0.1054, -0.0160, -0.0740, -0.0227,  0.0993,  0.0864,  0.0935,\n",
      "         -0.0080, -0.0317, -0.0238,  0.0393,  0.0135, -0.0971, -0.0458,  0.0368,\n",
      "          0.0112, -0.0127, -0.0140, -0.0656, -0.0063, -0.0363, -0.0920, -0.0694,\n",
      "         -0.1187, -0.0422,  0.0352, -0.1108,  0.0022, -0.0431,  0.0387, -0.0051,\n",
      "         -0.0274, -0.0305,  0.0173,  0.1113,  0.0172, -0.0741, -0.1178,  0.0175,\n",
      "         -0.0037,  0.0291,  0.0534,  0.0874,  0.0808, -0.0440, -0.0488, -0.0946,\n",
      "          0.1057,  0.1110,  0.0071, -0.0934, -0.0684,  0.0501, -0.0652, -0.0042]],\n",
      "       grad_fn=<AddmmBackward0>), shape: torch.Size([1, 128])\n"
     ]
    }
   ],
   "source": [
    "# TEST: Full Word as Input\n",
    "input = lineToTensor(\"Anuj\")\n",
    "hidden = torch.zeros(1, n_hidden)\n",
    "\n",
    "output, next_hidden = rnn(input[0], hidden)\n",
    "print(f\"output: {output}, shape: {output.shape}\")\n",
    "print(f\"\\nnext_hidden: {next_hidden}, shape: {next_hidden.shape}\")"
   ]
  },
  {
   "cell_type": "markdown",
   "id": "24aa0c54-385a-4163-b5cb-ed1822379d7c",
   "metadata": {},
   "source": [
    "As we can see the output is a `<1 x n_categories>` Tensor, where every item is the likelihood of that category (higher is more likely)."
   ]
  },
  {
   "cell_type": "markdown",
   "id": "69473176-435e-4087-9dcd-0c2fc164e5af",
   "metadata": {},
   "source": [
    "## Training\n",
    "\n",
    "Before going into training we should make a few helper functions. The first is to interpret the output of the network, which we know to be a likelihood of each category. We can use `Tensor.topk` to get the index of the greatest value:"
   ]
  },
  {
   "cell_type": "code",
   "execution_count": 13,
   "id": "01efde95-af59-41cf-abe2-a948a8e3b441",
   "metadata": {},
   "outputs": [],
   "source": [
    "def categoryFromOutput(output):\n",
    "    # Index of top-1 probability from predictions\n",
    "    top_n, top_i = output.topk(1)\n",
    "    category_i = top_i[0].item()\n",
    "    \n",
    "    return all_categories[category_i], category_i"
   ]
  },
  {
   "cell_type": "code",
   "execution_count": 14,
   "id": "f2946213-f3c6-4f7a-a2e5-1d36a250c80e",
   "metadata": {},
   "outputs": [
    {
     "name": "stdout",
     "output_type": "stream",
     "text": [
      "('Dutch', 15)\n"
     ]
    }
   ],
   "source": [
    "# Predicted label & category index\n",
    "print(categoryFromOutput(output))"
   ]
  },
  {
   "cell_type": "code",
   "execution_count": 15,
   "id": "1fed2c60-4d01-4b0a-831e-77c38ea299a4",
   "metadata": {},
   "outputs": [
    {
     "name": "stdout",
     "output_type": "stream",
     "text": [
      "category = Czech / line = Cermak / category_tensor_shape = torch.Size([1]) / line_tensor_shape = torch.Size([6, 1, 57])\n",
      "category = Russian / line = Yatzyshin / category_tensor_shape = torch.Size([1]) / line_tensor_shape = torch.Size([9, 1, 57])\n",
      "category = German / line = Grosz / category_tensor_shape = torch.Size([1]) / line_tensor_shape = torch.Size([5, 1, 57])\n",
      "category = Italian / line = Lama / category_tensor_shape = torch.Size([1]) / line_tensor_shape = torch.Size([4, 1, 57])\n",
      "category = Chinese / line = Yep / category_tensor_shape = torch.Size([1]) / line_tensor_shape = torch.Size([3, 1, 57])\n",
      "category = English / line = Robbins / category_tensor_shape = torch.Size([1]) / line_tensor_shape = torch.Size([7, 1, 57])\n",
      "category = Spanish / line = Suarez / category_tensor_shape = torch.Size([1]) / line_tensor_shape = torch.Size([6, 1, 57])\n",
      "category = Polish / line = Kaluza / category_tensor_shape = torch.Size([1]) / line_tensor_shape = torch.Size([6, 1, 57])\n",
      "category = English / line = Gilks / category_tensor_shape = torch.Size([1]) / line_tensor_shape = torch.Size([5, 1, 57])\n",
      "category = Chinese / line = Khu / category_tensor_shape = torch.Size([1]) / line_tensor_shape = torch.Size([3, 1, 57])\n"
     ]
    }
   ],
   "source": [
    "import random\n",
    "\n",
    "def randomChoice(l):\n",
    "    return l[random.randint(0, len(l) - 1)]\n",
    "\n",
    "def randomTrainingExample():\n",
    "    # Pick a category at random from all categories\n",
    "    category = randomChoice(all_categories)\n",
    "    \n",
    "    # Get random name from the selected category\n",
    "    line = randomChoice(category_lines[category])\n",
    "    \n",
    "    # GT Label - Category Tensor containing index of categories\n",
    "    category_tensor = torch.tensor([all_categories.index(category)], dtype=torch.long)\n",
    "    \n",
    "    # Create a One Hot Encoded Tensor corresponding to the characters\n",
    "    # in the random name selected from a random category\n",
    "    # Shape = (len(word), 1, total_number_of_letters)\n",
    "    line_tensor = lineToTensor(line)\n",
    "    \n",
    "    return category, line, category_tensor, line_tensor\n",
    "\n",
    "\n",
    "for i in range(10):\n",
    "    category, line, category_tensor, line_tensor = randomTrainingExample()\n",
    "    print('category =', category, '/ line =', line, '/ category_tensor_shape =', category_tensor.shape, '/ line_tensor_shape =', line_tensor.shape)"
   ]
  },
  {
   "cell_type": "code",
   "execution_count": 16,
   "id": "58d945eb-03c3-4112-9361-47ea08abc3f5",
   "metadata": {},
   "outputs": [],
   "source": [
    "# Loss\n",
    "criterion = nn.NLLLoss()"
   ]
  },
  {
   "cell_type": "markdown",
   "id": "8095a51e-e98f-460f-a29e-0c3f9901a39d",
   "metadata": {},
   "source": [
    "Each loop of training will:\n",
    "\n",
    "1. Create input and target tensors\n",
    "2. Create a zeroed initial hidden state\n",
    "3. Read each letter in and\n",
    "4. Keep hidden state for next letter\n",
    "5. Compare final output to target\n",
    "6. Back-propagate the loss\n",
    "7. Return the output and loss"
   ]
  },
  {
   "cell_type": "code",
   "execution_count": 17,
   "id": "cb130796-8073-43bc-9a6d-03b9f91c75e2",
   "metadata": {},
   "outputs": [],
   "source": [
    "# Learning Rate\n",
    "lr = 0.005\n",
    "\n",
    "def train(category_tensor, line_tensor):\n",
    "    \"\"\"\n",
    "        category_tensor: Ground Truth tensor containing the index of language category\n",
    "        line_tensor: Tensor containing One Hot Encoded characters in a word\n",
    "    \"\"\"\n",
    "    \n",
    "    # Initial Hidden State - torch.zero() tensor\n",
    "    hidden = rnn.initHidden()\n",
    "    \n",
    "    rnn.zero_grad()\n",
    "    \n",
    "    # Pass in OHE tensor for each word, character by character\n",
    "    for i in range(line_tensor.size()[0]):\n",
    "        # Output and next hidden state\n",
    "        output, hidden = rnn(line_tensor[i], hidden)\n",
    "    \n",
    "    loss = criterion(output, category_tensor)\n",
    "    loss.backward()\n",
    "    \n",
    "    # Add parameters' gradients to their values, multiplied by learning rate\n",
    "    for p in rnn.parameters():\n",
    "        p.data.add_(p.grad.data, alpha=-lr)\n",
    "    \n",
    "    return output, loss.item()"
   ]
  },
  {
   "cell_type": "code",
   "execution_count": 18,
   "id": "339f87eb-32c9-4f96-9ed3-25c0570a337a",
   "metadata": {},
   "outputs": [],
   "source": [
    "import time\n",
    "import math"
   ]
  },
  {
   "cell_type": "code",
   "execution_count": 19,
   "id": "03495018-b55f-45d1-af48-3970b342bb14",
   "metadata": {},
   "outputs": [],
   "source": [
    "n_iters = 100000\n",
    "print_every = 5000\n",
    "plot_every = 1000"
   ]
  },
  {
   "cell_type": "code",
   "execution_count": 20,
   "id": "89b995cd-77ba-4f6d-a476-d3fa8c2ba50b",
   "metadata": {},
   "outputs": [],
   "source": [
    "# Keep track of losses for plotting\n",
    "current_loss = 0\n",
    "all_losses = []\n",
    "\n",
    "def timeSince(since):\n",
    "    now = time.time()\n",
    "    s = now - since\n",
    "    m = math.floor(s / 60)\n",
    "    s -= m * 60\n",
    "    return '%dm %ds' % (m, s)"
   ]
  },
  {
   "cell_type": "code",
   "execution_count": 21,
   "id": "b8b0cfb4-c0b1-4a6e-827c-1f798af289d5",
   "metadata": {},
   "outputs": [
    {
     "name": "stdout",
     "output_type": "stream",
     "text": [
      "5000 5% (0m 3s) 2.4079 Amerighi / Dutch ✗ (Italian)\n",
      "10000 10% (0m 6s) 1.3826 Nam / Chinese ✗ (Korean)\n",
      "15000 15% (0m 9s) 2.1845 D'cruz / Spanish ✗ (Portuguese)\n",
      "20000 20% (0m 12s) 3.4283 Amador / Russian ✗ (Spanish)\n",
      "25000 25% (0m 15s) 0.7827 Hishida / Japanese ✓\n",
      "30000 30% (0m 19s) 1.4981 Sokolof / Czech ✗ (Polish)\n",
      "35000 35% (0m 22s) 2.8204 Gonzalez / Spanish ✗ (English)\n",
      "40000 40% (0m 25s) 1.6948 Urbina / Italian ✗ (Spanish)\n",
      "45000 45% (0m 28s) 0.7381 Podolinsky / Russian ✓\n",
      "50000 50% (0m 31s) 0.2599 Riagan / Irish ✓\n",
      "55000 55% (0m 35s) 0.8771 Murray / Scottish ✓\n",
      "60000 60% (0m 38s) 0.8228 Makino / Japanese ✓\n",
      "65000 65% (0m 42s) 1.3310 Greenberg / Dutch ✗ (German)\n",
      "70000 70% (0m 45s) 3.8880 Vandale / French ✗ (Dutch)\n",
      "75000 75% (0m 49s) 3.2326 Gaspar / Portuguese ✗ (Spanish)\n",
      "80000 80% (0m 52s) 2.9876 Sessa / Czech ✗ (Italian)\n",
      "85000 85% (0m 56s) 0.6299 Gong / Chinese ✓\n",
      "90000 90% (0m 59s) 0.2075 Khoury / Arabic ✓\n",
      "95000 95% (1m 2s) 2.5050 Baumbach / French ✗ (German)\n",
      "100000 100% (1m 6s) 3.0053 Almasi / Italian ✗ (Arabic)\n"
     ]
    }
   ],
   "source": [
    "start = time.time()\n",
    "\n",
    "for iter in range(1, n_iters + 1):\n",
    "    # Get a tensor for a random word and corresponding Ground truth category Tensor\n",
    "    category, line, category_tensor, line_tensor = randomTrainingExample()\n",
    "    \n",
    "    # Train the Model, returns output at current timestep & next hidden state\n",
    "    output, loss = train(category_tensor, line_tensor)\n",
    "    current_loss += loss\n",
    "\n",
    "    # Print iter number, loss, name and guess\n",
    "    if iter % print_every == 0:\n",
    "        guess, guess_i = categoryFromOutput(output)\n",
    "        correct = '✓' if guess == category else '✗ (%s)' % category\n",
    "        print('%d %d%% (%s) %.4f %s / %s %s' % (iter, iter / n_iters * 100, timeSince(start), loss, line, guess, correct))\n",
    "\n",
    "    # Add current loss avg to list of losses\n",
    "    if iter % plot_every == 0:\n",
    "        all_losses.append(current_loss / plot_every)\n",
    "        current_loss = 0"
   ]
  },
  {
   "cell_type": "code",
   "execution_count": 22,
   "id": "97ad8f7c-e7d5-42aa-8e27-d4a4943b0257",
   "metadata": {},
   "outputs": [
    {
     "data": {
      "text/plain": [
       "[<matplotlib.lines.Line2D at 0x1245b33a0>]"
      ]
     },
     "execution_count": 22,
     "metadata": {},
     "output_type": "execute_result"
    },
    {
     "data": {
      "image/png": "[encoded data removed]",
      "text/plain": [
       "<Figure size 432x288 with 1 Axes>"
      ]
     },
     "metadata": {
      "needs_background": "light"
     },
     "output_type": "display_data"
    }
   ],
   "source": [
    "# Plotting the Training Results\n",
    "import matplotlib.pyplot as plt\n",
    "import matplotlib.ticker as ticker\n",
    "\n",
    "plt.figure()\n",
    "plt.plot(all_losses)"
   ]
  },
  {
   "cell_type": "markdown",
   "id": "45b57ce7-2bbd-4327-b725-a1a43f6253f6",
   "metadata": {},
   "source": [
    "## Evaluate Trained Model"
   ]
  },
  {
   "cell_type": "code",
   "execution_count": 23,
   "id": "5e957d79-87c3-4eca-abba-733dd6d6e061",
   "metadata": {},
   "outputs": [],
   "source": [
    "# Just return an output given a line\n",
    "def evaluate(line_tensor):\n",
    "    hidden = rnn.initHidden()\n",
    "\n",
    "    for i in range(line_tensor.size()[0]):\n",
    "        output, hidden = rnn(line_tensor[i], hidden)\n",
    "\n",
    "    return output"
   ]
  },
  {
   "cell_type": "code",
   "execution_count": 24,
   "id": "9c9f2889-2afb-4f9b-b2bd-8e1362922b44",
   "metadata": {},
   "outputs": [],
   "source": [
    "# Keep track of correct guesses in a confusion matrix\n",
    "confusion = torch.zeros(n_categories, n_categories)\n",
    "n_confusion = 10000"
   ]
  },
  {
   "cell_type": "code",
   "execution_count": 25,
   "id": "82a86e25-1086-4263-91ab-006834f8650f",
   "metadata": {},
   "outputs": [],
   "source": [
    "# Go through a bunch of examples and record which are correctly guessed\n",
    "for i in range(n_confusion):\n",
    "    category, line, category_tensor, line_tensor = randomTrainingExample()\n",
    "    output = evaluate(line_tensor)\n",
    "    guess, guess_i = categoryFromOutput(output)\n",
    "    category_i = all_categories.index(category)\n",
    "    confusion[category_i][guess_i] += 1\n",
    "\n",
    "# Normalize by dividing every row by its sum\n",
    "for i in range(n_categories):\n",
    "    confusion[i] = confusion[i] / confusion[i].sum()"
   ]
  },
  {
   "cell_type": "code",
   "execution_count": 26,
   "id": "46f64214-7735-412a-98d5-9e7291d859c6",
   "metadata": {},
   "outputs": [
    {
     "name": "stderr",
     "output_type": "stream",
     "text": [
      "/var/folders/rk/3j211bj53lb3k3wgfh02x3p80000gn/T/ipykernel_5565/1733772511.py:8: UserWarning: FixedFormatter should only be used together with FixedLocator\n",
      "  ax.set_xticklabels([''] + all_categories, rotation=90)\n",
      "/var/folders/rk/3j211bj53lb3k3wgfh02x3p80000gn/T/ipykernel_5565/1733772511.py:9: UserWarning: FixedFormatter should only be used together with FixedLocator\n",
      "  ax.set_yticklabels([''] + all_categories)\n"
     ]
    },
    {
     "data": {
      "image/png": "[encoded data removed]",
      "text/plain": [
       "<Figure size 1440x720 with 2 Axes>"
      ]
     },
     "metadata": {
      "needs_background": "light"
     },
     "output_type": "display_data"
    }
   ],
   "source": [
    "# Set up plot\n",
    "fig = plt.figure(figsize=(20,10))\n",
    "ax = fig.add_subplot(111)\n",
    "cax = ax.matshow(confusion.numpy())\n",
    "fig.colorbar(cax)\n",
    "\n",
    "# Set up axes\n",
    "ax.set_xticklabels([''] + all_categories, rotation=90)\n",
    "ax.set_yticklabels([''] + all_categories)\n",
    "\n",
    "# Force label at every tick\n",
    "ax.xaxis.set_major_locator(ticker.MultipleLocator(1))\n",
    "ax.yaxis.set_major_locator(ticker.MultipleLocator(1))\n",
    "\n",
    "# sphinx_gallery_thumbnail_number = 2\n",
    "plt.show()"
   ]
  },
  {
   "cell_type": "markdown",
   "id": "1e6aaa78-6d7f-434f-80c9-32aaae1cba77",
   "metadata": {},
   "source": [
    "## Inferencing on User Input"
   ]
  },
  {
   "cell_type": "code",
   "execution_count": 27,
   "id": "21a939c2-2378-41e1-9151-f5af2ea83fa3",
   "metadata": {},
   "outputs": [],
   "source": [
    "def predict(input_line, n_predictions=3):\n",
    "    print('\\n> %s' % input_line)\n",
    "    with torch.no_grad():\n",
    "        output = evaluate(lineToTensor(input_line))\n",
    "\n",
    "        # Get top N categories\n",
    "        topv, topi = output.topk(n_predictions, 1, True)\n",
    "        predictions = []\n",
    "\n",
    "        for i in range(n_predictions):\n",
    "            value = topv[0][i].item()\n",
    "            category_index = topi[0][i].item()\n",
    "            print('(%.2f) %s' % (value, all_categories[category_index]))\n",
    "            predictions.append([value, all_categories[category_index]])"
   ]
  },
  {
   "cell_type": "code",
   "execution_count": 28,
   "id": "99bfbf22-e891-4340-8505-f9c98d23c8df",
   "metadata": {},
   "outputs": [
    {
     "name": "stdout",
     "output_type": "stream",
     "text": [
      "\n",
      "> Jackson\n",
      "(-0.34) Scottish\n",
      "(-2.09) English\n",
      "(-3.02) Russian\n"
     ]
    }
   ],
   "source": [
    "predict('Jackson')"
   ]
  },
  {
   "cell_type": "code",
   "execution_count": 29,
   "id": "121c410d-fb96-4e74-8f8b-683d007c47b9",
   "metadata": {},
   "outputs": [
    {
     "name": "stdout",
     "output_type": "stream",
     "text": [
      "\n",
      "> Satoshi\n",
      "(-1.09) Japanese\n",
      "(-1.69) Arabic\n",
      "(-1.89) Italian\n"
     ]
    }
   ],
   "source": [
    "predict('Satoshi')"
   ]
  }
 ],
 "metadata": {
  "kernelspec": {
   "display_name": "Python 3 (ipykernel)",
   "language": "python",
   "name": "python3"
  },
  "language_info": {
   "codemirror_mode": {
    "name": "ipython",
    "version": 3
   },
   "file_extension": ".py",
   "mimetype": "text/x-python",
   "name": "python",
   "nbconvert_exporter": "python",
   "pygments_lexer": "ipython3",
   "version": "3.9.7"
  }
 },
 "nbformat": 4,
 "nbformat_minor": 5
}
